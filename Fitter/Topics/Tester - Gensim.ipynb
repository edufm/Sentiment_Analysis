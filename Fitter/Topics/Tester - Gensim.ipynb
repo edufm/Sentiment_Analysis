{
 "cells": [
  {
   "cell_type": "code",
   "execution_count": 3,
   "metadata": {},
   "outputs": [
    {
     "name": "stderr",
     "output_type": "stream",
     "text": [
      "C:\\Users\\edufe\\Anaconda3\\lib\\site-packages\\smart_open\\ssh.py:34: UserWarning: paramiko missing, opening SSH/SCP/SFTP paths will be disabled.  `pip install paramiko` to suppress\n",
      "  warnings.warn('paramiko missing, opening SSH/SCP/SFTP paths will be disabled.  `pip install paramiko` to suppress')\n",
      "C:\\Users\\edufe\\Anaconda3\\lib\\site-packages\\gensim\\utils.py:1197: UserWarning: detected Windows; aliasing chunkize to chunkize_serial\n",
      "  warnings.warn(\"detected Windows; aliasing chunkize to chunkize_serial\")\n"
     ]
    }
   ],
   "source": [
    "# more common imports\n",
    "import pandas as pd\n",
    "import numpy as np\n",
    "from collections import Counter\n",
    "import re\n",
    "import os\n",
    "\n",
    "# languange processing imports\n",
    "import nltk\n",
    "from gensim.corpora import Dictionary\n",
    "# preprocessing imports\n",
    "from sklearn.preprocessing import LabelEncoder\n",
    "\n",
    "# model imports\n",
    "from gensim.models.ldamulticore import LdaMulticore\n",
    "from gensim.models.word2vec import Word2Vec\n",
    "from sklearn.ensemble import RandomForestClassifier, AdaBoostClassifier\n",
    "from sklearn.linear_model import LogisticRegression\n",
    "# hyperparameter training imports\n",
    "from sklearn.model_selection import GridSearchCV\n",
    "\n",
    "# visualization imports\n",
    "from IPython.display import display\n",
    "import seaborn as sns\n",
    "import matplotlib.pyplot as plt\n",
    "import matplotlib.image as mpimg\n",
    "import base64\n",
    "import io\n",
    "%matplotlib inline\n",
    "sns.set()  # defines the style of the plots to be seaborn style"
   ]
  },
  {
   "cell_type": "markdown",
   "metadata": {},
   "source": [
    "# Abre os dados"
   ]
  },
  {
   "cell_type": "code",
   "execution_count": 4,
   "metadata": {},
   "outputs": [],
   "source": [
    "A = pd.read_excel(\"../Filter/Sanity.xlsx\", sep=\",\", header=None)\n",
    "Carros = str(list(A.iloc[0])[0]).split(\",\")\n",
    "Frutas = str(list(A.iloc[1])[0]).split(\",\")\n",
    "Animais = str(list(A.iloc[2])[0]).split(\",\")"
   ]
  },
  {
   "cell_type": "code",
   "execution_count": 5,
   "metadata": {},
   "outputs": [],
   "source": [
    "import random\n",
    " \n",
    "X = []\n",
    "n_samples = 1000\n",
    "Textlens = 10\n",
    "\n",
    "for i in range(n_samples):\n",
    "    List = random.randint(1,3)\n",
    "    if List == 1:\n",
    "        ThisItem = random.choice(Carros).lower() \n",
    "        for j in range(Textlens):\n",
    "            ThisItem = ThisItem + \" \" + random.choice(Carros).lower() \n",
    "    if List == 2:\n",
    "        ThisItem = random.choice(Frutas).lower() \n",
    "        for j in range(Textlens):\n",
    "            ThisItem = ThisItem + \" \" + random.choice(Frutas).lower() \n",
    "    if List == 3:\n",
    "        ThisItem = random.choice(Animais).lower() \n",
    "        for j in range(Textlens):\n",
    "            ThisItem = ThisItem + \" \" + random.choice(Animais).lower() \n",
    "            \n",
    "    X.append(ThisItem) "
   ]
  },
  {
   "cell_type": "code",
   "execution_count": 10,
   "metadata": {},
   "outputs": [
    {
     "data": {
      "text/html": [
       "<div>\n",
       "<style scoped>\n",
       "    .dataframe tbody tr th:only-of-type {\n",
       "        vertical-align: middle;\n",
       "    }\n",
       "\n",
       "    .dataframe tbody tr th {\n",
       "        vertical-align: top;\n",
       "    }\n",
       "\n",
       "    .dataframe thead th {\n",
       "        text-align: right;\n",
       "    }\n",
       "</style>\n",
       "<table border=\"1\" class=\"dataframe\">\n",
       "  <thead>\n",
       "    <tr style=\"text-align: right;\">\n",
       "      <th></th>\n",
       "      <th>Texto</th>\n",
       "    </tr>\n",
       "  </thead>\n",
       "  <tbody>\n",
       "    <tr>\n",
       "      <th>566</th>\n",
       "      <td>zafira  hafei  journey  tracker  kia  hafei ...</td>\n",
       "    </tr>\n",
       "    <tr>\n",
       "      <th>947</th>\n",
       "      <td>jerivá rambai fruta-do-milagre kabosu pupunha ...</td>\n",
       "    </tr>\n",
       "    <tr>\n",
       "      <th>540</th>\n",
       "      <td>celer sedan  strada  r8  fiorino  gla  transi...</td>\n",
       "    </tr>\n",
       "    <tr>\n",
       "      <th>2</th>\n",
       "      <td>effa hafei  ec7  classe c 63 amg touring  q3 ...</td>\n",
       "    </tr>\n",
       "    <tr>\n",
       "      <th>24</th>\n",
       "      <td>tucson  classe amarok  palio  bravo  astra ha...</td>\n",
       "    </tr>\n",
       "  </tbody>\n",
       "</table>\n",
       "</div>"
      ],
      "text/plain": [
       "                                                 Texto\n",
       "566    zafira  hafei  journey  tracker  kia  hafei ...\n",
       "947  jerivá rambai fruta-do-milagre kabosu pupunha ...\n",
       "540   celer sedan  strada  r8  fiorino  gla  transi...\n",
       "2     effa hafei  ec7  classe c 63 amg touring  q3 ...\n",
       "24    tucson  classe amarok  palio  bravo  astra ha..."
      ]
     },
     "execution_count": 10,
     "metadata": {},
     "output_type": "execute_result"
    }
   ],
   "source": [
    "AllData = pd.DataFrame({\"Texto\":X})\n",
    "AllData.sample(5)"
   ]
  },
  {
   "cell_type": "code",
   "execution_count": 12,
   "metadata": {},
   "outputs": [
    {
     "name": "stderr",
     "output_type": "stream",
     "text": [
      "[nltk_data] Downloading package punkt to\n",
      "[nltk_data]     C:\\Users\\edufe\\AppData\\Roaming\\nltk_data...\n",
      "[nltk_data]   Package punkt is already up-to-date!\n",
      "[nltk_data] Downloading package stopwords to\n",
      "[nltk_data]     C:\\Users\\edufe\\AppData\\Roaming\\nltk_data...\n",
      "[nltk_data]   Package stopwords is already up-to-date!\n",
      "[nltk_data] Downloading package wordnet to\n",
      "[nltk_data]     C:\\Users\\edufe\\AppData\\Roaming\\nltk_data...\n",
      "[nltk_data]   Package wordnet is already up-to-date!\n"
     ]
    },
    {
     "data": {
      "text/plain": [
       "True"
      ]
     },
     "execution_count": 12,
     "metadata": {},
     "output_type": "execute_result"
    }
   ],
   "source": [
    "nltk.download('punkt')\n",
    "nltk.download('stopwords')\n",
    "nltk.download('wordnet')"
   ]
  },
  {
   "cell_type": "code",
   "execution_count": 11,
   "metadata": {},
   "outputs": [],
   "source": [
    "# Here we get transform the documents into sentences for the word2vecmodel\n",
    "# we made a function such that later on when we make the submission, we don't need to write duplicate code\n",
    "def w2v_preprocessing(df):\n",
    "    \"\"\" All the preprocessing steps for word2vec are done in this function.\n",
    "    All mutations are done on the dataframe itself. So this function returns\n",
    "    nothing.\n",
    "    \"\"\"\n",
    "    df['document_sentences'] = df.Texto.str.split('.')  # split texts into individual sentences\n",
    "    df['tokenized_sentences'] = list(map(lambda sentences:\n",
    "                                         list(map(nltk.word_tokenize, sentences)),\n",
    "                                         df.document_sentences))  # tokenize sentences\n",
    "    df['tokenized_sentences'] = list(map(lambda sentences:\n",
    "                                         list(sentences),\n",
    "                                         df.tokenized_sentences))  # remove unwanted characters\n",
    "    df['tokenized_sentences'] = list(map(lambda sentences:\n",
    "                                         list(filter(lambda lst: lst, sentences)),\n",
    "                                         df.tokenized_sentences))  # remove empty lists\n",
    "\n",
    "w2v_preprocessing(AllData)"
   ]
  },
  {
   "cell_type": "code",
   "execution_count": 12,
   "metadata": {},
   "outputs": [
    {
     "data": {
      "text/html": [
       "<div>\n",
       "<style scoped>\n",
       "    .dataframe tbody tr th:only-of-type {\n",
       "        vertical-align: middle;\n",
       "    }\n",
       "\n",
       "    .dataframe tbody tr th {\n",
       "        vertical-align: top;\n",
       "    }\n",
       "\n",
       "    .dataframe thead th {\n",
       "        text-align: right;\n",
       "    }\n",
       "</style>\n",
       "<table border=\"1\" class=\"dataframe\">\n",
       "  <thead>\n",
       "    <tr style=\"text-align: right;\">\n",
       "      <th></th>\n",
       "      <th>Texto</th>\n",
       "      <th>document_sentences</th>\n",
       "      <th>tokenized_sentences</th>\n",
       "    </tr>\n",
       "  </thead>\n",
       "  <tbody>\n",
       "    <tr>\n",
       "      <th>605</th>\n",
       "      <td>imbu akee camu-camu pêssego cranberry pera cam...</td>\n",
       "      <td>[imbu akee camu-camu pêssego cranberry pera ca...</td>\n",
       "      <td>[[imbu, akee, camu-camu, pêssego, cranberry, p...</td>\n",
       "    </tr>\n",
       "    <tr>\n",
       "      <th>591</th>\n",
       "      <td>cobalt  série 7 sedã  effa  320  picape cabin...</td>\n",
       "      <td>[ cobalt  série 7 sedã  effa  320  picape cabi...</td>\n",
       "      <td>[[cobalt, série, 7, sedã, effa, 320, picape, c...</td>\n",
       "    </tr>\n",
       "    <tr>\n",
       "      <th>886</th>\n",
       "      <td>biribá granadilla alfarroba gabiroba murici pu...</td>\n",
       "      <td>[biribá granadilla alfarroba gabiroba murici p...</td>\n",
       "      <td>[[biribá, granadilla, alfarroba, gabiroba, mur...</td>\n",
       "    </tr>\n",
       "    <tr>\n",
       "      <th>893</th>\n",
       "      <td>fruta com r baru murici tucumã bacupari pitang...</td>\n",
       "      <td>[fruta com r baru murici tucumã bacupari pitan...</td>\n",
       "      <td>[[fruta, com, r, baru, murici, tucumã, bacupar...</td>\n",
       "    </tr>\n",
       "    <tr>\n",
       "      <th>16</th>\n",
       "      <td>cirurgiões agapornis gato cardeal petauro de a...</td>\n",
       "      <td>[cirurgiões agapornis gato cardeal petauro de ...</td>\n",
       "      <td>[[cirurgiões, agapornis, gato, cardeal, petaur...</td>\n",
       "    </tr>\n",
       "  </tbody>\n",
       "</table>\n",
       "</div>"
      ],
      "text/plain": [
       "                                                 Texto  \\\n",
       "605  imbu akee camu-camu pêssego cranberry pera cam...   \n",
       "591   cobalt  série 7 sedã  effa  320  picape cabin...   \n",
       "886  biribá granadilla alfarroba gabiroba murici pu...   \n",
       "893  fruta com r baru murici tucumã bacupari pitang...   \n",
       "16   cirurgiões agapornis gato cardeal petauro de a...   \n",
       "\n",
       "                                    document_sentences  \\\n",
       "605  [imbu akee camu-camu pêssego cranberry pera ca...   \n",
       "591  [ cobalt  série 7 sedã  effa  320  picape cabi...   \n",
       "886  [biribá granadilla alfarroba gabiroba murici p...   \n",
       "893  [fruta com r baru murici tucumã bacupari pitan...   \n",
       "16   [cirurgiões agapornis gato cardeal petauro de ...   \n",
       "\n",
       "                                   tokenized_sentences  \n",
       "605  [[imbu, akee, camu-camu, pêssego, cranberry, p...  \n",
       "591  [[cobalt, série, 7, sedã, effa, 320, picape, c...  \n",
       "886  [[biribá, granadilla, alfarroba, gabiroba, mur...  \n",
       "893  [[fruta, com, r, baru, murici, tucumã, bacupar...  \n",
       "16   [[cirurgiões, agapornis, gato, cardeal, petaur...  "
      ]
     },
     "execution_count": 12,
     "metadata": {},
     "output_type": "execute_result"
    }
   ],
   "source": [
    "AllData.sample(5)"
   ]
  },
  {
   "cell_type": "code",
   "execution_count": 13,
   "metadata": {},
   "outputs": [],
   "source": [
    "def lda_get_good_tokens(df):\n",
    "    df['tokenized_text'] = list(map(nltk.word_tokenize, df.Texto))\n",
    "    df['tokenized_text'] = list(df.tokenized_text)\n",
    "\n",
    "lda_get_good_tokens(AllData)"
   ]
  },
  {
   "cell_type": "code",
   "execution_count": 14,
   "metadata": {
    "scrolled": true
   },
   "outputs": [
    {
     "data": {
      "text/html": [
       "<div>\n",
       "<style scoped>\n",
       "    .dataframe tbody tr th:only-of-type {\n",
       "        vertical-align: middle;\n",
       "    }\n",
       "\n",
       "    .dataframe tbody tr th {\n",
       "        vertical-align: top;\n",
       "    }\n",
       "\n",
       "    .dataframe thead th {\n",
       "        text-align: right;\n",
       "    }\n",
       "</style>\n",
       "<table border=\"1\" class=\"dataframe\">\n",
       "  <thead>\n",
       "    <tr style=\"text-align: right;\">\n",
       "      <th></th>\n",
       "      <th>Texto</th>\n",
       "      <th>document_sentences</th>\n",
       "      <th>tokenized_sentences</th>\n",
       "      <th>tokenized_text</th>\n",
       "    </tr>\n",
       "  </thead>\n",
       "  <tbody>\n",
       "    <tr>\n",
       "      <th>98</th>\n",
       "      <td>uva quiuí langsat marmelo engkala murici noz-p...</td>\n",
       "      <td>[uva quiuí langsat marmelo engkala murici noz-...</td>\n",
       "      <td>[[uva, quiuí, langsat, marmelo, engkala, muric...</td>\n",
       "      <td>[uva, quiuí, langsat, marmelo, engkala, murici...</td>\n",
       "    </tr>\n",
       "    <tr>\n",
       "      <th>37</th>\n",
       "      <td>calamondin tucujá nectarina meloa lucuma karit...</td>\n",
       "      <td>[calamondin tucujá nectarina meloa lucuma kari...</td>\n",
       "      <td>[[calamondin, tucujá, nectarina, meloa, lucuma...</td>\n",
       "      <td>[calamondin, tucujá, nectarina, meloa, lucuma,...</td>\n",
       "    </tr>\n",
       "    <tr>\n",
       "      <th>341</th>\n",
       "      <td>ducato  astra sedan  gla  freelander 2  effa ...</td>\n",
       "      <td>[ ducato  astra sedan  gla  freelander 2  effa...</td>\n",
       "      <td>[[ducato, astra, sedan, gla, freelander, 2, ef...</td>\n",
       "      <td>[ducato, astra, sedan, gla, freelander, 2, eff...</td>\n",
       "    </tr>\n",
       "    <tr>\n",
       "      <th>206</th>\n",
       "      <td>pitangatuba inharé babaçu sapoti kumquat figo-...</td>\n",
       "      <td>[pitangatuba inharé babaçu sapoti kumquat figo...</td>\n",
       "      <td>[[pitangatuba, inharé, babaçu, sapoti, kumquat...</td>\n",
       "      <td>[pitangatuba, inharé, babaçu, sapoti, kumquat,...</td>\n",
       "    </tr>\n",
       "    <tr>\n",
       "      <th>18</th>\n",
       "      <td>cavalo poecilídeos porco doméstico piriquitos ...</td>\n",
       "      <td>[cavalo poecilídeos porco doméstico piriquitos...</td>\n",
       "      <td>[[cavalo, poecilídeos, porco, doméstico, piriq...</td>\n",
       "      <td>[cavalo, poecilídeos, porco, doméstico, piriqu...</td>\n",
       "    </tr>\n",
       "  </tbody>\n",
       "</table>\n",
       "</div>"
      ],
      "text/plain": [
       "                                                 Texto  \\\n",
       "98   uva quiuí langsat marmelo engkala murici noz-p...   \n",
       "37   calamondin tucujá nectarina meloa lucuma karit...   \n",
       "341   ducato  astra sedan  gla  freelander 2  effa ...   \n",
       "206  pitangatuba inharé babaçu sapoti kumquat figo-...   \n",
       "18   cavalo poecilídeos porco doméstico piriquitos ...   \n",
       "\n",
       "                                    document_sentences  \\\n",
       "98   [uva quiuí langsat marmelo engkala murici noz-...   \n",
       "37   [calamondin tucujá nectarina meloa lucuma kari...   \n",
       "341  [ ducato  astra sedan  gla  freelander 2  effa...   \n",
       "206  [pitangatuba inharé babaçu sapoti kumquat figo...   \n",
       "18   [cavalo poecilídeos porco doméstico piriquitos...   \n",
       "\n",
       "                                   tokenized_sentences  \\\n",
       "98   [[uva, quiuí, langsat, marmelo, engkala, muric...   \n",
       "37   [[calamondin, tucujá, nectarina, meloa, lucuma...   \n",
       "341  [[ducato, astra, sedan, gla, freelander, 2, ef...   \n",
       "206  [[pitangatuba, inharé, babaçu, sapoti, kumquat...   \n",
       "18   [[cavalo, poecilídeos, porco, doméstico, piriq...   \n",
       "\n",
       "                                        tokenized_text  \n",
       "98   [uva, quiuí, langsat, marmelo, engkala, murici...  \n",
       "37   [calamondin, tucujá, nectarina, meloa, lucuma,...  \n",
       "341  [ducato, astra, sedan, gla, freelander, 2, eff...  \n",
       "206  [pitangatuba, inharé, babaçu, sapoti, kumquat,...  \n",
       "18   [cavalo, poecilídeos, porco, doméstico, piriqu...  "
      ]
     },
     "execution_count": 14,
     "metadata": {},
     "output_type": "execute_result"
    }
   ],
   "source": [
    "AllData.sample(5)"
   ]
  },
  {
   "cell_type": "code",
   "execution_count": 15,
   "metadata": {},
   "outputs": [],
   "source": [
    "tokenized_only_dict = Counter(np.concatenate(AllData.tokenized_text.values))\n",
    "\n",
    "tokenized_only_df = pd.DataFrame.from_dict(tokenized_only_dict, orient='index')\n",
    "tokenized_only_df.rename(columns={0: 'count'}, inplace=True)\n",
    "\n",
    "tokenized_only_df.sort_values('count', ascending=False, inplace=True)"
   ]
  },
  {
   "cell_type": "code",
   "execution_count": 16,
   "metadata": {},
   "outputs": [
    {
     "data": {
      "image/png": "[encoded data removed]",
      "text/plain": [
       "<Figure size 1440x360 with 1 Axes>"
      ]
     },
     "metadata": {
      "needs_background": "light"
     },
     "output_type": "display_data"
    }
   ],
   "source": [
    "def word_frequency_barplot(df, nr_top_words=50):\n",
    "    \"\"\" df should have a column named count.\n",
    "    \"\"\"\n",
    "    fig, ax = plt.subplots(1,1,figsize=(20,5))\n",
    "\n",
    "    sns.barplot(list(range(nr_top_words)), df['count'].values[:nr_top_words], palette='hls', ax=ax)\n",
    "\n",
    "    ax.set_xticks(list(range(nr_top_words)))\n",
    "    ax.set_xticklabels(df.index[:nr_top_words], fontsize=14, rotation=90)\n",
    "    return ax\n",
    "    \n",
    "ax = word_frequency_barplot(tokenized_only_df)\n",
    "ax.set_title(\"Word Frequencies\", fontsize=16);"
   ]
  },
  {
   "cell_type": "code",
   "execution_count": 17,
   "metadata": {},
   "outputs": [],
   "source": [
    "def remove_stopwords(df):\n",
    "    \"\"\" Removes stopwords based on a known set of stopwords\n",
    "    available in the nltk package. In addition, we include our\n",
    "    made up word in here.\n",
    "    \"\"\"\n",
    "    # Luckily nltk already has a set of stopwords that we can remove from the texts.\n",
    "    stopwords = nltk.corpus.stopwords.words('portuguese')\n",
    "    \n",
    "    del(stopwords[stopwords.index(\"não\")])\n",
    "    ManualStop = [\"istoégente\", \"expressoepoca\", \"globonews\", \"estudioi\", \"rt\", \"andreiasadi\",\n",
    "                  \"’\", \"‘\", \"”\", \"“\", \"r\", \",\", \".\"]\n",
    "    for i in ManualStop:\n",
    "        stopwords.append(i)\n",
    "    \n",
    "    df['stopwords_removed'] = list(map(lambda doc:\n",
    "                                       [word for word in doc if word not in stopwords],\n",
    "                                       df['tokenized_text']))\n",
    "\n",
    "remove_stopwords(AllData)"
   ]
  },
  {
   "cell_type": "code",
   "execution_count": 18,
   "metadata": {},
   "outputs": [],
   "source": [
    "#Não Funciona em PT\n",
    "\n",
    "def stem_words(df):\n",
    "    lemm = nltk.stem.WordNetLemmatizer()\n",
    "    df['lemmatized_text'] = list(map(lambda sentence:\n",
    "                                     list(map(lemm.lemmatize, sentence)),\n",
    "                                     df.stopwords_removed))\n",
    "\n",
    "    p_stemmer = nltk.stem.porter.PorterStemmer()\n",
    "    df['stemmed_text'] = list(map(lambda sentence:\n",
    "                                  list(map(p_stemmer.stem, sentence)),\n",
    "                                  df.lemmatized_text))"
   ]
  },
  {
   "cell_type": "code",
   "execution_count": 19,
   "metadata": {},
   "outputs": [
    {
     "name": "stdout",
     "output_type": "stream",
     "text": [
      "Found 500 words.\n"
     ]
    }
   ],
   "source": [
    "dictionary = Dictionary(documents=AllData.stopwords_removed.values)\n",
    "\n",
    "print(\"Found {} words.\".format(len(dictionary.values())))"
   ]
  },
  {
   "cell_type": "code",
   "execution_count": 20,
   "metadata": {},
   "outputs": [
    {
     "name": "stdout",
     "output_type": "stream",
     "text": [
      "Left with 500 words.\n"
     ]
    }
   ],
   "source": [
    "dictionary.filter_extremes(no_above=0.8, no_below=3)\n",
    "\n",
    "dictionary.compactify()  # Reindexes the remaining words after filtering\n",
    "print(\"Left with {} words.\".format(len(dictionary.values())))"
   ]
  },
  {
   "cell_type": "code",
   "execution_count": 21,
   "metadata": {},
   "outputs": [],
   "source": [
    "def document_to_bow(df):\n",
    "    df['bow'] = list(map(lambda doc: dictionary.doc2bow(doc), df.stopwords_removed))\n",
    "    \n",
    "document_to_bow(AllData)"
   ]
  },
  {
   "cell_type": "code",
   "execution_count": 22,
   "metadata": {},
   "outputs": [],
   "source": [
    "def lda_preprocessing(df):\n",
    "    \"\"\" All the preprocessing steps for LDA are combined in this function.\n",
    "    All mutations are done on the dataframe itself. So this function returns\n",
    "    nothing.\n",
    "    \"\"\"\n",
    "    lda_get_good_tokens(df)\n",
    "    remove_stopwords(df)\n",
    "    document_to_bow(df)"
   ]
  },
  {
   "cell_type": "code",
   "execution_count": 23,
   "metadata": {},
   "outputs": [],
   "source": [
    "cleansed_words_df = pd.DataFrame.from_dict(dictionary.token2id, orient='index')\n",
    "cleansed_words_df.rename(columns={0: 'id'}, inplace=True)\n",
    "\n",
    "cleansed_words_df['count'] = list(map(lambda id_: dictionary.dfs.get(id_), cleansed_words_df.id))\n",
    "del cleansed_words_df['id']"
   ]
  },
  {
   "cell_type": "code",
   "execution_count": 24,
   "metadata": {},
   "outputs": [
    {
     "data": {
      "image/png": "[encoded data removed]",
      "text/plain": [
       "<Figure size 1440x360 with 1 Axes>"
      ]
     },
     "metadata": {
      "needs_background": "light"
     },
     "output_type": "display_data"
    }
   ],
   "source": [
    "cleansed_words_df.sort_values('count', ascending=False, inplace=True)\n",
    "ax = word_frequency_barplot(cleansed_words_df)\n",
    "ax.set_title(\"Document Frequencies (Number of documents a word appears in)\", fontsize=16);                              "
   ]
  },
  {
   "cell_type": "code",
   "execution_count": 25,
   "metadata": {
    "scrolled": false
   },
   "outputs": [
    {
     "data": {
      "text/html": [
       "<div>\n",
       "<style scoped>\n",
       "    .dataframe tbody tr th:only-of-type {\n",
       "        vertical-align: middle;\n",
       "    }\n",
       "\n",
       "    .dataframe tbody tr th {\n",
       "        vertical-align: top;\n",
       "    }\n",
       "\n",
       "    .dataframe thead th {\n",
       "        text-align: right;\n",
       "    }\n",
       "</style>\n",
       "<table border=\"1\" class=\"dataframe\">\n",
       "  <thead>\n",
       "    <tr style=\"text-align: right;\">\n",
       "      <th></th>\n",
       "      <th>Texto</th>\n",
       "      <th>document_sentences</th>\n",
       "      <th>tokenized_sentences</th>\n",
       "      <th>tokenized_text</th>\n",
       "      <th>stopwords_removed</th>\n",
       "      <th>bow</th>\n",
       "    </tr>\n",
       "  </thead>\n",
       "  <tbody>\n",
       "    <tr>\n",
       "      <th>815</th>\n",
       "      <td>série 3 m3 coupé  freelander 2  azera  celer ...</td>\n",
       "      <td>[ série 3 m3 coupé  freelander 2  azera  celer...</td>\n",
       "      <td>[[série, 3, m3, coupé, freelander, 2, azera, c...</td>\n",
       "      <td>[série, 3, m3, coupé, freelander, 2, azera, ce...</td>\n",
       "      <td>[série, 3, m3, coupé, freelander, 2, azera, ce...</td>\n",
       "      <td>[(27, 1), (133, 1), (160, 1), (162, 1), (213, ...</td>\n",
       "    </tr>\n",
       "    <tr>\n",
       "      <th>350</th>\n",
       "      <td>linea  i3  458  strada  classe g  tt coupé  x...</td>\n",
       "      <td>[ linea  i3  458  strada  classe g  tt coupé  ...</td>\n",
       "      <td>[[linea, i3, 458, strada, classe, g, tt, coupé...</td>\n",
       "      <td>[linea, i3, 458, strada, classe, g, tt, coupé,...</td>\n",
       "      <td>[linea, i3, 458, strada, classe, g, tt, coupé,...</td>\n",
       "      <td>[(16, 1), (19, 1), (23, 1), (141, 1), (194, 1)...</td>\n",
       "    </tr>\n",
       "    <tr>\n",
       "      <th>464</th>\n",
       "      <td>petauro de açúcar petauro de açúcar cacatuas c...</td>\n",
       "      <td>[petauro de açúcar petauro de açúcar cacatuas ...</td>\n",
       "      <td>[[petauro, de, açúcar, petauro, de, açúcar, ca...</td>\n",
       "      <td>[petauro, de, açúcar, petauro, de, açúcar, cac...</td>\n",
       "      <td>[petauro, açúcar, petauro, açúcar, cacatuas, c...</td>\n",
       "      <td>[(60, 2), (62, 1), (63, 1), (68, 1), (70, 2), ...</td>\n",
       "    </tr>\n",
       "    <tr>\n",
       "      <th>379</th>\n",
       "      <td>oscar acarás cardeal perereca canário-da-terra...</td>\n",
       "      <td>[oscar acarás cardeal perereca canário-da-terr...</td>\n",
       "      <td>[[oscar, acarás, cardeal, perereca, canário-da...</td>\n",
       "      <td>[oscar, acarás, cardeal, perereca, canário-da-...</td>\n",
       "      <td>[oscar, acarás, cardeal, perereca, canário-da-...</td>\n",
       "      <td>[(64, 1), (66, 1), (69, 1), (163, 2), (166, 1)...</td>\n",
       "    </tr>\n",
       "    <tr>\n",
       "      <th>743</th>\n",
       "      <td>r8  sorento gallardo lp 560 – 4  ix35  q5  sé...</td>\n",
       "      <td>[ r8  sorento gallardo lp 560 – 4  ix35  q5  s...</td>\n",
       "      <td>[[r8, sorento, gallardo, lp, 560, –, 4, ix35, ...</td>\n",
       "      <td>[r8, sorento, gallardo, lp, 560, –, 4, ix35, q...</td>\n",
       "      <td>[r8, sorento, gallardo, lp, 560, –, 4, ix35, q...</td>\n",
       "      <td>[(152, 1), (190, 1), (191, 1), (216, 1), (251,...</td>\n",
       "    </tr>\n",
       "  </tbody>\n",
       "</table>\n",
       "</div>"
      ],
      "text/plain": [
       "                                                 Texto  \\\n",
       "815   série 3 m3 coupé  freelander 2  azera  celer ...   \n",
       "350   linea  i3  458  strada  classe g  tt coupé  x...   \n",
       "464  petauro de açúcar petauro de açúcar cacatuas c...   \n",
       "379  oscar acarás cardeal perereca canário-da-terra...   \n",
       "743   r8  sorento gallardo lp 560 – 4  ix35  q5  sé...   \n",
       "\n",
       "                                    document_sentences  \\\n",
       "815  [ série 3 m3 coupé  freelander 2  azera  celer...   \n",
       "350  [ linea  i3  458  strada  classe g  tt coupé  ...   \n",
       "464  [petauro de açúcar petauro de açúcar cacatuas ...   \n",
       "379  [oscar acarás cardeal perereca canário-da-terr...   \n",
       "743  [ r8  sorento gallardo lp 560 – 4  ix35  q5  s...   \n",
       "\n",
       "                                   tokenized_sentences  \\\n",
       "815  [[série, 3, m3, coupé, freelander, 2, azera, c...   \n",
       "350  [[linea, i3, 458, strada, classe, g, tt, coupé...   \n",
       "464  [[petauro, de, açúcar, petauro, de, açúcar, ca...   \n",
       "379  [[oscar, acarás, cardeal, perereca, canário-da...   \n",
       "743  [[r8, sorento, gallardo, lp, 560, –, 4, ix35, ...   \n",
       "\n",
       "                                        tokenized_text  \\\n",
       "815  [série, 3, m3, coupé, freelander, 2, azera, ce...   \n",
       "350  [linea, i3, 458, strada, classe, g, tt, coupé,...   \n",
       "464  [petauro, de, açúcar, petauro, de, açúcar, cac...   \n",
       "379  [oscar, acarás, cardeal, perereca, canário-da-...   \n",
       "743  [r8, sorento, gallardo, lp, 560, –, 4, ix35, q...   \n",
       "\n",
       "                                     stopwords_removed  \\\n",
       "815  [série, 3, m3, coupé, freelander, 2, azera, ce...   \n",
       "350  [linea, i3, 458, strada, classe, g, tt, coupé,...   \n",
       "464  [petauro, açúcar, petauro, açúcar, cacatuas, c...   \n",
       "379  [oscar, acarás, cardeal, perereca, canário-da-...   \n",
       "743  [r8, sorento, gallardo, lp, 560, –, 4, ix35, q...   \n",
       "\n",
       "                                                   bow  \n",
       "815  [(27, 1), (133, 1), (160, 1), (162, 1), (213, ...  \n",
       "350  [(16, 1), (19, 1), (23, 1), (141, 1), (194, 1)...  \n",
       "464  [(60, 2), (62, 1), (63, 1), (68, 1), (70, 2), ...  \n",
       "379  [(64, 1), (66, 1), (69, 1), (163, 2), (166, 1)...  \n",
       "743  [(152, 1), (190, 1), (191, 1), (216, 1), (251,...  "
      ]
     },
     "execution_count": 25,
     "metadata": {},
     "output_type": "execute_result"
    }
   ],
   "source": [
    "AllData.sample(5)"
   ]
  },
  {
   "cell_type": "markdown",
   "metadata": {},
   "source": [
    "# Análise de tópicos"
   ]
  },
  {
   "cell_type": "code",
   "execution_count": 26,
   "metadata": {},
   "outputs": [],
   "source": [
    "corpus = AllData.bow"
   ]
  },
  {
   "cell_type": "code",
   "execution_count": 27,
   "metadata": {
    "scrolled": true
   },
   "outputs": [],
   "source": [
    "num_topics = 30\n",
    "#A multicore approach to decrease training time\n",
    "LDAmodel = LdaMulticore(corpus=corpus,\n",
    "                        id2word=dictionary,\n",
    "                        num_topics=num_topics,\n",
    "                        workers=11,\n",
    "                        chunksize=10000,\n",
    "                        iterations = 5,\n",
    "                        passes=7,\n",
    "                        alpha='asymmetric')"
   ]
  },
  {
   "cell_type": "code",
   "execution_count": 28,
   "metadata": {},
   "outputs": [],
   "source": [
    "def document_to_lda_features(lda_model, document):\n",
    "    \"\"\" Transforms a bag of words document to features.\n",
    "    It returns the proportion of how much each topic was\n",
    "    present in the document.\n",
    "    \"\"\"\n",
    "    topic_importances = LDAmodel.get_document_topics(document, minimum_probability=0)\n",
    "    topic_importances = np.array(topic_importances)\n",
    "    return topic_importances[:,1]\n",
    "\n",
    "AllData['lda_features'] = list(map(lambda doc:\n",
    "                              document_to_lda_features(LDAmodel, doc),\n",
    "                              AllData.bow))"
   ]
  },
  {
   "cell_type": "code",
   "execution_count": 30,
   "metadata": {},
   "outputs": [],
   "source": [
    "def get_topic_top_words(lda_model, topic_id, nr_top_words=5):\n",
    "    \"\"\" Returns the top words for topic_id from lda_model.\"\"\"\n",
    "    id_tuples = lda_model.get_topic_terms(topic_id, topn=nr_top_words)\n",
    "    word_ids = np.array(id_tuples)[:,0]\n",
    "    words = map(lambda id_: lda_model.id2word[id_], word_ids)\n",
    "    return words"
   ]
  },
  {
   "cell_type": "code",
   "execution_count": 31,
   "metadata": {},
   "outputs": [
    {
     "name": "stdout",
     "output_type": "stream",
     "text": [
      "Looking up top words from top topics\n",
      "For topic 1, the top words are: castanha, feijoa, oiti, cupuaçu, langsat, tapiá, bergamota, saguaraji, noz-pecã, pará.\n",
      "For topic 2, the top words are: roadster, ferrari, z4, classe, coupe, gol, family, siena, chana, sedan.\n",
      "For topic 3, the top words are: seriguela, jambolão, castanha, rambutão, uxi, goiaba, nêspera, morango, pará, noni.\n",
      "For topic 4, the top words are: vantage, v8, coupe, fiat, r8, space, cross, gla, golf, série.\n",
      "For topic 5, the top words are: nectarina, guabiju, babaco, saputá, lima, dovyalis, araçá, fruta-do-conde, calabura, ciriguela.\n",
      "For topic 6, the top words are: esfregadinha, tamarindo, umbu, pitanga, melão, calabaça, bacupari, sapucaia, inharé, cambuci.\n",
      "For topic 7, the top words are: 4, classe, –, lp, 560, gallardo, spyder, s, hybrid, 400.\n",
      "For topic 8, the top words are: jaca, kumquat, cabeludinha, caju, murici, jatobá, pequi, cagaita, lichia, calamondin.\n",
      "For topic 9, the top words are: fusca, passageiro, tiguan, freemont, topic, tiggo, transit, face, sonata, rs.\n",
      "For topic 10, the top words are: porco, índia, doméstico, sapos, carpa, esquilo, calafate, rato, jabutis, tartarugas.\n",
      "For topic 11, the top words are: classe, série, effa, hatch, hafei, fiesta, sedã, sedan, 1, coupé.\n",
      "For topic 12, the top words are: sonata, utility, chana, nectarina, spacefox, porco, índia, anona, galinha, calafate.\n",
      "For topic 13, the top words are: classe, c, 250, turbo, sport, x60, 458, glc, 63, amg.\n",
      "For topic 14, the top words are: camu-camu, guabiroba, jaca, marula, bacaba, grumixama, limão, porco, cão, índia.\n",
      "For topic 15, the top words are: i30, mohave, g, ka, cw, cielo, furgão, classe, hatch, hafei.\n",
      "For topic 16, the top words are: classe, hatch, 63, rover, range, amg, c, daily, 35s14, a4.\n",
      "For topic 17, the top words are: embaúba, noz, tucujá, imbu, dendê, durião, pindaíba, cacau, salak, melancia.\n",
      "For topic 18, the top words are: pulasan, abiu, uxi, pomelo, salak, pupunha, jerivá, picanto, dekopon, cargo.\n",
      "For topic 19, the top words are: doméstico, gerbil, tetras, coridoras, porco, trinca-ferro, canário, pardal, chinchila, coelho.\n",
      "For topic 20, the top words are: açúcar, petauro, sapos, chinchila, cascudos, cão, piriquitos, cavalo, cágados, coelho.\n",
      "For topic 21, the top words are: série, 3, sedã, cabrio, dbs, effa, m3, rover, optima, hafei.\n",
      "For topic 22, the top words are: perereca, cobras, barbos, cacatuas, calopsita, mico, camundongo, tartarugas, peixe-palhaço, ouriço.\n",
      "For topic 23, the top words are: jenipapo, abacate, pupunha, inharé, marang, bacuri, avelã, heisteria, mexerica, mangostão.\n",
      "For topic 24, the top words are: granadilla, ameixa, calamondin, cambucá, marang, lima, sapota, anona, ilama, gravatá.\n",
      "For topic 25, the top words are: caqui, hilocéreo, anona, damasco, fruta-de-cedro, ibacurupari, naranjilla, pomelo, ananás, coco.\n",
      "For topic 26, the top words are: jabuticaba, arando, jaracatiá, oxicoco, quiuí, biribá, acerola, imbe, saguaraji, amora.\n",
      "For topic 27, the top words are: mandarim, gato, cirurgiões, kinguio, acarás, carpa, oscar, salamandras, hamster, ouriço.\n",
      "For topic 28, the top words are: damasco, mangaba, sapoti, pistache, marmelo, bacuri, camu-camu, morango, cupuaçu, abacate.\n",
      "For topic 29, the top words are: land, sedan, santa, fe, rover, classe, polo, vectra, astra, gt.\n",
      "For topic 30, the top words are: escropari, nêspera, karité, buriti, lima, grumixama, rukam, kumquat, lucuma, babaco.\n",
      "\n"
     ]
    }
   ],
   "source": [
    "print(\"Looking up top words from top topics\")\n",
    "for x in range(num_topics):\n",
    "    top_words = get_topic_top_words(LDAmodel, x, nr_top_words=10)\n",
    "    print(\"For topic {}, the top words are: {}.\".format(x+1, \", \".join(top_words)))\n",
    "print(\"\")"
   ]
  }
 ],
 "metadata": {
  "kernelspec": {
   "display_name": "Python 3",
   "language": "python",
   "name": "python3"
  },
  "language_info": {
   "codemirror_mode": {
    "name": "ipython",
    "version": 3
   },
   "file_extension": ".py",
   "mimetype": "text/x-python",
   "name": "python",
   "nbconvert_exporter": "python",
   "pygments_lexer": "ipython3",
   "version": "3.7.3"
  }
 },
 "nbformat": 4,
 "nbformat_minor": 2
}
