{
 "cells": [
  {
   "cell_type": "code",
   "execution_count": 1,
   "metadata": {},
   "outputs": [
    {
     "name": "stderr",
     "output_type": "stream",
     "text": [
      "C:\\Users\\edufe\\Anaconda3\\lib\\site-packages\\gensim\\utils.py:1197: UserWarning: detected Windows; aliasing chunkize to chunkize_serial\n",
      "  warnings.warn(\"detected Windows; aliasing chunkize to chunkize_serial\")\n"
     ]
    }
   ],
   "source": [
    "# more common imports\n",
    "import pandas as pd\n",
    "import numpy as np\n",
    "from collections import Counter\n",
    "import re\n",
    "import os\n",
    "\n",
    "# languange processing imports\n",
    "import nltk\n",
    "from gensim.corpora import Dictionary\n",
    "# preprocessing imports\n",
    "from sklearn.preprocessing import LabelEncoder\n",
    "\n",
    "# model imports\n",
    "from gensim.models.ldamulticore import LdaMulticore\n",
    "from gensim.models.word2vec import Word2Vec\n",
    "from sklearn.ensemble import RandomForestClassifier, AdaBoostClassifier\n",
    "from sklearn.linear_model import LogisticRegression\n",
    "# hyperparameter training imports\n",
    "from sklearn.model_selection import GridSearchCV\n",
    "\n",
    "# visualization imports\n",
    "from IPython.display import display\n",
    "import seaborn as sns\n",
    "import matplotlib.pyplot as plt\n",
    "import matplotlib.image as mpimg\n",
    "import io\n",
    "%matplotlib inline\n",
    "sns.set()  # defines the style of the plots to be seaborn style"
   ]
  },
  {
   "cell_type": "markdown",
   "metadata": {},
   "source": [
    "# Abre os dados"
   ]
  },
  {
   "cell_type": "code",
   "execution_count": 2,
   "metadata": {},
   "outputs": [],
   "source": [
    "#Verifica os dados no diretorio\n",
    "\n",
    "Data = os.listdir(\"../../Filter/Tweets_Filtered/\")\n",
    "for i in range(len(Data)):\n",
    "    Data[i] = Data[i].split(\".\")[0]\n",
    "    \n",
    "Pessoas = [\"realDonaldTrump\", \"jairbolsonaro\", \"hbredda\", \"gui_benchimol\", \"pedrocerize\"]\n",
    "\n",
    "NoticiasPolitica = [\"OGloboPolitica\", \"folha_poder\", \"GloboNews\", \"EstadaoPolitica\", \n",
    "                    \"RevistaEpoca\", \"valoreconomico\", \"g1politica\", \"conexaopolitica\", \"EstadaoEconomia\", \n",
    "                    \"UOLEconomia\", \"folha_mercado\", \"g1economia\", \"OGlobo_Economia\"]\n",
    "\n",
    "\n",
    "Noticias = [\"UOL\", \"folha\", \"g1\", \"VEJA\", \"cartacapital\", \"RevistaISTOE\"]\n",
    "\n",
    "#Monta um dicionario com todos datasets de twites de todas as pessoas\n",
    "Alvo = NoticiasPolitica\n",
    "\n",
    "\n",
    "AllData = pd.DataFrame()\n",
    "for i in Alvo:\n",
    "    if i in Data:\n",
    "        MoreData = pd.read_csv(\"../../Filter/Tweets_Filtered/{0}\".format(i+\".csv\"), sep=\";\", decimal=\",\", encoding='utf-16')\n",
    "        AllData = pd.concat([AllData, MoreData])\n",
    "    else:\n",
    "        print(\"{0} não disponivel\".format(i))\n",
    "        \n",
    "AllData = AllData.reset_index(drop=True)"
   ]
  },
  {
   "cell_type": "code",
   "execution_count": 3,
   "metadata": {},
   "outputs": [],
   "source": [
    "label_encoder = LabelEncoder()\n",
    "\n",
    "label_encoder.fit(AllData.Pessoa)\n",
    "AllData['Pessoa_id'] = label_encoder.transform(AllData.Pessoa)"
   ]
  },
  {
   "cell_type": "code",
   "execution_count": 4,
   "metadata": {},
   "outputs": [
    {
     "data": {
      "text/html": [
       "<div>\n",
       "<style scoped>\n",
       "    .dataframe tbody tr th:only-of-type {\n",
       "        vertical-align: middle;\n",
       "    }\n",
       "\n",
       "    .dataframe tbody tr th {\n",
       "        vertical-align: top;\n",
       "    }\n",
       "\n",
       "    .dataframe thead th {\n",
       "        text-align: right;\n",
       "    }\n",
       "</style>\n",
       "<table border=\"1\" class=\"dataframe\">\n",
       "  <thead>\n",
       "    <tr style=\"text-align: right;\">\n",
       "      <th></th>\n",
       "      <th>Pessoa</th>\n",
       "      <th>Data</th>\n",
       "      <th>Texto</th>\n",
       "      <th>Retweets</th>\n",
       "      <th>Likes</th>\n",
       "      <th>URL</th>\n",
       "      <th>Pessoa_id</th>\n",
       "    </tr>\n",
       "  </thead>\n",
       "  <tbody>\n",
       "    <tr>\n",
       "      <th>24775</th>\n",
       "      <td>conexaopolitica</td>\n",
       "      <td>2018-12-28 22:55:40</td>\n",
       "      <td>filliperinauro agradecemos o seu apoio fillip...</td>\n",
       "      <td>1</td>\n",
       "      <td>5</td>\n",
       "      <td>1</td>\n",
       "      <td>7</td>\n",
       "    </tr>\n",
       "    <tr>\n",
       "      <th>8468</th>\n",
       "      <td>GloboNews</td>\n",
       "      <td>2019-03-06 11:24:50</td>\n",
       "      <td>o empresário estava preso desde novembro do an...</td>\n",
       "      <td>4</td>\n",
       "      <td>32</td>\n",
       "      <td>1</td>\n",
       "      <td>2</td>\n",
       "    </tr>\n",
       "    <tr>\n",
       "      <th>31904</th>\n",
       "      <td>folha_mercado</td>\n",
       "      <td>2019-04-29 05:19:03</td>\n",
       "      <td>governos devem ser responsáveis pela poupança ...</td>\n",
       "      <td>1</td>\n",
       "      <td>3</td>\n",
       "      <td>1</td>\n",
       "      <td>8</td>\n",
       "    </tr>\n",
       "    <tr>\n",
       "      <th>35616</th>\n",
       "      <td>g1economia</td>\n",
       "      <td>2019-04-16 12:06:25</td>\n",
       "      <td>cotação do dólar 16 04 2019</td>\n",
       "      <td>0</td>\n",
       "      <td>5</td>\n",
       "      <td>1</td>\n",
       "      <td>10</td>\n",
       "    </tr>\n",
       "    <tr>\n",
       "      <th>11597</th>\n",
       "      <td>EstadaoPolitica</td>\n",
       "      <td>2018-09-06 23:22:05</td>\n",
       "      <td>segundo suspeito pelo ataque contra jair bolso...</td>\n",
       "      <td>65</td>\n",
       "      <td>85</td>\n",
       "      <td>1</td>\n",
       "      <td>1</td>\n",
       "    </tr>\n",
       "  </tbody>\n",
       "</table>\n",
       "</div>"
      ],
      "text/plain": [
       "                Pessoa                 Data  \\\n",
       "24775  conexaopolitica  2018-12-28 22:55:40   \n",
       "8468         GloboNews  2019-03-06 11:24:50   \n",
       "31904    folha_mercado  2019-04-29 05:19:03   \n",
       "35616       g1economia  2019-04-16 12:06:25   \n",
       "11597  EstadaoPolitica  2018-09-06 23:22:05   \n",
       "\n",
       "                                                   Texto  Retweets  Likes  \\\n",
       "24775   filliperinauro agradecemos o seu apoio fillip...         1      5   \n",
       "8468   o empresário estava preso desde novembro do an...         4     32   \n",
       "31904  governos devem ser responsáveis pela poupança ...         1      3   \n",
       "35616                       cotação do dólar 16 04 2019          0      5   \n",
       "11597  segundo suspeito pelo ataque contra jair bolso...        65     85   \n",
       "\n",
       "       URL  Pessoa_id  \n",
       "24775    1          7  \n",
       "8468     1          2  \n",
       "31904    1          8  \n",
       "35616    1         10  \n",
       "11597    1          1  "
      ]
     },
     "execution_count": 4,
     "metadata": {},
     "output_type": "execute_result"
    }
   ],
   "source": [
    "AllData.sample(5)"
   ]
  },
  {
   "cell_type": "code",
   "execution_count": 5,
   "metadata": {},
   "outputs": [
    {
     "name": "stdout",
     "output_type": "stream",
     "text": [
      "The average number of words in a document is: 13.991752676762806.\n",
      "The minimum number of words in a document is: 2.\n",
      "The maximum number of words in a document is: 30.\n"
     ]
    }
   ],
   "source": [
    "document_lengths = np.array(list(map(len, AllData.Texto.str.split(' '))))\n",
    "\n",
    "print(\"The average number of words in a document is: {}.\".format(np.mean(document_lengths)))\n",
    "print(\"The minimum number of words in a document is: {}.\".format(min(document_lengths)))\n",
    "print(\"The maximum number of words in a document is: {}.\".format(max(document_lengths)))"
   ]
  },
  {
   "cell_type": "code",
   "execution_count": 6,
   "metadata": {},
   "outputs": [],
   "source": [
    "smallerthen4 = document_lengths <= 5\n",
    "\n",
    "for i in range(len(document_lengths)):\n",
    "    if smallerthen4[i]:\n",
    "        AllData = AllData.drop(i)\n",
    "\n",
    "document_lengths = np.array(list(map(len, AllData.Texto.str.split(' '))))"
   ]
  },
  {
   "cell_type": "code",
   "execution_count": 7,
   "metadata": {},
   "outputs": [
    {
     "name": "stderr",
     "output_type": "stream",
     "text": [
      "[nltk_data] Downloading package punkt to\n",
      "[nltk_data]     C:\\Users\\edufe\\AppData\\Roaming\\nltk_data...\n",
      "[nltk_data]   Package punkt is already up-to-date!\n",
      "[nltk_data] Downloading package stopwords to\n",
      "[nltk_data]     C:\\Users\\edufe\\AppData\\Roaming\\nltk_data...\n",
      "[nltk_data]   Package stopwords is already up-to-date!\n",
      "[nltk_data] Downloading package wordnet to\n",
      "[nltk_data]     C:\\Users\\edufe\\AppData\\Roaming\\nltk_data...\n",
      "[nltk_data]   Package wordnet is already up-to-date!\n"
     ]
    },
    {
     "data": {
      "text/plain": [
       "True"
      ]
     },
     "execution_count": 7,
     "metadata": {},
     "output_type": "execute_result"
    }
   ],
   "source": [
    "nltk.download('punkt')\n",
    "nltk.download('stopwords')\n",
    "nltk.download('wordnet')"
   ]
  },
  {
   "cell_type": "code",
   "execution_count": 8,
   "metadata": {},
   "outputs": [],
   "source": [
    "# Here we get transform the documents into sentences for the word2vecmodel\n",
    "# we made a function such that later on when we make the submission, we don't need to write duplicate code\n",
    "def w2v_preprocessing(df):\n",
    "    \"\"\" All the preprocessing steps for word2vec are done in this function.\n",
    "    All mutations are done on the dataframe itself. So this function returns\n",
    "    nothing.\n",
    "    \"\"\"\n",
    "    df['document_sentences'] = df.Texto.str.split('.')  # split texts into individual sentences\n",
    "    df['tokenized_sentences'] = list(map(lambda sentences:\n",
    "                                         list(map(nltk.word_tokenize, sentences)),\n",
    "                                         df.document_sentences))  # tokenize sentences\n",
    "    df['tokenized_sentences'] = list(map(lambda sentences:\n",
    "                                         list(sentences),\n",
    "                                         df.tokenized_sentences))  # remove unwanted characters\n",
    "    df['tokenized_sentences'] = list(map(lambda sentences:\n",
    "                                         list(filter(lambda lst: lst, sentences)),\n",
    "                                         df.tokenized_sentences))  # remove empty lists\n",
    "\n",
    "w2v_preprocessing(AllData)"
   ]
  },
  {
   "cell_type": "code",
   "execution_count": 9,
   "metadata": {},
   "outputs": [],
   "source": [
    "def lda_get_good_tokens(df):\n",
    "    df['tokenized_text'] = list(map(nltk.word_tokenize, df.Texto))\n",
    "    df['tokenized_text'] = list(df.tokenized_text)\n",
    "\n",
    "lda_get_good_tokens(AllData)"
   ]
  },
  {
   "cell_type": "code",
   "execution_count": 10,
   "metadata": {},
   "outputs": [
    {
     "name": "stdout",
     "output_type": "stream",
     "text": [
      "['de', 'a', 'o', 'que', 'e', 'do', 'da', 'em', 'um', 'para', 'com', 'não', 'uma', 'os', 'no', 'se', 'na', 'por', 'mais', 'as']\n"
     ]
    }
   ],
   "source": [
    "print(nltk.corpus.stopwords.words('portuguese')[0:20])"
   ]
  },
  {
   "cell_type": "code",
   "execution_count": 11,
   "metadata": {},
   "outputs": [],
   "source": [
    "def remove_stopwords(df):\n",
    "    \"\"\" Removes stopwords based on a known set of stopwords\n",
    "    available in the nltk package. In addition, we include our\n",
    "    made up word in here.\n",
    "    \"\"\"\n",
    "    # Luckily nltk already has a set of stopwords that we can remove from the texts.\n",
    "    stopwords = nltk.corpus.stopwords.words('portuguese')[0:20]\n",
    "    \n",
    "    del(stopwords[stopwords.index(\"não\")])\n",
    "    ManualStop = [\"istoégente\", \"expressoepoca\", \"globonews\", \"estudioi\", \"rt\", \"andreiasadi\",\n",
    "                  \"’\", \"‘\", \"”\", \"“\", \"r\", \",\", \".\", \"…\", \"diz\", \"à\", \"ao\"]\n",
    "    Numbers = list(range(10))\n",
    "    stopwords = stopwords + ManualStop + Numbers\n",
    "    \n",
    "    df['stopwords_removed'] = list(map(lambda doc:\n",
    "                                       [word for word in doc if word not in stopwords],\n",
    "                                       df['tokenized_text']))\n",
    "\n",
    "remove_stopwords(AllData)"
   ]
  },
  {
   "cell_type": "code",
   "execution_count": 12,
   "metadata": {},
   "outputs": [
    {
     "name": "stdout",
     "output_type": "stream",
     "text": [
      "Found 29532 words.\n"
     ]
    }
   ],
   "source": [
    "dictionary = Dictionary(documents=AllData.stopwords_removed.values)\n",
    "\n",
    "print(\"Found {} words.\".format(len(dictionary.values())))"
   ]
  },
  {
   "cell_type": "code",
   "execution_count": 13,
   "metadata": {},
   "outputs": [
    {
     "name": "stdout",
     "output_type": "stream",
     "text": [
      "Left with 12050 words.\n"
     ]
    }
   ],
   "source": [
    "dictionary.filter_extremes(no_above=0.8, no_below=3)\n",
    "\n",
    "dictionary.compactify()  # Reindexes the remaining words after filtering\n",
    "print(\"Left with {} words.\".format(len(dictionary.values())))"
   ]
  },
  {
   "cell_type": "code",
   "execution_count": 14,
   "metadata": {},
   "outputs": [],
   "source": [
    "def document_to_bow(df):\n",
    "    df['bow'] = list(map(lambda doc: dictionary.doc2bow(doc), df.stopwords_removed))\n",
    "    \n",
    "document_to_bow(AllData)"
   ]
  },
  {
   "cell_type": "code",
   "execution_count": 15,
   "metadata": {},
   "outputs": [],
   "source": [
    "def lda_preprocessing(df):\n",
    "    \"\"\" All the preprocessing steps for LDA are combined in this function.\n",
    "    All mutations are done on the dataframe itself. So this function returns\n",
    "    nothing.\n",
    "    \"\"\"\n",
    "    lda_get_good_tokens(df)\n",
    "    remove_stopwords(df)\n",
    "    document_to_bow(df)"
   ]
  },
  {
   "cell_type": "code",
   "execution_count": 16,
   "metadata": {
    "scrolled": true
   },
   "outputs": [
    {
     "data": {
      "text/html": [
       "<div>\n",
       "<style scoped>\n",
       "    .dataframe tbody tr th:only-of-type {\n",
       "        vertical-align: middle;\n",
       "    }\n",
       "\n",
       "    .dataframe tbody tr th {\n",
       "        vertical-align: top;\n",
       "    }\n",
       "\n",
       "    .dataframe thead th {\n",
       "        text-align: right;\n",
       "    }\n",
       "</style>\n",
       "<table border=\"1\" class=\"dataframe\">\n",
       "  <thead>\n",
       "    <tr style=\"text-align: right;\">\n",
       "      <th></th>\n",
       "      <th>Pessoa</th>\n",
       "      <th>Data</th>\n",
       "      <th>Texto</th>\n",
       "      <th>Retweets</th>\n",
       "      <th>Likes</th>\n",
       "      <th>URL</th>\n",
       "      <th>Pessoa_id</th>\n",
       "      <th>document_sentences</th>\n",
       "      <th>tokenized_sentences</th>\n",
       "      <th>tokenized_text</th>\n",
       "      <th>stopwords_removed</th>\n",
       "      <th>bow</th>\n",
       "    </tr>\n",
       "  </thead>\n",
       "  <tbody>\n",
       "    <tr>\n",
       "      <th>18190</th>\n",
       "      <td>valoreconomico</td>\n",
       "      <td>2019-03-04 19:50:32</td>\n",
       "      <td>at amp t reestrutura seus novos ativos em holl...</td>\n",
       "      <td>4</td>\n",
       "      <td>12</td>\n",
       "      <td>1</td>\n",
       "      <td>12</td>\n",
       "      <td>[at amp t reestrutura seus novos ativos em hol...</td>\n",
       "      <td>[[at, amp, t, reestrutura, seus, novos, ativos...</td>\n",
       "      <td>[at, amp, t, reestrutura, seus, novos, ativos,...</td>\n",
       "      <td>[at, amp, t, reestrutura, seus, novos, ativos,...</td>\n",
       "      <td>[(681, 1), (814, 1), (865, 1), (1686, 1), (667...</td>\n",
       "    </tr>\n",
       "    <tr>\n",
       "      <th>4768</th>\n",
       "      <td>folha_poder</td>\n",
       "      <td>2019-01-30 02:48:02</td>\n",
       "      <td>juíza rejeita pedido de lula para ir a enterro...</td>\n",
       "      <td>16</td>\n",
       "      <td>33</td>\n",
       "      <td>1</td>\n",
       "      <td>9</td>\n",
       "      <td>[juíza rejeita pedido de lula para ir a enterr...</td>\n",
       "      <td>[[juíza, rejeita, pedido, de, lula, para, ir, ...</td>\n",
       "      <td>[juíza, rejeita, pedido, de, lula, para, ir, a...</td>\n",
       "      <td>[juíza, rejeita, pedido, lula, ir, enterro, ir...</td>\n",
       "      <td>[(22, 1), (408, 1), (476, 1), (974, 1), (987, ...</td>\n",
       "    </tr>\n",
       "    <tr>\n",
       "      <th>18002</th>\n",
       "      <td>valoreconomico</td>\n",
       "      <td>2019-03-08 15:00:39</td>\n",
       "      <td>china teme que possível cúpula entre trump e x...</td>\n",
       "      <td>1</td>\n",
       "      <td>18</td>\n",
       "      <td>1</td>\n",
       "      <td>12</td>\n",
       "      <td>[china teme que possível cúpula entre trump e ...</td>\n",
       "      <td>[[china, teme, que, possível, cúpula, entre, t...</td>\n",
       "      <td>[china, teme, que, possível, cúpula, entre, tr...</td>\n",
       "      <td>[china, teme, possível, cúpula, entre, trump, ...</td>\n",
       "      <td>[(63, 1), (117, 1), (385, 1), (1678, 1), (2255...</td>\n",
       "    </tr>\n",
       "    <tr>\n",
       "      <th>27099</th>\n",
       "      <td>EstadaoEconomia</td>\n",
       "      <td>2018-02-27 00:30:00</td>\n",
       "      <td>apetite ao risco faz bolsa de são paulo renova...</td>\n",
       "      <td>4</td>\n",
       "      <td>12</td>\n",
       "      <td>1</td>\n",
       "      <td>0</td>\n",
       "      <td>[apetite ao risco faz bolsa de são paulo renov...</td>\n",
       "      <td>[[apetite, ao, risco, faz, bolsa, de, são, pau...</td>\n",
       "      <td>[apetite, ao, risco, faz, bolsa, de, são, paul...</td>\n",
       "      <td>[apetite, risco, faz, bolsa, são, paulo, renov...</td>\n",
       "      <td>[(375, 1), (376, 1), (552, 1), (593, 1), (895,...</td>\n",
       "    </tr>\n",
       "    <tr>\n",
       "      <th>17927</th>\n",
       "      <td>valoreconomico</td>\n",
       "      <td>2019-03-11 12:15:36</td>\n",
       "      <td>petrobras negocia por r 1 bilhão venda de camp...</td>\n",
       "      <td>4</td>\n",
       "      <td>17</td>\n",
       "      <td>1</td>\n",
       "      <td>12</td>\n",
       "      <td>[petrobras negocia por r 1 bilhão venda de cam...</td>\n",
       "      <td>[[petrobras, negocia, por, r, 1, bilhão, venda...</td>\n",
       "      <td>[petrobras, negocia, por, r, 1, bilhão, venda,...</td>\n",
       "      <td>[petrobras, negocia, 1, bilhão, venda, campos,...</td>\n",
       "      <td>[(773, 1), (1134, 1), (1135, 1), (1215, 1), (2...</td>\n",
       "    </tr>\n",
       "  </tbody>\n",
       "</table>\n",
       "</div>"
      ],
      "text/plain": [
       "                Pessoa                 Data  \\\n",
       "18190   valoreconomico  2019-03-04 19:50:32   \n",
       "4768       folha_poder  2019-01-30 02:48:02   \n",
       "18002   valoreconomico  2019-03-08 15:00:39   \n",
       "27099  EstadaoEconomia  2018-02-27 00:30:00   \n",
       "17927   valoreconomico  2019-03-11 12:15:36   \n",
       "\n",
       "                                                   Texto  Retweets  Likes  \\\n",
       "18190  at amp t reestrutura seus novos ativos em holl...         4     12   \n",
       "4768   juíza rejeita pedido de lula para ir a enterro...        16     33   \n",
       "18002  china teme que possível cúpula entre trump e x...         1     18   \n",
       "27099  apetite ao risco faz bolsa de são paulo renova...         4     12   \n",
       "17927  petrobras negocia por r 1 bilhão venda de camp...         4     17   \n",
       "\n",
       "       URL  Pessoa_id                                 document_sentences  \\\n",
       "18190    1         12  [at amp t reestrutura seus novos ativos em hol...   \n",
       "4768     1          9  [juíza rejeita pedido de lula para ir a enterr...   \n",
       "18002    1         12  [china teme que possível cúpula entre trump e ...   \n",
       "27099    1          0  [apetite ao risco faz bolsa de são paulo renov...   \n",
       "17927    1         12  [petrobras negocia por r 1 bilhão venda de cam...   \n",
       "\n",
       "                                     tokenized_sentences  \\\n",
       "18190  [[at, amp, t, reestrutura, seus, novos, ativos...   \n",
       "4768   [[juíza, rejeita, pedido, de, lula, para, ir, ...   \n",
       "18002  [[china, teme, que, possível, cúpula, entre, t...   \n",
       "27099  [[apetite, ao, risco, faz, bolsa, de, são, pau...   \n",
       "17927  [[petrobras, negocia, por, r, 1, bilhão, venda...   \n",
       "\n",
       "                                          tokenized_text  \\\n",
       "18190  [at, amp, t, reestrutura, seus, novos, ativos,...   \n",
       "4768   [juíza, rejeita, pedido, de, lula, para, ir, a...   \n",
       "18002  [china, teme, que, possível, cúpula, entre, tr...   \n",
       "27099  [apetite, ao, risco, faz, bolsa, de, são, paul...   \n",
       "17927  [petrobras, negocia, por, r, 1, bilhão, venda,...   \n",
       "\n",
       "                                       stopwords_removed  \\\n",
       "18190  [at, amp, t, reestrutura, seus, novos, ativos,...   \n",
       "4768   [juíza, rejeita, pedido, lula, ir, enterro, ir...   \n",
       "18002  [china, teme, possível, cúpula, entre, trump, ...   \n",
       "27099  [apetite, risco, faz, bolsa, são, paulo, renov...   \n",
       "17927  [petrobras, negocia, 1, bilhão, venda, campos,...   \n",
       "\n",
       "                                                     bow  \n",
       "18190  [(681, 1), (814, 1), (865, 1), (1686, 1), (667...  \n",
       "4768   [(22, 1), (408, 1), (476, 1), (974, 1), (987, ...  \n",
       "18002  [(63, 1), (117, 1), (385, 1), (1678, 1), (2255...  \n",
       "27099  [(375, 1), (376, 1), (552, 1), (593, 1), (895,...  \n",
       "17927  [(773, 1), (1134, 1), (1135, 1), (1215, 1), (2...  "
      ]
     },
     "execution_count": 16,
     "metadata": {},
     "output_type": "execute_result"
    }
   ],
   "source": [
    "AllData.sample(5)"
   ]
  },
  {
   "cell_type": "markdown",
   "metadata": {},
   "source": [
    "# Análise de tópicos"
   ]
  },
  {
   "cell_type": "code",
   "execution_count": 17,
   "metadata": {},
   "outputs": [],
   "source": [
    "corpus = AllData.bow"
   ]
  },
  {
   "cell_type": "code",
   "execution_count": 18,
   "metadata": {
    "scrolled": true
   },
   "outputs": [],
   "source": [
    "num_topics = 10\n",
    "#A multicore approach to decrease training time\n",
    "LDAmodel = LdaMulticore(corpus=corpus,\n",
    "                        id2word=dictionary,\n",
    "                        num_topics=num_topics,\n",
    "                        workers=11,\n",
    "                        chunksize=10000,\n",
    "                        iterations = 5,\n",
    "                        passes=7,\n",
    "                        alpha='asymmetric')"
   ]
  },
  {
   "cell_type": "code",
   "execution_count": 19,
   "metadata": {},
   "outputs": [],
   "source": [
    "def document_to_lda_features(lda_model, document):\n",
    "    \"\"\" Transforms a bag of words document to features.\n",
    "    It returns the proportion of how much each topic was\n",
    "    present in the document.\n",
    "    \"\"\"\n",
    "    topic_importances = LDAmodel.get_document_topics(document, minimum_probability=0)\n",
    "    topic_importances = np.array(topic_importances)\n",
    "    return topic_importances[:,1]\n",
    "\n",
    "AllData['lda_features'] = list(map(lambda doc:\n",
    "                              document_to_lda_features(LDAmodel, doc),\n",
    "                              AllData.bow))"
   ]
  },
  {
   "cell_type": "code",
   "execution_count": 20,
   "metadata": {
    "scrolled": true
   },
   "outputs": [
    {
     "data": {
      "image/png": "[encoded data removed]",
      "text/plain": [
       "<Figure size 1440x2880 with 13 Axes>"
      ]
     },
     "metadata": {
      "needs_background": "light"
     },
     "output_type": "display_data"
    }
   ],
   "source": [
    "topic_distribution = []\n",
    "for i in Alvo:\n",
    "    topic_distribution.append(AllData.loc[AllData.Pessoa == i, 'lda_features'].mean())\n",
    "    \n",
    "ax = 0\n",
    "\n",
    "Axes = [ax]*len(Alvo)\n",
    "fig, Axes = plt.subplots(len(Alvo),figsize=(20,40))\n",
    "\n",
    "nr_top_bars = 1\n",
    "\n",
    "for i in range(len(Axes)):\n",
    "    Axes[i].set_title(Alvo[i])\n",
    "\n",
    "for ax, distribution in zip(Axes, topic_distribution):\n",
    "    # Individual distribution barplots\n",
    "    ax.bar(range(len(distribution)), distribution, alpha=0.7)\n",
    "    rects = ax.patches\n",
    "    for i in np.argsort(distribution)[-nr_top_bars:]:\n",
    "        rects[i].set_alpha(1)\n",
    "    # General plotting adjustments\n",
    "    ax.set_xlim(-1, num_topics)\n",
    "    ax.set_ylim(0,0.5)"
   ]
  },
  {
   "cell_type": "code",
   "execution_count": 21,
   "metadata": {
    "scrolled": false
   },
   "outputs": [
    {
     "data": {
      "text/html": [
       "<div>\n",
       "<style scoped>\n",
       "    .dataframe tbody tr th:only-of-type {\n",
       "        vertical-align: middle;\n",
       "    }\n",
       "\n",
       "    .dataframe tbody tr th {\n",
       "        vertical-align: top;\n",
       "    }\n",
       "\n",
       "    .dataframe thead th {\n",
       "        text-align: right;\n",
       "    }\n",
       "</style>\n",
       "<table border=\"1\" class=\"dataframe\">\n",
       "  <thead>\n",
       "    <tr style=\"text-align: right;\">\n",
       "      <th></th>\n",
       "      <th>Pessoa</th>\n",
       "      <th>Data</th>\n",
       "      <th>Texto</th>\n",
       "      <th>Retweets</th>\n",
       "      <th>Likes</th>\n",
       "      <th>URL</th>\n",
       "      <th>Pessoa_id</th>\n",
       "      <th>document_sentences</th>\n",
       "      <th>tokenized_sentences</th>\n",
       "      <th>tokenized_text</th>\n",
       "      <th>stopwords_removed</th>\n",
       "      <th>bow</th>\n",
       "      <th>lda_features</th>\n",
       "    </tr>\n",
       "  </thead>\n",
       "  <tbody>\n",
       "    <tr>\n",
       "      <th>13100</th>\n",
       "      <td>RevistaEpoca</td>\n",
       "      <td>2019-03-27 18:30:14</td>\n",
       "      <td>o presidente da câmara decidiu votar orçamento...</td>\n",
       "      <td>6</td>\n",
       "      <td>53</td>\n",
       "      <td>1</td>\n",
       "      <td>5</td>\n",
       "      <td>[o presidente da câmara decidiu votar orçament...</td>\n",
       "      <td>[[o, presidente, da, câmara, decidiu, votar, o...</td>\n",
       "      <td>[o, presidente, da, câmara, decidiu, votar, or...</td>\n",
       "      <td>[presidente, câmara, decidiu, votar, orçamento...</td>\n",
       "      <td>[(106, 1), (198, 1), (285, 1), (906, 1), (908,...</td>\n",
       "      <td>[0.017207367345690727, 0.5927830934524536, 0.2...</td>\n",
       "    </tr>\n",
       "    <tr>\n",
       "      <th>20762</th>\n",
       "      <td>g1politica</td>\n",
       "      <td>2019-02-04 16:00:13</td>\n",
       "      <td>vídeos sérgio moro apresenta propostas contra ...</td>\n",
       "      <td>3</td>\n",
       "      <td>25</td>\n",
       "      <td>1</td>\n",
       "      <td>11</td>\n",
       "      <td>[vídeos sérgio moro apresenta propostas contra...</td>\n",
       "      <td>[[vídeos, sérgio, moro, apresenta, propostas, ...</td>\n",
       "      <td>[vídeos, sérgio, moro, apresenta, propostas, c...</td>\n",
       "      <td>[vídeos, sérgio, moro, apresenta, propostas, c...</td>\n",
       "      <td>[(12, 1), (262, 1), (404, 1), (652, 1), (1175,...</td>\n",
       "      <td>[0.017084985971450806, 0.012919302098453045, 0...</td>\n",
       "    </tr>\n",
       "    <tr>\n",
       "      <th>35713</th>\n",
       "      <td>g1economia</td>\n",
       "      <td>2019-04-13 11:02:23</td>\n",
       "      <td>brecha obriga mudança em nova tecnologia de se...</td>\n",
       "      <td>2</td>\n",
       "      <td>5</td>\n",
       "      <td>1</td>\n",
       "      <td>10</td>\n",
       "      <td>[brecha obriga mudança em nova tecnologia de s...</td>\n",
       "      <td>[[brecha, obriga, mudança, em, nova, tecnologi...</td>\n",
       "      <td>[brecha, obriga, mudança, em, nova, tecnologia...</td>\n",
       "      <td>[brecha, obriga, mudança, nova, tecnologia, se...</td>\n",
       "      <td>[(307, 1), (540, 1), (1067, 1), (1828, 1), (22...</td>\n",
       "      <td>[0.40777426958084106, 0.015579387545585632, 0....</td>\n",
       "    </tr>\n",
       "    <tr>\n",
       "      <th>14725</th>\n",
       "      <td>RevistaEpoca</td>\n",
       "      <td>2018-11-08 17:46:51</td>\n",
       "      <td>rt expressoepoca confira a lista</td>\n",
       "      <td>16</td>\n",
       "      <td>0</td>\n",
       "      <td>1</td>\n",
       "      <td>5</td>\n",
       "      <td>[rt expressoepoca confira a lista ]</td>\n",
       "      <td>[[rt, expressoepoca, confira, a, lista]]</td>\n",
       "      <td>[rt, expressoepoca, confira, a, lista]</td>\n",
       "      <td>[confira, lista]</td>\n",
       "      <td>[(219, 1), (1083, 1)]</td>\n",
       "      <td>[0.09422807395458221, 0.051614582538604736, 0....</td>\n",
       "    </tr>\n",
       "    <tr>\n",
       "      <th>10828</th>\n",
       "      <td>EstadaoPolitica</td>\n",
       "      <td>2018-11-27 23:00:00</td>\n",
       "      <td>bolsonaro diz que onyx vai liderar mas que tod...</td>\n",
       "      <td>5</td>\n",
       "      <td>15</td>\n",
       "      <td>1</td>\n",
       "      <td>1</td>\n",
       "      <td>[bolsonaro diz que onyx vai liderar mas que to...</td>\n",
       "      <td>[[bolsonaro, diz, que, onyx, vai, liderar, mas...</td>\n",
       "      <td>[bolsonaro, diz, que, onyx, vai, liderar, mas,...</td>\n",
       "      <td>[bolsonaro, onyx, vai, liderar, mas, todo, mun...</td>\n",
       "      <td>[(19, 1), (61, 1), (67, 1), (202, 2), (816, 1)...</td>\n",
       "      <td>[0.20685599744319916, 0.01451519038528204, 0.2...</td>\n",
       "    </tr>\n",
       "  </tbody>\n",
       "</table>\n",
       "</div>"
      ],
      "text/plain": [
       "                Pessoa                 Data  \\\n",
       "13100     RevistaEpoca  2019-03-27 18:30:14   \n",
       "20762       g1politica  2019-02-04 16:00:13   \n",
       "35713       g1economia  2019-04-13 11:02:23   \n",
       "14725     RevistaEpoca  2018-11-08 17:46:51   \n",
       "10828  EstadaoPolitica  2018-11-27 23:00:00   \n",
       "\n",
       "                                                   Texto  Retweets  Likes  \\\n",
       "13100  o presidente da câmara decidiu votar orçamento...         6     53   \n",
       "20762  vídeos sérgio moro apresenta propostas contra ...         3     25   \n",
       "35713  brecha obriga mudança em nova tecnologia de se...         2      5   \n",
       "14725                  rt expressoepoca confira a lista         16      0   \n",
       "10828  bolsonaro diz que onyx vai liderar mas que tod...         5     15   \n",
       "\n",
       "       URL  Pessoa_id                                 document_sentences  \\\n",
       "13100    1          5  [o presidente da câmara decidiu votar orçament...   \n",
       "20762    1         11  [vídeos sérgio moro apresenta propostas contra...   \n",
       "35713    1         10  [brecha obriga mudança em nova tecnologia de s...   \n",
       "14725    1          5                [rt expressoepoca confira a lista ]   \n",
       "10828    1          1  [bolsonaro diz que onyx vai liderar mas que to...   \n",
       "\n",
       "                                     tokenized_sentences  \\\n",
       "13100  [[o, presidente, da, câmara, decidiu, votar, o...   \n",
       "20762  [[vídeos, sérgio, moro, apresenta, propostas, ...   \n",
       "35713  [[brecha, obriga, mudança, em, nova, tecnologi...   \n",
       "14725           [[rt, expressoepoca, confira, a, lista]]   \n",
       "10828  [[bolsonaro, diz, que, onyx, vai, liderar, mas...   \n",
       "\n",
       "                                          tokenized_text  \\\n",
       "13100  [o, presidente, da, câmara, decidiu, votar, or...   \n",
       "20762  [vídeos, sérgio, moro, apresenta, propostas, c...   \n",
       "35713  [brecha, obriga, mudança, em, nova, tecnologia...   \n",
       "14725             [rt, expressoepoca, confira, a, lista]   \n",
       "10828  [bolsonaro, diz, que, onyx, vai, liderar, mas,...   \n",
       "\n",
       "                                       stopwords_removed  \\\n",
       "13100  [presidente, câmara, decidiu, votar, orçamento...   \n",
       "20762  [vídeos, sérgio, moro, apresenta, propostas, c...   \n",
       "35713  [brecha, obriga, mudança, nova, tecnologia, se...   \n",
       "14725                                   [confira, lista]   \n",
       "10828  [bolsonaro, onyx, vai, liderar, mas, todo, mun...   \n",
       "\n",
       "                                                     bow  \\\n",
       "13100  [(106, 1), (198, 1), (285, 1), (906, 1), (908,...   \n",
       "20762  [(12, 1), (262, 1), (404, 1), (652, 1), (1175,...   \n",
       "35713  [(307, 1), (540, 1), (1067, 1), (1828, 1), (22...   \n",
       "14725                              [(219, 1), (1083, 1)]   \n",
       "10828  [(19, 1), (61, 1), (67, 1), (202, 2), (816, 1)...   \n",
       "\n",
       "                                            lda_features  \n",
       "13100  [0.017207367345690727, 0.5927830934524536, 0.2...  \n",
       "20762  [0.017084985971450806, 0.012919302098453045, 0...  \n",
       "35713  [0.40777426958084106, 0.015579387545585632, 0....  \n",
       "14725  [0.09422807395458221, 0.051614582538604736, 0....  \n",
       "10828  [0.20685599744319916, 0.01451519038528204, 0.2...  "
      ]
     },
     "execution_count": 21,
     "metadata": {},
     "output_type": "execute_result"
    }
   ],
   "source": [
    "AllData.sample(5)"
   ]
  },
  {
   "cell_type": "code",
   "execution_count": 22,
   "metadata": {},
   "outputs": [],
   "source": [
    "def get_topic_top_words(lda_model, topic_id, nr_top_words=5):\n",
    "    \"\"\" Returns the top words for topic_id from lda_model.\"\"\"\n",
    "    id_tuples = lda_model.get_topic_terms(topic_id, topn=nr_top_words)\n",
    "    word_ids = np.array(id_tuples)[:,0]\n",
    "    words = map(lambda id_: lda_model.id2word[id_], word_ids)\n",
    "    return words"
   ]
  },
  {
   "cell_type": "code",
   "execution_count": 23,
   "metadata": {
    "scrolled": true
   },
   "outputs": [
    {
     "name": "stdout",
     "output_type": "stream",
     "text": [
      "Looking up top words from top topics\n",
      "'For topic 1, the top words are:'\n",
      "('bolsonaro, brasil, governo, vai, pode, ser, presidente, petrobras, mercado, '\n",
      " 'sobre, eua, após, não, china, deve, é, estadão, vale, nova, dos, acordo, '\n",
      " 'quer, anuncia, 2018, 2019, novo, são, bilhões, estados, venda, como, até, '\n",
      " 'empresa, justiça, nos, boeing, país, tem, volta, lei, 3, mundo, contra, '\n",
      " 'ministro, embraer, crescimento, empresas, entre, setor, us')\n",
      "''\n",
      "'For topic 2, the top words are:'\n",
      "('previdência, reforma, governo, câmara, é, guedes, maia, bolsonaro, deve, '\n",
      " 'senado, sobre, ccj, dos, após, presidente, está, projeto, como, deputados, '\n",
      " 'entre, pode, será, proposta, aprova, vai, comissão, empresas, ministro, pec, '\n",
      " 'não, mil, das, sem, aposentadoria, militares, quer, orçamento, mas, votação, '\n",
      " 'apoio, paulo, economia, contra, mulheres, milhões, idade, energia, tem, '\n",
      " 'temer, oposição')\n",
      "''\n",
      "'For topic 3, the top words are:'\n",
      "('não, é, bolsonaro, governo, presidente, sobre, mourão, como, senado, '\n",
      " 'congresso, jairbolsonaro, após, posse, reforma, tem, vai, militares, até, '\n",
      " 'moro, previdência, será, afirma, novo, ex, mas, ministro, abre, dos, está, '\n",
      " 'ter, só, salário, defende, últimas, política, ser, maia, eleito, lula, '\n",
      " 'flávio, presidência, dia, crise, 1, meses, ações, onyx, projetos, pt, '\n",
      " 'secretário')\n",
      "''\n",
      "'For topic 4, the top words are:'\n",
      "('é, temer, governo, lava, jato, sobre, prisão, ministro, bolsonaro, quer, '\n",
      " 'presidente, pf, ex, pela, contra, stf, corrupção, inquérito, brumadinho, '\n",
      " 'moro, operação, justiça, vale, bebianno, nova, pelo, lula, caso, após, '\n",
      " 'ministério, são, vivo, tem, como, pede, não, federal, ou, dinheiro, ghosn, '\n",
      " 'odebrecht, onyx, dos, preso, veja, michel, investigação, bi, barragens, '\n",
      " 'público')\n",
      "''\n",
      "'For topic 5, the top words are:'\n",
      "('anos, é, já, não, vagas, jairbolsonaro, mil, como, hoje, vivo, tem, às, '\n",
      " 'pela, veja, foi, presidente, quem, bolsonaro, emprego, até, trump, pessoas, '\n",
      " 'novo, nesta, 5, carnaval, brasileiro, ir, sobre, quinta, nos, brasil, faz, '\n",
      " '4, receita, vez, mas, casa, ministro, público, há, federal, são, foram, 2, '\n",
      " 'das, salários, está, 30, pública')\n",
      "''\n",
      "'For topic 6, the top words are:'\n",
      "('2018, tem, maior, 1, 0, nas, desde, 5, 2, trimestre, fevereiro, segundo, 3, '\n",
      " 'sobe, bi, lucro, preço, lula, são, 4, cresce, cai, 6, dos, 7, alta, milhões, '\n",
      " 'petrobras, é, queda, bilhões, trabalho, janeiro, brasil, país, ano, aponta, '\n",
      " 'gasolina, 1º, 8, inflação, pib, ibge, pela, não, desemprego, vale, produção, '\n",
      " 'turno, nos')\n",
      "''\n",
      "'For topic 7, the top words are:'\n",
      "('bolsonaro, dos, ex, não, governo, presidente, é, amado, guilherme, jair, '\n",
      " 'seu, política, dados, líder, ano, redes, eua, haddad, nas, sociais, flávio, '\n",
      " 'dias, sobre, foi, sem, banco, conexão, das, psl, está, general, brasileiros, '\n",
      " 'vídeo, ministro, mp, após, renan, candidato, vendas, assessor, ser, '\n",
      " 'direitos, ele, 100, central, humanos, senador, disse, sp, filho')\n",
      "''\n",
      "'For topic 8, the top words are:'\n",
      "('sobre, 3, dólar, alta, bolsa, fecha, vai, semana, política, após, bolsonaro, '\n",
      " 'renda, dia, você, imposto, 2019, como, tem, 1, é, cai, sobe, mas, queda, '\n",
      " 'falar, opera, dúvidas, já, pelo, venezuela, veja, arielpalacios, exterior, '\n",
      " 'não, presidente, foi, vem, 2, ibovespa, mundo, pontos, declaração, fala, pt, '\n",
      " 'mil, suas, declarar, bovespa, maduro, aqui')\n",
      "''\n",
      "'For topic 9, the top words are:'\n",
      "('bolsonaro, contra, feira, stf, nesta, ministro, justiça, lula, sobre, ação, '\n",
      " 'pede, segunda, economia, pedido, após, paulo, terça, quarta, caso, decisão, '\n",
      " 'recuperação, avianca, pode, stj, ex, sexta, marco, ser, últimas, aurélio, '\n",
      " 'defesa, psl, posse, gilmar, vai, supremo, dodge, instância, nega, não, '\n",
      " 'julgamento, recurso, judicial, plano, é, novo, eleitoral, guedes, '\n",
      " 'condenação, manda')\n",
      "''\n",
      "'For topic 10, the top words are:'\n",
      "('rio, são, janeiro, foi, brasil, é, ainda, pelo, paulo, dia, nacional, '\n",
      " 'bolsonaro, não, estado, bom, milhões, principais, força, brumadinho, coluna, '\n",
      " 'dos, mas, notícias, ter, anticrime, aqui, política, polícia, 1, dois, '\n",
      " 'milhão, vítimas, pa…, mortos, como, importantes, joão, siga, leitor, sobre, '\n",
      " 'pessoas, moro, chega, acontecimentos, cidade, mostra, pacote, número, '\n",
      " 'grande, suzano')\n",
      "''\n",
      "\n"
     ]
    }
   ],
   "source": [
    "from pprint import pprint\n",
    "\n",
    "print(\"Looking up top words from top topics\")\n",
    "for x in range(num_topics):\n",
    "    top_words = get_topic_top_words(LDAmodel, x, nr_top_words=50)\n",
    "    pprint(f\"For topic {x+1}, the top words are:\")\n",
    "    pprint(\"{0}\".format(\", \".join(top_words)))\n",
    "    pprint(\"\")\n",
    "print(\"\")"
   ]
  },
  {
   "cell_type": "code",
   "execution_count": 24,
   "metadata": {},
   "outputs": [],
   "source": [
    "TopicsData = np.array(list(AllData[\"lda_features\"]))\n",
    "TopicsData = np.transpose(TopicsData)"
   ]
  },
  {
   "cell_type": "code",
   "execution_count": 25,
   "metadata": {},
   "outputs": [
    {
     "data": {
      "image/png": "[encoded data removed]",
      "text/plain": [
       "<Figure size 288x288 with 1 Axes>"
      ]
     },
     "metadata": {
      "needs_background": "light"
     },
     "output_type": "display_data"
    }
   ],
   "source": [
    "CovMatrix = np.cov(TopicsData)\n",
    "plt.matshow(CovMatrix, cmap=plt.cm.gray)\n",
    "plt.show()"
   ]
  },
  {
   "cell_type": "markdown",
   "metadata": {},
   "source": [
    "## Filtra as ações"
   ]
  },
  {
   "cell_type": "code",
   "execution_count": 26,
   "metadata": {},
   "outputs": [],
   "source": [
    "Stocks = [\"ibov\", \"ITUB4\", \"PETR4\", \"Vale3\", \"BBDC4\", \"ABEV3\", \"BBAS3\", \"SANB3\", \"LREN3\"]\n",
    "\n",
    "Cols = {}\n",
    "for i in range(len(Stocks)):\n",
    "    Cols[Stocks[i]] = [i*4+i, i*4+i+1, i*4+i+2, i*4+i+3]"
   ]
  },
  {
   "cell_type": "code",
   "execution_count": 27,
   "metadata": {},
   "outputs": [],
   "source": [
    "Var = 'ibov'\n",
    "bolsa = pd.read_excel('../../Dados_Bolsa/Twt.xlsx', sheet_name=\"1h\", usecols=Cols[Var],  skiprow=[0])"
   ]
  },
  {
   "cell_type": "code",
   "execution_count": 28,
   "metadata": {},
   "outputs": [],
   "source": [
    "headers = list(bolsa.keys())\n",
    "myheaders = [Var, \"Price\", \"Volume\", \"Ticks\"]\n",
    "\n",
    "for i in range(len(headers)):\n",
    "    bolsa.rename(columns={headers[i]: myheaders[i]}, inplace=True)\n",
    "    \n",
    "bolsa = bolsa.dropna()\n",
    "bolsa.drop(bolsa.head(1).index,inplace=True)\n",
    "\n",
    "bolsa = bolsa.reset_index(drop=True)"
   ]
  },
  {
   "cell_type": "code",
   "execution_count": 29,
   "metadata": {},
   "outputs": [
    {
     "data": {
      "text/html": [
       "<div>\n",
       "<style scoped>\n",
       "    .dataframe tbody tr th:only-of-type {\n",
       "        vertical-align: middle;\n",
       "    }\n",
       "\n",
       "    .dataframe tbody tr th {\n",
       "        vertical-align: top;\n",
       "    }\n",
       "\n",
       "    .dataframe thead th {\n",
       "        text-align: right;\n",
       "    }\n",
       "</style>\n",
       "<table border=\"1\" class=\"dataframe\">\n",
       "  <thead>\n",
       "    <tr style=\"text-align: right;\">\n",
       "      <th></th>\n",
       "      <th>ibov</th>\n",
       "      <th>Price</th>\n",
       "      <th>Volume</th>\n",
       "      <th>Ticks</th>\n",
       "    </tr>\n",
       "  </thead>\n",
       "  <tbody>\n",
       "    <tr>\n",
       "      <th>0</th>\n",
       "      <td>2018-10-08 10:00:00</td>\n",
       "      <td>86283.7</td>\n",
       "      <td>0</td>\n",
       "      <td>119</td>\n",
       "    </tr>\n",
       "    <tr>\n",
       "      <th>1</th>\n",
       "      <td>2018-10-08 11:00:00</td>\n",
       "      <td>85686.7</td>\n",
       "      <td>0</td>\n",
       "      <td>120</td>\n",
       "    </tr>\n",
       "    <tr>\n",
       "      <th>2</th>\n",
       "      <td>2018-10-08 12:00:00</td>\n",
       "      <td>85408.6</td>\n",
       "      <td>0</td>\n",
       "      <td>120</td>\n",
       "    </tr>\n",
       "    <tr>\n",
       "      <th>3</th>\n",
       "      <td>2018-10-08 13:00:00</td>\n",
       "      <td>85267.7</td>\n",
       "      <td>0</td>\n",
       "      <td>120</td>\n",
       "    </tr>\n",
       "    <tr>\n",
       "      <th>4</th>\n",
       "      <td>2018-10-08 14:00:00</td>\n",
       "      <td>85686.7</td>\n",
       "      <td>0</td>\n",
       "      <td>120</td>\n",
       "    </tr>\n",
       "  </tbody>\n",
       "</table>\n",
       "</div>"
      ],
      "text/plain": [
       "                  ibov    Price Volume Ticks\n",
       "0  2018-10-08 10:00:00  86283.7      0   119\n",
       "1  2018-10-08 11:00:00  85686.7      0   120\n",
       "2  2018-10-08 12:00:00  85408.6      0   120\n",
       "3  2018-10-08 13:00:00  85267.7      0   120\n",
       "4  2018-10-08 14:00:00  85686.7      0   120"
      ]
     },
     "execution_count": 29,
     "metadata": {},
     "output_type": "execute_result"
    }
   ],
   "source": [
    "bolsa.head(5)"
   ]
  },
  {
   "cell_type": "code",
   "execution_count": 30,
   "metadata": {
    "scrolled": false
   },
   "outputs": [
    {
     "data": {
      "text/plain": [
       "1110"
      ]
     },
     "execution_count": 30,
     "metadata": {},
     "output_type": "execute_result"
    }
   ],
   "source": [
    "ibov_len  = len(bolsa[Var])\n",
    "ibov_len"
   ]
  },
  {
   "cell_type": "code",
   "execution_count": 31,
   "metadata": {},
   "outputs": [
    {
     "name": "stdout",
     "output_type": "stream",
     "text": [
      "2018-10-08 {'abertura': 86283.67, 'fechamento': 86083.91, 'variacao': 0}\n",
      "2018-10-09 {'abertura': 85864.42, 'fechamento': 86087.55, 'variacao': 1}\n",
      "2018-10-10 {'abertura': 84590.04, 'fechamento': 83679.11, 'variacao': 0}\n",
      "2018-10-11 {'abertura': 84492.8, 'fechamento': 82921.08, 'variacao': 2}\n"
     ]
    }
   ],
   "source": [
    "import datetime\n",
    "\n",
    "ibov_data_precos = {}\n",
    "DeadZoneUp = 0.3e-2\n",
    "DeadZoneDown = 0.6e-2\n",
    "# célula para identificar os preços de abertura e fechamento de cada dia\n",
    "for i in range(0, ibov_len):\n",
    "    data_completa = datetime.datetime.strptime(str(bolsa[Var][i]), '%Y-%m-%d %H:%M:%S')\n",
    "    preco = bolsa['Price'][i]\n",
    "    data = data_completa.strftime(\"%Y-%m-%d\")\n",
    "    if data not in ibov_data_precos:\n",
    "        ibov_data_precos[data] = {}\n",
    "        ibov_data_precos[data]['abertura'] = preco\n",
    "        #caso só tenhamos informação de uma hora dentro de um dia, assumimos esse preco como o de fechamento tbm\n",
    "        ibov_data_precos[data]['fechamento'] = preco \n",
    "        dia_anterior_completo =  data_completa - datetime.timedelta(days=1)\n",
    "        dia_anterior_data = dia_anterior_completo.strftime(\"%Y-%m-%d\")\n",
    "        \n",
    "        if(dia_anterior_data in ibov_data_precos):\n",
    "            dia_anterior_fechamento = ibov_data_precos[dia_anterior_data]['fechamento']\n",
    "            \n",
    "            if(preco > dia_anterior_fechamento + dia_anterior_fechamento*DeadZoneUp):\n",
    "                ibov_data_precos[data]['variacao'] = 2 #Subiu\n",
    "            elif (preco < dia_anterior_fechamento - dia_anterior_fechamento*DeadZoneDown):\n",
    "                ibov_data_precos[data]['variacao'] = 0 #Desceu\n",
    "            else:\n",
    "                ibov_data_precos[data]['variacao'] = 1\n",
    "        else:\n",
    "            #se não tivermos informações sobre o dia anterior, assumimos que a variacao foi neutra\n",
    "            ibov_data_precos[data]['variacao'] = 0 \n",
    "    else:\n",
    "        if i < (ibov_len - 1):\n",
    "            data_seguinte = datetime.datetime.strptime(str(bolsa[Var][i+1]), '%Y-%m-%d %H:%M:%S')\n",
    "            if data_seguinte.date() > data_completa.date():\n",
    "                ibov_data_precos[data]['fechamento'] = preco\n",
    "\n",
    "Datesibov = list(ibov_data_precos.keys())\n",
    "                \n",
    "for i in range(4):\n",
    "    print(Datesibov[i], ibov_data_precos[Datesibov[i]])"
   ]
  },
  {
   "cell_type": "markdown",
   "metadata": {},
   "source": [
    "## Cria os Datasets"
   ]
  },
  {
   "cell_type": "code",
   "execution_count": 32,
   "metadata": {},
   "outputs": [],
   "source": [
    "OutputData = []\n",
    "InputData = []\n",
    "for i in range(len(AllData)):\n",
    "    data_completa = datetime.datetime.strptime(str(AllData[\"Data\"].iloc[i]), '%Y-%m-%d %H:%M:%S')\n",
    "    data = data_completa.strftime(\"%Y-%m-%d\")\n",
    "    if data in list(ibov_data_precos.keys()):\n",
    "        OutputData.append(ibov_data_precos[data][\"variacao\"])\n",
    "        Data = list(AllData['lda_features'].iloc[i])\n",
    "        Data.append(AllData['Retweets'].iloc[i])\n",
    "        Data.append(AllData['Likes'].iloc[i])\n",
    "        Data.append(AllData['Pessoa_id'].iloc[i])\n",
    "        InputData.append(Data)"
   ]
  },
  {
   "cell_type": "code",
   "execution_count": 33,
   "metadata": {},
   "outputs": [
    {
     "data": {
      "text/plain": [
       "(26261, 26261, 13)"
      ]
     },
     "execution_count": 33,
     "metadata": {},
     "output_type": "execute_result"
    }
   ],
   "source": [
    "len(OutputData), len(InputData), len(InputData[0])"
   ]
  },
  {
   "cell_type": "code",
   "execution_count": 34,
   "metadata": {},
   "outputs": [
    {
     "name": "stdout",
     "output_type": "stream",
     "text": [
      "[0.01862182281911373, 0.014067755080759525, 0.011336336843669415, 0.009494305588304996, 0.008168094791471958, 0.007167330943048, 0.006385043263435364, 0.005756733473390341, 0.9141925573348999, 0.00481007806956768, 11, 24, 3]\n"
     ]
    }
   ],
   "source": [
    "print(InputData[1])"
   ]
  },
  {
   "cell_type": "code",
   "execution_count": 35,
   "metadata": {},
   "outputs": [],
   "source": [
    "from sklearn.model_selection import train_test_split\n",
    "\n",
    "train_texts, test_texts, train_classes, test_classes = train_test_split(InputData, OutputData, \n",
    "                                                                        test_size=0.2, stratify=OutputData)"
   ]
  },
  {
   "cell_type": "markdown",
   "metadata": {},
   "source": [
    "## Distribuição das Classes:"
   ]
  },
  {
   "cell_type": "code",
   "execution_count": 36,
   "metadata": {},
   "outputs": [
    {
     "name": "stdout",
     "output_type": "stream",
     "text": [
      "Treinamento:\n",
      "0.32668507235338917\n",
      "0.38071210967250574\n",
      "0.2926028179741051\n",
      "\n",
      "Teste:\n",
      "0.32667047401484867\n",
      "0.3807348181991243\n",
      "0.29259470778602703\n"
     ]
    }
   ],
   "source": [
    "trainlen = len(train_classes)\n",
    "testlen = len(test_classes)\n",
    "\n",
    "print(\"Treinamento:\")\n",
    "print(train_classes.count(0)/trainlen)\n",
    "print(train_classes.count(1)/trainlen)\n",
    "print(train_classes.count(2)/trainlen)\n",
    "print()\n",
    "print(\"Teste:\")\n",
    "print(test_classes.count(0)/testlen)\n",
    "print(test_classes.count(1)/testlen)\n",
    "print(test_classes.count(2)/testlen)"
   ]
  },
  {
   "cell_type": "markdown",
   "metadata": {},
   "source": [
    "## Aplicação de Modelos"
   ]
  },
  {
   "cell_type": "code",
   "execution_count": 37,
   "metadata": {},
   "outputs": [],
   "source": [
    "from sklearn.model_selection import cross_val_predict, cross_val_score"
   ]
  },
  {
   "cell_type": "markdown",
   "metadata": {},
   "source": [
    "### Regressão Logistica"
   ]
  },
  {
   "cell_type": "code",
   "execution_count": 38,
   "metadata": {},
   "outputs": [
    {
     "name": "stdout",
     "output_type": "stream",
     "text": [
      "[0.3793261  0.36623258 0.38071298]\n",
      "0.3754238862181254\n"
     ]
    }
   ],
   "source": [
    "from sklearn.linear_model import LogisticRegression\n",
    "\n",
    "Losgisticclf = LogisticRegression(random_state=0, solver='lbfgs', multi_class='multinomial')\n",
    "\n",
    "scores = cross_val_score(Losgisticclf, InputData, OutputData, cv=3, n_jobs=-1)\n",
    "\n",
    "print(scores)\n",
    "print(np.mean(scores))"
   ]
  },
  {
   "cell_type": "markdown",
   "metadata": {},
   "source": [
    "### Decision Tree"
   ]
  },
  {
   "cell_type": "code",
   "execution_count": 39,
   "metadata": {},
   "outputs": [
    {
     "name": "stdout",
     "output_type": "stream",
     "text": [
      "[0.33934894 0.3304775  0.34460695]\n",
      "0.33814446214875127\n"
     ]
    }
   ],
   "source": [
    "from sklearn import tree\n",
    "\n",
    "tree = tree.DecisionTreeClassifier()\n",
    "\n",
    "scores = cross_val_score(tree, InputData, OutputData, cv=3, n_jobs=-1)\n",
    "\n",
    "print(scores)\n",
    "print(np.mean(scores))"
   ]
  },
  {
   "cell_type": "raw",
   "metadata": {},
   "source": [
    "#Para ver a imagem da Decision Tree\n",
    "\n",
    "from sklearn.externals.six import StringIO  \n",
    "from IPython.display import Image  \n",
    "from sklearn.tree import export_graphviz\n",
    "import pydotplus\n",
    "\n",
    "tree.fit(InputData, OutputData)\n",
    "\n",
    "dot_data = StringIO()\n",
    "\n",
    "export_graphviz(tree, out_file=dot_data,  \n",
    "                filled=True, rounded=True,\n",
    "                special_characters=True)\n",
    "\n",
    "graph = pydotplus.graph_from_dot_data(dot_data.getvalue())  \n",
    "Image(graph.create_png())"
   ]
  },
  {
   "cell_type": "markdown",
   "metadata": {},
   "source": [
    "### Randon Forest"
   ]
  },
  {
   "cell_type": "code",
   "execution_count": 40,
   "metadata": {},
   "outputs": [
    {
     "name": "stdout",
     "output_type": "stream",
     "text": [
      "[0.33398058 0.34932602 0.34792048]\n",
      "0.3437423600779878\n"
     ]
    }
   ],
   "source": [
    "from sklearn.ensemble import RandomForestClassifier\n",
    "\n",
    "RandonForestclf = RandomForestClassifier(n_estimators=10, n_jobs=-1)\n",
    "\n",
    "scores = cross_val_score(RandonForestclf, InputData, OutputData, cv=3, n_jobs=-1)\n",
    "\n",
    "print(scores)\n",
    "print(np.mean(scores))"
   ]
  },
  {
   "cell_type": "code",
   "execution_count": 41,
   "metadata": {},
   "outputs": [
    {
     "name": "stdout",
     "output_type": "stream",
     "text": [
      "{'min_impurity_decrease': 1e-05, 'n_estimators': 100} 0.345836030615742\n"
     ]
    }
   ],
   "source": [
    "from sklearn.model_selection import GridSearchCV\n",
    "\n",
    "param_grid = [\n",
    "    {'n_estimators': [10, 30, 100], \n",
    "    'min_impurity_decrease': [1e-5, 1e-6, 0]}\n",
    "  ]\n",
    "\n",
    "RandonForestclf = RandomForestClassifier(n_estimators=10, min_impurity_decrease=1e-3)\n",
    "\n",
    "grid_search = GridSearchCV(RandonForestclf, param_grid, cv=5, scoring='accuracy', return_train_score=True, n_jobs=-1)\n",
    "\n",
    "grid_search.fit(InputData, OutputData)\n",
    "\n",
    "print(grid_search.best_params_, grid_search.best_score_)\n",
    "\n",
    "BestParams = grid_search.best_params_\n",
    "\n",
    "RandonForestclf = RandomForestClassifier(n_estimators=BestParams[\"n_estimators\"], \n",
    "                                         min_impurity_decrease=BestParams[\"min_impurity_decrease\"])"
   ]
  },
  {
   "cell_type": "markdown",
   "metadata": {},
   "source": [
    "## Best Model"
   ]
  },
  {
   "cell_type": "code",
   "execution_count": 42,
   "metadata": {},
   "outputs": [],
   "source": [
    "TopClassifier = RandonForestclf\n",
    "\n",
    "y_pred = cross_val_predict(TopClassifier, InputData, OutputData, cv=3)"
   ]
  },
  {
   "cell_type": "code",
   "execution_count": 43,
   "metadata": {},
   "outputs": [
    {
     "name": "stdout",
     "output_type": "stream",
     "text": [
      "Resultado Modelo:\n",
      "0.35912569970678954\n",
      "0.41266516888161153\n",
      "0.22820913141159896\n"
     ]
    }
   ],
   "source": [
    "Output_Pred = list(y_pred)\n",
    "\n",
    "print(\"Resultado Modelo:\")\n",
    "print(Output_Pred.count(0)/len(Output_Pred))\n",
    "print(Output_Pred.count(1)/len(Output_Pred))\n",
    "print(Output_Pred.count(2)/len(Output_Pred))"
   ]
  },
  {
   "cell_type": "code",
   "execution_count": 44,
   "metadata": {},
   "outputs": [
    {
     "data": {
      "text/plain": [
       "array([[3147, 3461, 1971],\n",
       "       [3589, 4211, 2198],\n",
       "       [2695, 3165, 1824]], dtype=int64)"
      ]
     },
     "execution_count": 44,
     "metadata": {},
     "output_type": "execute_result"
    }
   ],
   "source": [
    "from sklearn.metrics import confusion_matrix\n",
    "\n",
    "conf_mx = confusion_matrix(OutputData, Output_Pred)\n",
    "conf_mx"
   ]
  },
  {
   "cell_type": "code",
   "execution_count": 45,
   "metadata": {},
   "outputs": [
    {
     "data": {
      "image/png": "[encoded data removed]",
      "text/plain": [
       "<Figure size 288x288 with 1 Axes>"
      ]
     },
     "metadata": {
      "needs_background": "light"
     },
     "output_type": "display_data"
    }
   ],
   "source": [
    "plt.matshow(conf_mx, cmap=plt.cm.gray)\n",
    "plt.show()"
   ]
  },
  {
   "cell_type": "code",
   "execution_count": 46,
   "metadata": {},
   "outputs": [],
   "source": [
    "InputDataa = np.array(InputData)\n",
    "OutputDataa = np.array(OutputData)\n",
    "Output_Preda = np.array(Output_Pred)"
   ]
  },
  {
   "cell_type": "code",
   "execution_count": 47,
   "metadata": {},
   "outputs": [
    {
     "data": {
      "text/html": [
       "<div>\n",
       "<style scoped>\n",
       "    .dataframe tbody tr th:only-of-type {\n",
       "        vertical-align: middle;\n",
       "    }\n",
       "\n",
       "    .dataframe tbody tr th {\n",
       "        vertical-align: top;\n",
       "    }\n",
       "\n",
       "    .dataframe thead th {\n",
       "        text-align: right;\n",
       "    }\n",
       "</style>\n",
       "<table border=\"1\" class=\"dataframe\">\n",
       "  <thead>\n",
       "    <tr style=\"text-align: right;\">\n",
       "      <th></th>\n",
       "      <th>0</th>\n",
       "      <th>1</th>\n",
       "      <th>2</th>\n",
       "      <th>3</th>\n",
       "      <th>4</th>\n",
       "      <th>5</th>\n",
       "      <th>6</th>\n",
       "      <th>7</th>\n",
       "      <th>8</th>\n",
       "      <th>9</th>\n",
       "      <th>10</th>\n",
       "      <th>11</th>\n",
       "      <th>12</th>\n",
       "      <th>Output</th>\n",
       "      <th>Output_pred</th>\n",
       "    </tr>\n",
       "  </thead>\n",
       "  <tbody>\n",
       "    <tr>\n",
       "      <th>24840</th>\n",
       "      <td>0.040872</td>\n",
       "      <td>0.030977</td>\n",
       "      <td>0.192087</td>\n",
       "      <td>0.020887</td>\n",
       "      <td>0.650585</td>\n",
       "      <td>0.015768</td>\n",
       "      <td>0.014047</td>\n",
       "      <td>0.012665</td>\n",
       "      <td>0.011530</td>\n",
       "      <td>0.010582</td>\n",
       "      <td>2</td>\n",
       "      <td>5</td>\n",
       "      <td>10</td>\n",
       "      <td>1</td>\n",
       "      <td>2</td>\n",
       "    </tr>\n",
       "    <tr>\n",
       "      <th>24093</th>\n",
       "      <td>0.117900</td>\n",
       "      <td>0.049209</td>\n",
       "      <td>0.030079</td>\n",
       "      <td>0.010444</td>\n",
       "      <td>0.008985</td>\n",
       "      <td>0.758965</td>\n",
       "      <td>0.007029</td>\n",
       "      <td>0.006332</td>\n",
       "      <td>0.005765</td>\n",
       "      <td>0.005291</td>\n",
       "      <td>1</td>\n",
       "      <td>7</td>\n",
       "      <td>10</td>\n",
       "      <td>1</td>\n",
       "      <td>2</td>\n",
       "    </tr>\n",
       "    <tr>\n",
       "      <th>12994</th>\n",
       "      <td>0.614041</td>\n",
       "      <td>0.294096</td>\n",
       "      <td>0.020680</td>\n",
       "      <td>0.013057</td>\n",
       "      <td>0.011232</td>\n",
       "      <td>0.015899</td>\n",
       "      <td>0.009260</td>\n",
       "      <td>0.007916</td>\n",
       "      <td>0.007206</td>\n",
       "      <td>0.006614</td>\n",
       "      <td>4</td>\n",
       "      <td>27</td>\n",
       "      <td>12</td>\n",
       "      <td>0</td>\n",
       "      <td>1</td>\n",
       "    </tr>\n",
       "    <tr>\n",
       "      <th>7927</th>\n",
       "      <td>0.135100</td>\n",
       "      <td>0.085932</td>\n",
       "      <td>0.442578</td>\n",
       "      <td>0.013056</td>\n",
       "      <td>0.011232</td>\n",
       "      <td>0.009855</td>\n",
       "      <td>0.008779</td>\n",
       "      <td>0.007916</td>\n",
       "      <td>0.007206</td>\n",
       "      <td>0.278345</td>\n",
       "      <td>3</td>\n",
       "      <td>10</td>\n",
       "      <td>1</td>\n",
       "      <td>1</td>\n",
       "      <td>1</td>\n",
       "    </tr>\n",
       "    <tr>\n",
       "      <th>4158</th>\n",
       "      <td>0.394647</td>\n",
       "      <td>0.037387</td>\n",
       "      <td>0.013866</td>\n",
       "      <td>0.508232</td>\n",
       "      <td>0.009984</td>\n",
       "      <td>0.008760</td>\n",
       "      <td>0.007804</td>\n",
       "      <td>0.007036</td>\n",
       "      <td>0.006406</td>\n",
       "      <td>0.005879</td>\n",
       "      <td>10</td>\n",
       "      <td>16</td>\n",
       "      <td>9</td>\n",
       "      <td>1</td>\n",
       "      <td>1</td>\n",
       "    </tr>\n",
       "  </tbody>\n",
       "</table>\n",
       "</div>"
      ],
      "text/plain": [
       "              0         1         2         3         4         5         6  \\\n",
       "24840  0.040872  0.030977  0.192087  0.020887  0.650585  0.015768  0.014047   \n",
       "24093  0.117900  0.049209  0.030079  0.010444  0.008985  0.758965  0.007029   \n",
       "12994  0.614041  0.294096  0.020680  0.013057  0.011232  0.015899  0.009260   \n",
       "7927   0.135100  0.085932  0.442578  0.013056  0.011232  0.009855  0.008779   \n",
       "4158   0.394647  0.037387  0.013866  0.508232  0.009984  0.008760  0.007804   \n",
       "\n",
       "              7         8         9  10  11  12  Output  Output_pred  \n",
       "24840  0.012665  0.011530  0.010582   2   5  10       1            2  \n",
       "24093  0.006332  0.005765  0.005291   1   7  10       1            2  \n",
       "12994  0.007916  0.007206  0.006614   4  27  12       0            1  \n",
       "7927   0.007916  0.007206  0.278345   3  10   1       1            1  \n",
       "4158   0.007036  0.006406  0.005879  10  16   9       1            1  "
      ]
     },
     "execution_count": 47,
     "metadata": {},
     "output_type": "execute_result"
    }
   ],
   "source": [
    "AllResults = pd.DataFrame(InputData)\n",
    "AllResults[\"Output\"]= OutputDataa\n",
    "AllResults[\"Output_pred\"]= Output_Preda\n",
    "\n",
    "AllResults.sample(5)"
   ]
  },
  {
   "cell_type": "code",
   "execution_count": 48,
   "metadata": {
    "scrolled": false
   },
   "outputs": [
    {
     "data": {
      "text/html": [
       "<div>\n",
       "<style scoped>\n",
       "    .dataframe tbody tr th:only-of-type {\n",
       "        vertical-align: middle;\n",
       "    }\n",
       "\n",
       "    .dataframe tbody tr th {\n",
       "        vertical-align: top;\n",
       "    }\n",
       "\n",
       "    .dataframe thead th {\n",
       "        text-align: right;\n",
       "    }\n",
       "</style>\n",
       "<table border=\"1\" class=\"dataframe\">\n",
       "  <thead>\n",
       "    <tr style=\"text-align: right;\">\n",
       "      <th></th>\n",
       "      <th>0</th>\n",
       "      <th>1</th>\n",
       "      <th>2</th>\n",
       "      <th>3</th>\n",
       "      <th>4</th>\n",
       "      <th>5</th>\n",
       "      <th>6</th>\n",
       "      <th>7</th>\n",
       "      <th>8</th>\n",
       "      <th>9</th>\n",
       "      <th>10</th>\n",
       "      <th>11</th>\n",
       "      <th>12</th>\n",
       "      <th>Output</th>\n",
       "      <th>Output_pred</th>\n",
       "    </tr>\n",
       "  </thead>\n",
       "  <tbody>\n",
       "    <tr>\n",
       "      <th>0</th>\n",
       "      <td>1.000000</td>\n",
       "      <td>-0.191842</td>\n",
       "      <td>-0.154462</td>\n",
       "      <td>-0.170133</td>\n",
       "      <td>-0.166208</td>\n",
       "      <td>-0.110639</td>\n",
       "      <td>-0.145721</td>\n",
       "      <td>-0.118680</td>\n",
       "      <td>-0.148869</td>\n",
       "      <td>-0.136630</td>\n",
       "      <td>-0.038743</td>\n",
       "      <td>-0.034591</td>\n",
       "      <td>0.130513</td>\n",
       "      <td>-0.011380</td>\n",
       "      <td>-0.045331</td>\n",
       "    </tr>\n",
       "    <tr>\n",
       "      <th>1</th>\n",
       "      <td>-0.191842</td>\n",
       "      <td>1.000000</td>\n",
       "      <td>-0.100841</td>\n",
       "      <td>-0.188270</td>\n",
       "      <td>-0.158753</td>\n",
       "      <td>-0.151458</td>\n",
       "      <td>-0.140862</td>\n",
       "      <td>-0.105740</td>\n",
       "      <td>-0.139230</td>\n",
       "      <td>-0.123126</td>\n",
       "      <td>-0.046101</td>\n",
       "      <td>-0.042082</td>\n",
       "      <td>0.074579</td>\n",
       "      <td>0.029630</td>\n",
       "      <td>0.144323</td>\n",
       "    </tr>\n",
       "    <tr>\n",
       "      <th>2</th>\n",
       "      <td>-0.154462</td>\n",
       "      <td>-0.100841</td>\n",
       "      <td>1.000000</td>\n",
       "      <td>-0.130949</td>\n",
       "      <td>-0.097455</td>\n",
       "      <td>-0.129034</td>\n",
       "      <td>-0.069440</td>\n",
       "      <td>-0.101857</td>\n",
       "      <td>-0.105018</td>\n",
       "      <td>-0.095338</td>\n",
       "      <td>0.005804</td>\n",
       "      <td>0.016804</td>\n",
       "      <td>0.014228</td>\n",
       "      <td>0.001247</td>\n",
       "      <td>-0.016705</td>\n",
       "    </tr>\n",
       "    <tr>\n",
       "      <th>3</th>\n",
       "      <td>-0.170133</td>\n",
       "      <td>-0.188270</td>\n",
       "      <td>-0.130949</td>\n",
       "      <td>1.000000</td>\n",
       "      <td>-0.121782</td>\n",
       "      <td>-0.122907</td>\n",
       "      <td>-0.108339</td>\n",
       "      <td>-0.114479</td>\n",
       "      <td>-0.042452</td>\n",
       "      <td>-0.065564</td>\n",
       "      <td>0.011287</td>\n",
       "      <td>0.006637</td>\n",
       "      <td>0.005196</td>\n",
       "      <td>0.004859</td>\n",
       "      <td>-0.014757</td>\n",
       "    </tr>\n",
       "    <tr>\n",
       "      <th>4</th>\n",
       "      <td>-0.166208</td>\n",
       "      <td>-0.158753</td>\n",
       "      <td>-0.097455</td>\n",
       "      <td>-0.121782</td>\n",
       "      <td>1.000000</td>\n",
       "      <td>-0.075901</td>\n",
       "      <td>-0.069405</td>\n",
       "      <td>-0.040293</td>\n",
       "      <td>-0.098041</td>\n",
       "      <td>-0.036624</td>\n",
       "      <td>0.026238</td>\n",
       "      <td>0.032056</td>\n",
       "      <td>-0.128539</td>\n",
       "      <td>-0.025887</td>\n",
       "      <td>-0.051439</td>\n",
       "    </tr>\n",
       "    <tr>\n",
       "      <th>5</th>\n",
       "      <td>-0.110639</td>\n",
       "      <td>-0.151458</td>\n",
       "      <td>-0.129034</td>\n",
       "      <td>-0.122907</td>\n",
       "      <td>-0.075901</td>\n",
       "      <td>1.000000</td>\n",
       "      <td>-0.097954</td>\n",
       "      <td>-0.054394</td>\n",
       "      <td>-0.094841</td>\n",
       "      <td>-0.076271</td>\n",
       "      <td>-0.024260</td>\n",
       "      <td>-0.033789</td>\n",
       "      <td>0.033632</td>\n",
       "      <td>-0.001703</td>\n",
       "      <td>0.022649</td>\n",
       "    </tr>\n",
       "    <tr>\n",
       "      <th>6</th>\n",
       "      <td>-0.145721</td>\n",
       "      <td>-0.140862</td>\n",
       "      <td>-0.069440</td>\n",
       "      <td>-0.108339</td>\n",
       "      <td>-0.069405</td>\n",
       "      <td>-0.097954</td>\n",
       "      <td>1.000000</td>\n",
       "      <td>-0.075153</td>\n",
       "      <td>-0.081133</td>\n",
       "      <td>-0.059696</td>\n",
       "      <td>0.054513</td>\n",
       "      <td>0.047641</td>\n",
       "      <td>-0.084565</td>\n",
       "      <td>-0.009280</td>\n",
       "      <td>-0.080413</td>\n",
       "    </tr>\n",
       "    <tr>\n",
       "      <th>7</th>\n",
       "      <td>-0.118680</td>\n",
       "      <td>-0.105740</td>\n",
       "      <td>-0.101857</td>\n",
       "      <td>-0.114479</td>\n",
       "      <td>-0.040293</td>\n",
       "      <td>-0.054394</td>\n",
       "      <td>-0.075153</td>\n",
       "      <td>1.000000</td>\n",
       "      <td>-0.071351</td>\n",
       "      <td>-0.060952</td>\n",
       "      <td>0.004548</td>\n",
       "      <td>0.003545</td>\n",
       "      <td>-0.018549</td>\n",
       "      <td>-0.020816</td>\n",
       "      <td>-0.010395</td>\n",
       "    </tr>\n",
       "    <tr>\n",
       "      <th>8</th>\n",
       "      <td>-0.148869</td>\n",
       "      <td>-0.139230</td>\n",
       "      <td>-0.105018</td>\n",
       "      <td>-0.042452</td>\n",
       "      <td>-0.098041</td>\n",
       "      <td>-0.094841</td>\n",
       "      <td>-0.081133</td>\n",
       "      <td>-0.071351</td>\n",
       "      <td>1.000000</td>\n",
       "      <td>-0.072843</td>\n",
       "      <td>0.024487</td>\n",
       "      <td>0.024064</td>\n",
       "      <td>0.016693</td>\n",
       "      <td>0.041460</td>\n",
       "      <td>0.068396</td>\n",
       "    </tr>\n",
       "    <tr>\n",
       "      <th>9</th>\n",
       "      <td>-0.136630</td>\n",
       "      <td>-0.123126</td>\n",
       "      <td>-0.095338</td>\n",
       "      <td>-0.065564</td>\n",
       "      <td>-0.036624</td>\n",
       "      <td>-0.076271</td>\n",
       "      <td>-0.059696</td>\n",
       "      <td>-0.060952</td>\n",
       "      <td>-0.072843</td>\n",
       "      <td>1.000000</td>\n",
       "      <td>0.020374</td>\n",
       "      <td>0.013247</td>\n",
       "      <td>-0.158069</td>\n",
       "      <td>-0.020757</td>\n",
       "      <td>-0.060117</td>\n",
       "    </tr>\n",
       "    <tr>\n",
       "      <th>10</th>\n",
       "      <td>-0.038743</td>\n",
       "      <td>-0.046101</td>\n",
       "      <td>0.005804</td>\n",
       "      <td>0.011287</td>\n",
       "      <td>0.026238</td>\n",
       "      <td>-0.024260</td>\n",
       "      <td>0.054513</td>\n",
       "      <td>0.004548</td>\n",
       "      <td>0.024487</td>\n",
       "      <td>0.020374</td>\n",
       "      <td>1.000000</td>\n",
       "      <td>0.840003</td>\n",
       "      <td>-0.014907</td>\n",
       "      <td>0.016636</td>\n",
       "      <td>-0.074306</td>\n",
       "    </tr>\n",
       "    <tr>\n",
       "      <th>11</th>\n",
       "      <td>-0.034591</td>\n",
       "      <td>-0.042082</td>\n",
       "      <td>0.016804</td>\n",
       "      <td>0.006637</td>\n",
       "      <td>0.032056</td>\n",
       "      <td>-0.033789</td>\n",
       "      <td>0.047641</td>\n",
       "      <td>0.003545</td>\n",
       "      <td>0.024064</td>\n",
       "      <td>0.013247</td>\n",
       "      <td>0.840003</td>\n",
       "      <td>1.000000</td>\n",
       "      <td>-0.012556</td>\n",
       "      <td>0.006733</td>\n",
       "      <td>-0.090680</td>\n",
       "    </tr>\n",
       "    <tr>\n",
       "      <th>12</th>\n",
       "      <td>0.130513</td>\n",
       "      <td>0.074579</td>\n",
       "      <td>0.014228</td>\n",
       "      <td>0.005196</td>\n",
       "      <td>-0.128539</td>\n",
       "      <td>0.033632</td>\n",
       "      <td>-0.084565</td>\n",
       "      <td>-0.018549</td>\n",
       "      <td>0.016693</td>\n",
       "      <td>-0.158069</td>\n",
       "      <td>-0.014907</td>\n",
       "      <td>-0.012556</td>\n",
       "      <td>1.000000</td>\n",
       "      <td>-0.004072</td>\n",
       "      <td>0.109752</td>\n",
       "    </tr>\n",
       "    <tr>\n",
       "      <th>Output</th>\n",
       "      <td>-0.011380</td>\n",
       "      <td>0.029630</td>\n",
       "      <td>0.001247</td>\n",
       "      <td>0.004859</td>\n",
       "      <td>-0.025887</td>\n",
       "      <td>-0.001703</td>\n",
       "      <td>-0.009280</td>\n",
       "      <td>-0.020816</td>\n",
       "      <td>0.041460</td>\n",
       "      <td>-0.020757</td>\n",
       "      <td>0.016636</td>\n",
       "      <td>0.006733</td>\n",
       "      <td>-0.004072</td>\n",
       "      <td>1.000000</td>\n",
       "      <td>0.012048</td>\n",
       "    </tr>\n",
       "    <tr>\n",
       "      <th>Output_pred</th>\n",
       "      <td>-0.045331</td>\n",
       "      <td>0.144323</td>\n",
       "      <td>-0.016705</td>\n",
       "      <td>-0.014757</td>\n",
       "      <td>-0.051439</td>\n",
       "      <td>0.022649</td>\n",
       "      <td>-0.080413</td>\n",
       "      <td>-0.010395</td>\n",
       "      <td>0.068396</td>\n",
       "      <td>-0.060117</td>\n",
       "      <td>-0.074306</td>\n",
       "      <td>-0.090680</td>\n",
       "      <td>0.109752</td>\n",
       "      <td>0.012048</td>\n",
       "      <td>1.000000</td>\n",
       "    </tr>\n",
       "  </tbody>\n",
       "</table>\n",
       "</div>"
      ],
      "text/plain": [
       "                    0         1         2         3         4         5  \\\n",
       "0            1.000000 -0.191842 -0.154462 -0.170133 -0.166208 -0.110639   \n",
       "1           -0.191842  1.000000 -0.100841 -0.188270 -0.158753 -0.151458   \n",
       "2           -0.154462 -0.100841  1.000000 -0.130949 -0.097455 -0.129034   \n",
       "3           -0.170133 -0.188270 -0.130949  1.000000 -0.121782 -0.122907   \n",
       "4           -0.166208 -0.158753 -0.097455 -0.121782  1.000000 -0.075901   \n",
       "5           -0.110639 -0.151458 -0.129034 -0.122907 -0.075901  1.000000   \n",
       "6           -0.145721 -0.140862 -0.069440 -0.108339 -0.069405 -0.097954   \n",
       "7           -0.118680 -0.105740 -0.101857 -0.114479 -0.040293 -0.054394   \n",
       "8           -0.148869 -0.139230 -0.105018 -0.042452 -0.098041 -0.094841   \n",
       "9           -0.136630 -0.123126 -0.095338 -0.065564 -0.036624 -0.076271   \n",
       "10          -0.038743 -0.046101  0.005804  0.011287  0.026238 -0.024260   \n",
       "11          -0.034591 -0.042082  0.016804  0.006637  0.032056 -0.033789   \n",
       "12           0.130513  0.074579  0.014228  0.005196 -0.128539  0.033632   \n",
       "Output      -0.011380  0.029630  0.001247  0.004859 -0.025887 -0.001703   \n",
       "Output_pred -0.045331  0.144323 -0.016705 -0.014757 -0.051439  0.022649   \n",
       "\n",
       "                    6         7         8         9        10        11  \\\n",
       "0           -0.145721 -0.118680 -0.148869 -0.136630 -0.038743 -0.034591   \n",
       "1           -0.140862 -0.105740 -0.139230 -0.123126 -0.046101 -0.042082   \n",
       "2           -0.069440 -0.101857 -0.105018 -0.095338  0.005804  0.016804   \n",
       "3           -0.108339 -0.114479 -0.042452 -0.065564  0.011287  0.006637   \n",
       "4           -0.069405 -0.040293 -0.098041 -0.036624  0.026238  0.032056   \n",
       "5           -0.097954 -0.054394 -0.094841 -0.076271 -0.024260 -0.033789   \n",
       "6            1.000000 -0.075153 -0.081133 -0.059696  0.054513  0.047641   \n",
       "7           -0.075153  1.000000 -0.071351 -0.060952  0.004548  0.003545   \n",
       "8           -0.081133 -0.071351  1.000000 -0.072843  0.024487  0.024064   \n",
       "9           -0.059696 -0.060952 -0.072843  1.000000  0.020374  0.013247   \n",
       "10           0.054513  0.004548  0.024487  0.020374  1.000000  0.840003   \n",
       "11           0.047641  0.003545  0.024064  0.013247  0.840003  1.000000   \n",
       "12          -0.084565 -0.018549  0.016693 -0.158069 -0.014907 -0.012556   \n",
       "Output      -0.009280 -0.020816  0.041460 -0.020757  0.016636  0.006733   \n",
       "Output_pred -0.080413 -0.010395  0.068396 -0.060117 -0.074306 -0.090680   \n",
       "\n",
       "                   12    Output  Output_pred  \n",
       "0            0.130513 -0.011380    -0.045331  \n",
       "1            0.074579  0.029630     0.144323  \n",
       "2            0.014228  0.001247    -0.016705  \n",
       "3            0.005196  0.004859    -0.014757  \n",
       "4           -0.128539 -0.025887    -0.051439  \n",
       "5            0.033632 -0.001703     0.022649  \n",
       "6           -0.084565 -0.009280    -0.080413  \n",
       "7           -0.018549 -0.020816    -0.010395  \n",
       "8            0.016693  0.041460     0.068396  \n",
       "9           -0.158069 -0.020757    -0.060117  \n",
       "10          -0.014907  0.016636    -0.074306  \n",
       "11          -0.012556  0.006733    -0.090680  \n",
       "12           1.000000 -0.004072     0.109752  \n",
       "Output      -0.004072  1.000000     0.012048  \n",
       "Output_pred  0.109752  0.012048     1.000000  "
      ]
     },
     "execution_count": 48,
     "metadata": {},
     "output_type": "execute_result"
    }
   ],
   "source": [
    "ResultCorr = np.array(AllResults.corr())\n",
    "AllResults.corr()"
   ]
  },
  {
   "cell_type": "code",
   "execution_count": 49,
   "metadata": {},
   "outputs": [
    {
     "data": {
      "image/png": "[encoded data removed]",
      "text/plain": [
       "<Figure size 288x288 with 1 Axes>"
      ]
     },
     "metadata": {
      "needs_background": "light"
     },
     "output_type": "display_data"
    }
   ],
   "source": [
    "plt.matshow(ResultCorr)\n",
    "plt.show()"
   ]
  },
  {
   "cell_type": "code",
   "execution_count": 50,
   "metadata": {},
   "outputs": [
    {
     "data": {
      "image/png": "[encoded data removed]",
      "text/plain": [
       "<Figure size 288x288 with 1 Axes>"
      ]
     },
     "metadata": {
      "needs_background": "light"
     },
     "output_type": "display_data"
    }
   ],
   "source": [
    "row_sums = ResultCorr.sum(axis=1, keepdims=True)\n",
    "norm_corr = ResultCorr / row_sums\n",
    "np.fill_diagonal(norm_corr, 0.005)\n",
    "\n",
    "plt.matshow(norm_corr)\n",
    "plt.show()"
   ]
  }
 ],
 "metadata": {
  "kernelspec": {
   "display_name": "Python 3",
   "language": "python",
   "name": "python3"
  },
  "language_info": {
   "codemirror_mode": {
    "name": "ipython",
    "version": 3
   },
   "file_extension": ".py",
   "mimetype": "text/x-python",
   "name": "python",
   "nbconvert_exporter": "python",
   "pygments_lexer": "ipython3",
   "version": "3.7.3"
  }
 },
 "nbformat": 4,
 "nbformat_minor": 2
}
