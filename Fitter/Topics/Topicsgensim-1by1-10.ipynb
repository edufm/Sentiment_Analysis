{
 "cells": [
  {
   "cell_type": "code",
   "execution_count": 1,
   "metadata": {},
   "outputs": [
    {
     "name": "stderr",
     "output_type": "stream",
     "text": [
      "C:\\Users\\edufe\\Anaconda3\\lib\\site-packages\\gensim\\utils.py:1197: UserWarning: detected Windows; aliasing chunkize to chunkize_serial\n",
      "  warnings.warn(\"detected Windows; aliasing chunkize to chunkize_serial\")\n"
     ]
    }
   ],
   "source": [
    "# more common imports\n",
    "import pandas as pd\n",
    "import numpy as np\n",
    "from collections import Counter\n",
    "import re\n",
    "import os\n",
    "\n",
    "# languange processing imports\n",
    "import nltk\n",
    "from gensim.corpora import Dictionary\n",
    "# preprocessing imports\n",
    "from sklearn.preprocessing import LabelEncoder\n",
    "\n",
    "# model imports\n",
    "from gensim.models.ldamulticore import LdaMulticore\n",
    "from gensim.models.word2vec import Word2Vec\n",
    "from sklearn.ensemble import RandomForestClassifier, AdaBoostClassifier\n",
    "from sklearn.linear_model import LogisticRegression\n",
    "# hyperparameter training imports\n",
    "from sklearn.model_selection import GridSearchCV\n",
    "\n",
    "# visualization imports\n",
    "from IPython.display import display\n",
    "import seaborn as sns\n",
    "import matplotlib.pyplot as plt\n",
    "import matplotlib.image as mpimg\n",
    "import io\n",
    "%matplotlib inline\n",
    "sns.set()  # defines the style of the plots to be seaborn style"
   ]
  },
  {
   "cell_type": "markdown",
   "metadata": {},
   "source": [
    "# Abre os dados"
   ]
  },
  {
   "cell_type": "code",
   "execution_count": 2,
   "metadata": {},
   "outputs": [],
   "source": [
    "#Verifica os dados no diretorio\n",
    "\n",
    "Data = os.listdir(\"../../Filter/Tweets_Filtered/\")\n",
    "for i in range(len(Data)):\n",
    "    Data[i] = Data[i].split(\".\")[0]\n",
    "    \n",
    "Pessoas = [\"realDonaldTrump\", \"jairbolsonaro\", \"hbredda\", \"gui_benchimol\", \"pedrocerize\"]\n",
    "\n",
    "NoticiasPolitica = [\"OGloboPolitica\", \"folha_poder\", \"GloboNews\", \"EstadaoPolitica\", \n",
    "                    \"RevistaEpoca\", \"valoreconomico\", \"g1politica\", \"conexaopolitica\", \"EstadaoEconomia\", \n",
    "                    \"UOLEconomia\", \"folha_mercado\", \"g1economia\", \"OGlobo_Economia\"]\n",
    "\n",
    "Noticias = [\"UOL\", \"folha\", \"g1\", \"VEJA\", \"cartacapital\", \"RevistaISTOE\"]\n",
    "\n",
    "#Monta um dicionario com todos datasets de twites de todas as pessoas\n",
    "Alvo = NoticiasPolitica\n",
    "\n",
    "\n",
    "AllData = pd.DataFrame()\n",
    "for i in Alvo:\n",
    "    if i in Data:\n",
    "        MoreData = pd.read_csv(\"../../Filter/Tweets_Filtered/{0}\".format(i+\".csv\"), sep=\";\", decimal=\",\", encoding='utf-16')\n",
    "        AllData = pd.concat([AllData, MoreData])\n",
    "    else:\n",
    "        print(\"{0} não disponivel\".format(i))\n",
    "        \n",
    "AllData = AllData.reset_index(drop=True)"
   ]
  },
  {
   "cell_type": "code",
   "execution_count": 3,
   "metadata": {},
   "outputs": [],
   "source": [
    "label_encoder = LabelEncoder()\n",
    "\n",
    "label_encoder.fit(AllData.Pessoa)\n",
    "AllData['Pessoa_id'] = label_encoder.transform(AllData.Pessoa)"
   ]
  },
  {
   "cell_type": "code",
   "execution_count": 4,
   "metadata": {},
   "outputs": [
    {
     "data": {
      "text/html": [
       "<div>\n",
       "<style scoped>\n",
       "    .dataframe tbody tr th:only-of-type {\n",
       "        vertical-align: middle;\n",
       "    }\n",
       "\n",
       "    .dataframe tbody tr th {\n",
       "        vertical-align: top;\n",
       "    }\n",
       "\n",
       "    .dataframe thead th {\n",
       "        text-align: right;\n",
       "    }\n",
       "</style>\n",
       "<table border=\"1\" class=\"dataframe\">\n",
       "  <thead>\n",
       "    <tr style=\"text-align: right;\">\n",
       "      <th></th>\n",
       "      <th>Pessoa</th>\n",
       "      <th>Data</th>\n",
       "      <th>Texto</th>\n",
       "      <th>Retweets</th>\n",
       "      <th>Likes</th>\n",
       "      <th>URL</th>\n",
       "      <th>Pessoa_id</th>\n",
       "    </tr>\n",
       "  </thead>\n",
       "  <tbody>\n",
       "    <tr>\n",
       "      <th>3207</th>\n",
       "      <td>folha_poder</td>\n",
       "      <td>2019-04-23 15:18:02</td>\n",
       "      <td>presidente do stj vê lula como cidadão comum e...</td>\n",
       "      <td>7</td>\n",
       "      <td>23</td>\n",
       "      <td>1</td>\n",
       "      <td>9</td>\n",
       "    </tr>\n",
       "    <tr>\n",
       "      <th>19606</th>\n",
       "      <td>g1politica</td>\n",
       "      <td>2019-03-30 16:02:12</td>\n",
       "      <td>agu consegue liminar e suspende decisão que im...</td>\n",
       "      <td>7</td>\n",
       "      <td>38</td>\n",
       "      <td>1</td>\n",
       "      <td>11</td>\n",
       "    </tr>\n",
       "    <tr>\n",
       "      <th>20478</th>\n",
       "      <td>g1politica</td>\n",
       "      <td>2019-02-20 00:28:13</td>\n",
       "      <td>governo precisa estreitar relação com congress...</td>\n",
       "      <td>4</td>\n",
       "      <td>19</td>\n",
       "      <td>1</td>\n",
       "      <td>11</td>\n",
       "    </tr>\n",
       "    <tr>\n",
       "      <th>23341</th>\n",
       "      <td>conexaopolitica</td>\n",
       "      <td>2019-02-25 17:12:50</td>\n",
       "      <td>ao vivo mike afirma essas pessoas bloquearam a...</td>\n",
       "      <td>129</td>\n",
       "      <td>719</td>\n",
       "      <td>0</td>\n",
       "      <td>7</td>\n",
       "    </tr>\n",
       "    <tr>\n",
       "      <th>10205</th>\n",
       "      <td>EstadaoPolitica</td>\n",
       "      <td>2019-02-05 18:33:40</td>\n",
       "      <td>pezão inelegível até 2022 tribunal regional el...</td>\n",
       "      <td>12</td>\n",
       "      <td>32</td>\n",
       "      <td>1</td>\n",
       "      <td>1</td>\n",
       "    </tr>\n",
       "  </tbody>\n",
       "</table>\n",
       "</div>"
      ],
      "text/plain": [
       "                Pessoa                 Data  \\\n",
       "3207       folha_poder  2019-04-23 15:18:02   \n",
       "19606       g1politica  2019-03-30 16:02:12   \n",
       "20478       g1politica  2019-02-20 00:28:13   \n",
       "23341  conexaopolitica  2019-02-25 17:12:50   \n",
       "10205  EstadaoPolitica  2019-02-05 18:33:40   \n",
       "\n",
       "                                                   Texto  Retweets  Likes  \\\n",
       "3207   presidente do stj vê lula como cidadão comum e...         7     23   \n",
       "19606  agu consegue liminar e suspende decisão que im...         7     38   \n",
       "20478  governo precisa estreitar relação com congress...         4     19   \n",
       "23341  ao vivo mike afirma essas pessoas bloquearam a...       129    719   \n",
       "10205  pezão inelegível até 2022 tribunal regional el...        12     32   \n",
       "\n",
       "       URL  Pessoa_id  \n",
       "3207     1          9  \n",
       "19606    1         11  \n",
       "20478    1         11  \n",
       "23341    0          7  \n",
       "10205    1          1  "
      ]
     },
     "execution_count": 4,
     "metadata": {},
     "output_type": "execute_result"
    }
   ],
   "source": [
    "AllData.sample(5)"
   ]
  },
  {
   "cell_type": "code",
   "execution_count": 5,
   "metadata": {},
   "outputs": [
    {
     "name": "stdout",
     "output_type": "stream",
     "text": [
      "The average number of words in a document is: 13.991752676762806.\n",
      "The minimum number of words in a document is: 2.\n",
      "The maximum number of words in a document is: 30.\n"
     ]
    }
   ],
   "source": [
    "document_lengths = np.array(list(map(len, AllData.Texto.str.split(' '))))\n",
    "\n",
    "print(\"The average number of words in a document is: {}.\".format(np.mean(document_lengths)))\n",
    "print(\"The minimum number of words in a document is: {}.\".format(min(document_lengths)))\n",
    "print(\"The maximum number of words in a document is: {}.\".format(max(document_lengths)))"
   ]
  },
  {
   "cell_type": "code",
   "execution_count": 6,
   "metadata": {},
   "outputs": [],
   "source": [
    "smallerthen4 = document_lengths <= 5\n",
    "\n",
    "for i in range(len(document_lengths)):\n",
    "    if smallerthen4[i]:\n",
    "        AllData = AllData.drop(i)\n",
    "\n",
    "document_lengths = np.array(list(map(len, AllData.Texto.str.split(' '))))"
   ]
  },
  {
   "cell_type": "code",
   "execution_count": 7,
   "metadata": {},
   "outputs": [
    {
     "name": "stderr",
     "output_type": "stream",
     "text": [
      "[nltk_data] Downloading package punkt to\n",
      "[nltk_data]     C:\\Users\\edufe\\AppData\\Roaming\\nltk_data...\n",
      "[nltk_data]   Package punkt is already up-to-date!\n",
      "[nltk_data] Downloading package stopwords to\n",
      "[nltk_data]     C:\\Users\\edufe\\AppData\\Roaming\\nltk_data...\n",
      "[nltk_data]   Package stopwords is already up-to-date!\n",
      "[nltk_data] Downloading package wordnet to\n",
      "[nltk_data]     C:\\Users\\edufe\\AppData\\Roaming\\nltk_data...\n",
      "[nltk_data]   Package wordnet is already up-to-date!\n"
     ]
    },
    {
     "data": {
      "text/plain": [
       "True"
      ]
     },
     "execution_count": 7,
     "metadata": {},
     "output_type": "execute_result"
    }
   ],
   "source": [
    "nltk.download('punkt')\n",
    "nltk.download('stopwords')\n",
    "nltk.download('wordnet')"
   ]
  },
  {
   "cell_type": "code",
   "execution_count": 8,
   "metadata": {},
   "outputs": [],
   "source": [
    "# Here we get transform the documents into sentences for the word2vecmodel\n",
    "# we made a function such that later on when we make the submission, we don't need to write duplicate code\n",
    "def w2v_preprocessing(df):\n",
    "    \"\"\" All the preprocessing steps for word2vec are done in this function.\n",
    "    All mutations are done on the dataframe itself. So this function returns\n",
    "    nothing.\n",
    "    \"\"\"\n",
    "    df['document_sentences'] = df.Texto.str.split('.')  # split texts into individual sentences\n",
    "    df['tokenized_sentences'] = list(map(lambda sentences:\n",
    "                                         list(map(nltk.word_tokenize, sentences)),\n",
    "                                         df.document_sentences))  # tokenize sentences\n",
    "    df['tokenized_sentences'] = list(map(lambda sentences:\n",
    "                                         list(sentences),\n",
    "                                         df.tokenized_sentences))  # remove unwanted characters\n",
    "    df['tokenized_sentences'] = list(map(lambda sentences:\n",
    "                                         list(filter(lambda lst: lst, sentences)),\n",
    "                                         df.tokenized_sentences))  # remove empty lists\n",
    "\n",
    "w2v_preprocessing(AllData)"
   ]
  },
  {
   "cell_type": "code",
   "execution_count": 9,
   "metadata": {},
   "outputs": [],
   "source": [
    "def lda_get_good_tokens(df):\n",
    "    df['tokenized_text'] = list(map(nltk.word_tokenize, df.Texto))\n",
    "    df['tokenized_text'] = list(df.tokenized_text)\n",
    "\n",
    "lda_get_good_tokens(AllData)"
   ]
  },
  {
   "cell_type": "code",
   "execution_count": 10,
   "metadata": {},
   "outputs": [
    {
     "name": "stdout",
     "output_type": "stream",
     "text": [
      "['de', 'a', 'o', 'que', 'e', 'do', 'da', 'em', 'um', 'para', 'com', 'não', 'uma', 'os', 'no', 'se', 'na', 'por', 'mais', 'as']\n"
     ]
    }
   ],
   "source": [
    "print(nltk.corpus.stopwords.words('portuguese')[0:20])"
   ]
  },
  {
   "cell_type": "code",
   "execution_count": 11,
   "metadata": {},
   "outputs": [],
   "source": [
    "def remove_stopwords(df):\n",
    "    \"\"\" Removes stopwords based on a known set of stopwords\n",
    "    available in the nltk package. In addition, we include our\n",
    "    made up word in here.\n",
    "    \"\"\"\n",
    "    # Luckily nltk already has a set of stopwords that we can remove from the texts.\n",
    "    stopwords = nltk.corpus.stopwords.words('portuguese')[0:20]\n",
    "    \n",
    "    del(stopwords[stopwords.index(\"não\")])\n",
    "    ManualStop = [\"istoégente\", \"expressoepoca\", \"globonews\", \"estudioi\", \"rt\", \"andreiasadi\",\n",
    "                  \"’\", \"‘\", \"”\", \"“\", \"r\", \",\", \".\", \"…\", \"diz\", \"à\", \"ao\"]\n",
    "    Numbers = list(range(10))\n",
    "    stopwords = stopwords + ManualStop + Numbers\n",
    "    \n",
    "    df['stopwords_removed'] = list(map(lambda doc:\n",
    "                                       [word for word in doc if word not in stopwords],\n",
    "                                       df['tokenized_text']))\n",
    "\n",
    "remove_stopwords(AllData)"
   ]
  },
  {
   "cell_type": "code",
   "execution_count": 12,
   "metadata": {},
   "outputs": [
    {
     "name": "stdout",
     "output_type": "stream",
     "text": [
      "Found 29532 words.\n"
     ]
    }
   ],
   "source": [
    "dictionary = Dictionary(documents=AllData.stopwords_removed.values)\n",
    "\n",
    "print(\"Found {} words.\".format(len(dictionary.values())))"
   ]
  },
  {
   "cell_type": "code",
   "execution_count": 13,
   "metadata": {},
   "outputs": [
    {
     "name": "stdout",
     "output_type": "stream",
     "text": [
      "Left with 12050 words.\n"
     ]
    }
   ],
   "source": [
    "dictionary.filter_extremes(no_above=0.8, no_below=3)\n",
    "\n",
    "dictionary.compactify()  # Reindexes the remaining words after filtering\n",
    "print(\"Left with {} words.\".format(len(dictionary.values())))"
   ]
  },
  {
   "cell_type": "code",
   "execution_count": 14,
   "metadata": {},
   "outputs": [],
   "source": [
    "def document_to_bow(df):\n",
    "    df['bow'] = list(map(lambda doc: dictionary.doc2bow(doc), df.stopwords_removed))\n",
    "    \n",
    "document_to_bow(AllData)"
   ]
  },
  {
   "cell_type": "code",
   "execution_count": 15,
   "metadata": {},
   "outputs": [],
   "source": [
    "def lda_preprocessing(df):\n",
    "    \"\"\" All the preprocessing steps for LDA are combined in this function.\n",
    "    All mutations are done on the dataframe itself. So this function returns\n",
    "    nothing.\n",
    "    \"\"\"\n",
    "    lda_get_good_tokens(df)\n",
    "    remove_stopwords(df)\n",
    "    document_to_bow(df)"
   ]
  },
  {
   "cell_type": "code",
   "execution_count": 16,
   "metadata": {
    "scrolled": true
   },
   "outputs": [
    {
     "data": {
      "text/html": [
       "<div>\n",
       "<style scoped>\n",
       "    .dataframe tbody tr th:only-of-type {\n",
       "        vertical-align: middle;\n",
       "    }\n",
       "\n",
       "    .dataframe tbody tr th {\n",
       "        vertical-align: top;\n",
       "    }\n",
       "\n",
       "    .dataframe thead th {\n",
       "        text-align: right;\n",
       "    }\n",
       "</style>\n",
       "<table border=\"1\" class=\"dataframe\">\n",
       "  <thead>\n",
       "    <tr style=\"text-align: right;\">\n",
       "      <th></th>\n",
       "      <th>Pessoa</th>\n",
       "      <th>Data</th>\n",
       "      <th>Texto</th>\n",
       "      <th>Retweets</th>\n",
       "      <th>Likes</th>\n",
       "      <th>URL</th>\n",
       "      <th>Pessoa_id</th>\n",
       "      <th>document_sentences</th>\n",
       "      <th>tokenized_sentences</th>\n",
       "      <th>tokenized_text</th>\n",
       "      <th>stopwords_removed</th>\n",
       "      <th>bow</th>\n",
       "    </tr>\n",
       "  </thead>\n",
       "  <tbody>\n",
       "    <tr>\n",
       "      <th>26067</th>\n",
       "      <td>EstadaoEconomia</td>\n",
       "      <td>2018-11-26 15:00:00</td>\n",
       "      <td>para atrair clientes bancos estendem promoções...</td>\n",
       "      <td>1</td>\n",
       "      <td>2</td>\n",
       "      <td>1</td>\n",
       "      <td>0</td>\n",
       "      <td>[para atrair clientes bancos estendem promoçõe...</td>\n",
       "      <td>[[para, atrair, clientes, bancos, estendem, pr...</td>\n",
       "      <td>[para, atrair, clientes, bancos, estendem, pro...</td>\n",
       "      <td>[atrair, clientes, bancos, estendem, promoções...</td>\n",
       "      <td>[(159, 1), (412, 1), (1244, 1), (3376, 1), (33...</td>\n",
       "    </tr>\n",
       "    <tr>\n",
       "      <th>8737</th>\n",
       "      <td>GloboNews</td>\n",
       "      <td>2019-02-27 17:20:18</td>\n",
       "      <td>relembre outras colisões entre trens da superv...</td>\n",
       "      <td>1</td>\n",
       "      <td>16</td>\n",
       "      <td>1</td>\n",
       "      <td>2</td>\n",
       "      <td>[relembre outras colisões entre trens da super...</td>\n",
       "      <td>[[relembre, outras, colisões, entre, trens, da...</td>\n",
       "      <td>[relembre, outras, colisões, entre, trens, da,...</td>\n",
       "      <td>[relembre, outras, colisões, entre, trens, sup...</td>\n",
       "      <td>[(63, 1), (571, 1), (572, 1), (624, 1), (664, ...</td>\n",
       "    </tr>\n",
       "    <tr>\n",
       "      <th>19109</th>\n",
       "      <td>g1politica</td>\n",
       "      <td>2019-04-23 15:48:11</td>\n",
       "      <td>relator da pec da previdência na ccj anuncia a...</td>\n",
       "      <td>2</td>\n",
       "      <td>11</td>\n",
       "      <td>1</td>\n",
       "      <td>11</td>\n",
       "      <td>[relator da pec da previdência na ccj anuncia ...</td>\n",
       "      <td>[[relator, da, pec, da, previdência, na, ccj, ...</td>\n",
       "      <td>[relator, da, pec, da, previdência, na, ccj, a...</td>\n",
       "      <td>[relator, pec, previdência, ccj, anuncia, alte...</td>\n",
       "      <td>[(42, 1), (145, 1), (499, 1), (922, 1), (995, ...</td>\n",
       "    </tr>\n",
       "    <tr>\n",
       "      <th>2246</th>\n",
       "      <td>OGloboPolitica</td>\n",
       "      <td>2019-01-11 20:45:21</td>\n",
       "      <td>mpf pede condenação de rocha loures por mala c...</td>\n",
       "      <td>10</td>\n",
       "      <td>25</td>\n",
       "      <td>1</td>\n",
       "      <td>3</td>\n",
       "      <td>[mpf pede condenação de rocha loures por mala ...</td>\n",
       "      <td>[[mpf, pede, condenação, de, rocha, loures, po...</td>\n",
       "      <td>[mpf, pede, condenação, de, rocha, loures, por...</td>\n",
       "      <td>[mpf, pede, condenação, rocha, loures, mala, 5...</td>\n",
       "      <td>[(86, 1), (166, 1), (196, 1), (472, 1), (479, ...</td>\n",
       "    </tr>\n",
       "    <tr>\n",
       "      <th>3530</th>\n",
       "      <td>folha_poder</td>\n",
       "      <td>2019-04-04 05:20:02</td>\n",
       "      <td>família de lula deve ir à justiça contra hospi...</td>\n",
       "      <td>6</td>\n",
       "      <td>28</td>\n",
       "      <td>1</td>\n",
       "      <td>9</td>\n",
       "      <td>[família de lula deve ir à justiça contra hosp...</td>\n",
       "      <td>[[família, de, lula, deve, ir, à, justiça, con...</td>\n",
       "      <td>[família, de, lula, deve, ir, à, justiça, cont...</td>\n",
       "      <td>[família, lula, deve, ir, justiça, contra, hos...</td>\n",
       "      <td>[(12, 1), (15, 1), (22, 1), (92, 1), (408, 1),...</td>\n",
       "    </tr>\n",
       "  </tbody>\n",
       "</table>\n",
       "</div>"
      ],
      "text/plain": [
       "                Pessoa                 Data  \\\n",
       "26067  EstadaoEconomia  2018-11-26 15:00:00   \n",
       "8737         GloboNews  2019-02-27 17:20:18   \n",
       "19109       g1politica  2019-04-23 15:48:11   \n",
       "2246    OGloboPolitica  2019-01-11 20:45:21   \n",
       "3530       folha_poder  2019-04-04 05:20:02   \n",
       "\n",
       "                                                   Texto  Retweets  Likes  \\\n",
       "26067  para atrair clientes bancos estendem promoções...         1      2   \n",
       "8737   relembre outras colisões entre trens da superv...         1     16   \n",
       "19109  relator da pec da previdência na ccj anuncia a...         2     11   \n",
       "2246   mpf pede condenação de rocha loures por mala c...        10     25   \n",
       "3530   família de lula deve ir à justiça contra hospi...         6     28   \n",
       "\n",
       "       URL  Pessoa_id                                 document_sentences  \\\n",
       "26067    1          0  [para atrair clientes bancos estendem promoçõe...   \n",
       "8737     1          2  [relembre outras colisões entre trens da super...   \n",
       "19109    1         11  [relator da pec da previdência na ccj anuncia ...   \n",
       "2246     1          3  [mpf pede condenação de rocha loures por mala ...   \n",
       "3530     1          9  [família de lula deve ir à justiça contra hosp...   \n",
       "\n",
       "                                     tokenized_sentences  \\\n",
       "26067  [[para, atrair, clientes, bancos, estendem, pr...   \n",
       "8737   [[relembre, outras, colisões, entre, trens, da...   \n",
       "19109  [[relator, da, pec, da, previdência, na, ccj, ...   \n",
       "2246   [[mpf, pede, condenação, de, rocha, loures, po...   \n",
       "3530   [[família, de, lula, deve, ir, à, justiça, con...   \n",
       "\n",
       "                                          tokenized_text  \\\n",
       "26067  [para, atrair, clientes, bancos, estendem, pro...   \n",
       "8737   [relembre, outras, colisões, entre, trens, da,...   \n",
       "19109  [relator, da, pec, da, previdência, na, ccj, a...   \n",
       "2246   [mpf, pede, condenação, de, rocha, loures, por...   \n",
       "3530   [família, de, lula, deve, ir, à, justiça, cont...   \n",
       "\n",
       "                                       stopwords_removed  \\\n",
       "26067  [atrair, clientes, bancos, estendem, promoções...   \n",
       "8737   [relembre, outras, colisões, entre, trens, sup...   \n",
       "19109  [relator, pec, previdência, ccj, anuncia, alte...   \n",
       "2246   [mpf, pede, condenação, rocha, loures, mala, 5...   \n",
       "3530   [família, lula, deve, ir, justiça, contra, hos...   \n",
       "\n",
       "                                                     bow  \n",
       "26067  [(159, 1), (412, 1), (1244, 1), (3376, 1), (33...  \n",
       "8737   [(63, 1), (571, 1), (572, 1), (624, 1), (664, ...  \n",
       "19109  [(42, 1), (145, 1), (499, 1), (922, 1), (995, ...  \n",
       "2246   [(86, 1), (166, 1), (196, 1), (472, 1), (479, ...  \n",
       "3530   [(12, 1), (15, 1), (22, 1), (92, 1), (408, 1),...  "
      ]
     },
     "execution_count": 16,
     "metadata": {},
     "output_type": "execute_result"
    }
   ],
   "source": [
    "AllData.sample(5)"
   ]
  },
  {
   "cell_type": "markdown",
   "metadata": {},
   "source": [
    "# Análise de tópicos"
   ]
  },
  {
   "cell_type": "code",
   "execution_count": 17,
   "metadata": {},
   "outputs": [],
   "source": [
    "corpus = AllData.bow"
   ]
  },
  {
   "cell_type": "code",
   "execution_count": 18,
   "metadata": {
    "scrolled": true
   },
   "outputs": [],
   "source": [
    "num_topics = 10\n",
    "#A multicore approach to decrease training time\n",
    "LDAmodel = LdaMulticore(corpus=corpus,\n",
    "                        id2word=dictionary,\n",
    "                        num_topics=num_topics,\n",
    "                        workers=11,\n",
    "                        chunksize=10000,\n",
    "                        iterations = 5,\n",
    "                        passes=7,\n",
    "                        alpha='asymmetric')"
   ]
  },
  {
   "cell_type": "code",
   "execution_count": 22,
   "metadata": {},
   "outputs": [],
   "source": [
    "def document_to_lda_features(lda_model, document):\n",
    "    \"\"\" Transforms a bag of words document to features.\n",
    "    It returns the proportion of how much each topic was\n",
    "    present in the document.\n",
    "    \"\"\"\n",
    "    topic_importances = LDAmodel.get_document_topics(document, minimum_probability=0)\n",
    "    topic_importances = np.array(topic_importances)\n",
    "    return topic_importances[:,1]\n",
    "\n",
    "AllData['lda_features'] = list(map(lambda doc:\n",
    "                              document_to_lda_features(LDAmodel, doc),\n",
    "                              AllData.bow))"
   ]
  },
  {
   "cell_type": "code",
   "execution_count": 23,
   "metadata": {
    "scrolled": true
   },
   "outputs": [
    {
     "data": {
      "image/png": "[encoded data removed]",
      "text/plain": [
       "<Figure size 1440x2880 with 13 Axes>"
      ]
     },
     "metadata": {
      "needs_background": "light"
     },
     "output_type": "display_data"
    }
   ],
   "source": [
    "topic_distribution = []\n",
    "for i in Alvo:\n",
    "    topic_distribution.append(AllData.loc[AllData.Pessoa == i, 'lda_features'].mean())\n",
    "    \n",
    "ax = 1 \n",
    "\n",
    "Axes = [ax]*len(Alvo)\n",
    "fig, Axes = plt.subplots(len(Alvo),figsize=(20,40))\n",
    "\n",
    "nr_top_bars = 1\n",
    "\n",
    "for i in range(len(Axes)):\n",
    "    Axes[i].set_title(Alvo[i])\n",
    "\n",
    "for ax, distribution in zip(Axes, topic_distribution):\n",
    "    # Individual distribution barplots\n",
    "    ax.bar(range(len(distribution)), distribution, alpha=0.7)\n",
    "    rects = ax.patches\n",
    "    for i in np.argsort(distribution)[-nr_top_bars:]:\n",
    "        rects[i].set_alpha(1)\n",
    "    # General plotting adjustments\n",
    "    ax.set_xlim(-1, num_topics)\n",
    "    ax.set_ylim(0,0.5)"
   ]
  },
  {
   "cell_type": "code",
   "execution_count": 24,
   "metadata": {
    "scrolled": true
   },
   "outputs": [
    {
     "data": {
      "text/html": [
       "<div>\n",
       "<style scoped>\n",
       "    .dataframe tbody tr th:only-of-type {\n",
       "        vertical-align: middle;\n",
       "    }\n",
       "\n",
       "    .dataframe tbody tr th {\n",
       "        vertical-align: top;\n",
       "    }\n",
       "\n",
       "    .dataframe thead th {\n",
       "        text-align: right;\n",
       "    }\n",
       "</style>\n",
       "<table border=\"1\" class=\"dataframe\">\n",
       "  <thead>\n",
       "    <tr style=\"text-align: right;\">\n",
       "      <th></th>\n",
       "      <th>Pessoa</th>\n",
       "      <th>Data</th>\n",
       "      <th>Texto</th>\n",
       "      <th>Retweets</th>\n",
       "      <th>Likes</th>\n",
       "      <th>URL</th>\n",
       "      <th>Pessoa_id</th>\n",
       "      <th>document_sentences</th>\n",
       "      <th>tokenized_sentences</th>\n",
       "      <th>tokenized_text</th>\n",
       "      <th>stopwords_removed</th>\n",
       "      <th>bow</th>\n",
       "      <th>lda_features</th>\n",
       "    </tr>\n",
       "  </thead>\n",
       "  <tbody>\n",
       "    <tr>\n",
       "      <th>31275</th>\n",
       "      <td>UOLEconomia</td>\n",
       "      <td>2019-01-04 19:20:15</td>\n",
       "      <td>dólar tem maior queda semanal em 3 meses e fec...</td>\n",
       "      <td>6</td>\n",
       "      <td>22</td>\n",
       "      <td>1</td>\n",
       "      <td>6</td>\n",
       "      <td>[dólar tem maior queda semanal em 3 meses e fe...</td>\n",
       "      <td>[[dólar, tem, maior, queda, semanal, em, 3, me...</td>\n",
       "      <td>[dólar, tem, maior, queda, semanal, em, 3, mes...</td>\n",
       "      <td>[dólar, tem, maior, queda, semanal, 3, meses, ...</td>\n",
       "      <td>[(61, 1), (338, 1), (928, 1), (1142, 1), (1195...</td>\n",
       "      <td>[0.01867477037012577, 0.03789157420396805, 0.0...</td>\n",
       "    </tr>\n",
       "    <tr>\n",
       "      <th>26134</th>\n",
       "      <td>EstadaoEconomia</td>\n",
       "      <td>2018-11-09 15:30:00</td>\n",
       "      <td>governo estuda pacote para reduzir conta de luz</td>\n",
       "      <td>3</td>\n",
       "      <td>6</td>\n",
       "      <td>1</td>\n",
       "      <td>0</td>\n",
       "      <td>[governo estuda pacote para reduzir conta de l...</td>\n",
       "      <td>[[governo, estuda, pacote, para, reduzir, cont...</td>\n",
       "      <td>[governo, estuda, pacote, para, reduzir, conta...</td>\n",
       "      <td>[governo, estuda, pacote, reduzir, conta, luz]</td>\n",
       "      <td>[(111, 1), (172, 1), (639, 1), (2281, 1), (232...</td>\n",
       "      <td>[0.2715478837490082, 0.4289078712463379, 0.017...</td>\n",
       "    </tr>\n",
       "    <tr>\n",
       "      <th>28581</th>\n",
       "      <td>EstadaoEconomia</td>\n",
       "      <td>2017-09-05 12:57:04</td>\n",
       "      <td>produção industrial sobe 0 8 em julho e regist...</td>\n",
       "      <td>5</td>\n",
       "      <td>3</td>\n",
       "      <td>1</td>\n",
       "      <td>0</td>\n",
       "      <td>[produção industrial sobe 0 8 em julho e regis...</td>\n",
       "      <td>[[produção, industrial, sobe, 0, 8, em, julho,...</td>\n",
       "      <td>[produção, industrial, sobe, 0, 8, em, julho, ...</td>\n",
       "      <td>[produção, industrial, sobe, 0, 8, julho, regi...</td>\n",
       "      <td>[(313, 1), (1690, 1), (2738, 1), (3477, 1), (4...</td>\n",
       "      <td>[0.01872151717543602, 0.014118212275207043, 0....</td>\n",
       "    </tr>\n",
       "    <tr>\n",
       "      <th>21631</th>\n",
       "      <td>g1politica</td>\n",
       "      <td>2018-12-21 19:56:08</td>\n",
       "      <td>toffoli nega mudar regras sobre escolha de gab...</td>\n",
       "      <td>1</td>\n",
       "      <td>3</td>\n",
       "      <td>1</td>\n",
       "      <td>11</td>\n",
       "      <td>[toffoli nega mudar regras sobre escolha de ga...</td>\n",
       "      <td>[[toffoli, nega, mudar, regras, sobre, escolha...</td>\n",
       "      <td>[toffoli, nega, mudar, regras, sobre, escolha,...</td>\n",
       "      <td>[toffoli, nega, mudar, regras, sobre, escolha,...</td>\n",
       "      <td>[(27, 1), (209, 1), (447, 1), (599, 1), (908, ...</td>\n",
       "      <td>[0.10789380967617035, 0.017225494608283043, 0....</td>\n",
       "    </tr>\n",
       "    <tr>\n",
       "      <th>3998</th>\n",
       "      <td>folha_poder</td>\n",
       "      <td>2019-03-09 05:18:02</td>\n",
       "      <td>235 deputados apoiam frente de defesa do servi...</td>\n",
       "      <td>11</td>\n",
       "      <td>17</td>\n",
       "      <td>1</td>\n",
       "      <td>9</td>\n",
       "      <td>[235 deputados apoiam frente de defesa do serv...</td>\n",
       "      <td>[[235, deputados, apoiam, frente, de, defesa, ...</td>\n",
       "      <td>[235, deputados, apoiam, frente, de, defesa, d...</td>\n",
       "      <td>[235, deputados, apoiam, frente, defesa, servi...</td>\n",
       "      <td>[(166, 1), (296, 1), (406, 1), (407, 1), (550,...</td>\n",
       "      <td>[0.2916732132434845, 0.013897992670536041, 0.0...</td>\n",
       "    </tr>\n",
       "  </tbody>\n",
       "</table>\n",
       "</div>"
      ],
      "text/plain": [
       "                Pessoa                 Data  \\\n",
       "31275      UOLEconomia  2019-01-04 19:20:15   \n",
       "26134  EstadaoEconomia  2018-11-09 15:30:00   \n",
       "28581  EstadaoEconomia  2017-09-05 12:57:04   \n",
       "21631       g1politica  2018-12-21 19:56:08   \n",
       "3998       folha_poder  2019-03-09 05:18:02   \n",
       "\n",
       "                                                   Texto  Retweets  Likes  \\\n",
       "31275  dólar tem maior queda semanal em 3 meses e fec...         6     22   \n",
       "26134   governo estuda pacote para reduzir conta de luz          3      6   \n",
       "28581  produção industrial sobe 0 8 em julho e regist...         5      3   \n",
       "21631  toffoli nega mudar regras sobre escolha de gab...         1      3   \n",
       "3998   235 deputados apoiam frente de defesa do servi...        11     17   \n",
       "\n",
       "       URL  Pessoa_id                                 document_sentences  \\\n",
       "31275    1          6  [dólar tem maior queda semanal em 3 meses e fe...   \n",
       "26134    1          0  [governo estuda pacote para reduzir conta de l...   \n",
       "28581    1          0  [produção industrial sobe 0 8 em julho e regis...   \n",
       "21631    1         11  [toffoli nega mudar regras sobre escolha de ga...   \n",
       "3998     1          9  [235 deputados apoiam frente de defesa do serv...   \n",
       "\n",
       "                                     tokenized_sentences  \\\n",
       "31275  [[dólar, tem, maior, queda, semanal, em, 3, me...   \n",
       "26134  [[governo, estuda, pacote, para, reduzir, cont...   \n",
       "28581  [[produção, industrial, sobe, 0, 8, em, julho,...   \n",
       "21631  [[toffoli, nega, mudar, regras, sobre, escolha...   \n",
       "3998   [[235, deputados, apoiam, frente, de, defesa, ...   \n",
       "\n",
       "                                          tokenized_text  \\\n",
       "31275  [dólar, tem, maior, queda, semanal, em, 3, mes...   \n",
       "26134  [governo, estuda, pacote, para, reduzir, conta...   \n",
       "28581  [produção, industrial, sobe, 0, 8, em, julho, ...   \n",
       "21631  [toffoli, nega, mudar, regras, sobre, escolha,...   \n",
       "3998   [235, deputados, apoiam, frente, de, defesa, d...   \n",
       "\n",
       "                                       stopwords_removed  \\\n",
       "31275  [dólar, tem, maior, queda, semanal, 3, meses, ...   \n",
       "26134     [governo, estuda, pacote, reduzir, conta, luz]   \n",
       "28581  [produção, industrial, sobe, 0, 8, julho, regi...   \n",
       "21631  [toffoli, nega, mudar, regras, sobre, escolha,...   \n",
       "3998   [235, deputados, apoiam, frente, defesa, servi...   \n",
       "\n",
       "                                                     bow  \\\n",
       "31275  [(61, 1), (338, 1), (928, 1), (1142, 1), (1195...   \n",
       "26134  [(111, 1), (172, 1), (639, 1), (2281, 1), (232...   \n",
       "28581  [(313, 1), (1690, 1), (2738, 1), (3477, 1), (4...   \n",
       "21631  [(27, 1), (209, 1), (447, 1), (599, 1), (908, ...   \n",
       "3998   [(166, 1), (296, 1), (406, 1), (407, 1), (550,...   \n",
       "\n",
       "                                            lda_features  \n",
       "31275  [0.01867477037012577, 0.03789157420396805, 0.0...  \n",
       "26134  [0.2715478837490082, 0.4289078712463379, 0.017...  \n",
       "28581  [0.01872151717543602, 0.014118212275207043, 0....  \n",
       "21631  [0.10789380967617035, 0.017225494608283043, 0....  \n",
       "3998   [0.2916732132434845, 0.013897992670536041, 0.0...  "
      ]
     },
     "execution_count": 24,
     "metadata": {},
     "output_type": "execute_result"
    }
   ],
   "source": [
    "AllData.sample(5)"
   ]
  },
  {
   "cell_type": "code",
   "execution_count": 25,
   "metadata": {},
   "outputs": [],
   "source": [
    "def get_topic_top_words(lda_model, topic_id, nr_top_words=5):\n",
    "    \"\"\" Returns the top words for topic_id from lda_model.\"\"\"\n",
    "    id_tuples = lda_model.get_topic_terms(topic_id, topn=nr_top_words)\n",
    "    word_ids = np.array(id_tuples)[:,0]\n",
    "    words = map(lambda id_: lda_model.id2word[id_], word_ids)\n",
    "    return words"
   ]
  },
  {
   "cell_type": "code",
   "execution_count": 26,
   "metadata": {
    "scrolled": true
   },
   "outputs": [
    {
     "name": "stdout",
     "output_type": "stream",
     "text": [
      "Looking up top words from top topics\n",
      "'For topic 1, the top words are:'\n",
      "('é, sobre, brasil, governo, bolsonaro, contra, são, lula, não, presidente, '\n",
      " 'após, pede, stf, pela, ex, vai, últimas, ser, petrobras, vale, até, justiça, '\n",
      " 'bi, ação, caixa, milhões, eua, nos, anuncia, us, decreto, dados, temer, '\n",
      " 'empresas, estadão, avianca, venda, foi, como, das, paulo, rio, prisão, '\n",
      " 'armas, regras, previdência, dos, bancos, campanha, nas')\n",
      "''\n",
      "'For topic 2, the top words are:'\n",
      "('bolsonaro, não, é, tem, governo, mas, brasil, ministro, vai, sobre, acordo, '\n",
      " 'quer, dos, terá, pode, presidente, entre, após, país, são, câmara, estadão, '\n",
      " 'contra, está, crise, 2018, paulo, bi, previdência, faz, ainda, últimas, '\n",
      " 'veja, embraer, maia, das, empresa, maior, milhões, como, reforma, anos, '\n",
      " 'tenta, eua, futuro, 2, psl, petróleo, sp, apoio')\n",
      "''\n",
      "'For topic 3, the top words are:'\n",
      "('brasil, 1, não, eua, bolsonaro, dos, china, 2019, economia, mercado, das, '\n",
      " 'pib, 2018, bc, crescimento, quer, é, brasileira, empresas, ano, tem, nas, '\n",
      " 'nos, vai, governo, lula, 2017, preço, entre, país, petrobras, comercial, '\n",
      " 'pela, reduz, 2, comércio, 5, semana, sobre, conheça, ministro, inflação, '\n",
      " 'rio, anos, 4, como, preços, após, janeiro, foi')\n",
      "''\n",
      "'For topic 4, the top words are:'\n",
      "('governo, lava, jato, bolsonaro, é, temer, bilhões, pf, sobre, justiça, 4, '\n",
      " 'nacional, ex, 2018, ministro, 0, vai, política, ano, mil, presidente, pelo, '\n",
      " 'reforma, supremo, psl, inflação, cresce, 5, dia, rio, prisão, federal, lula, '\n",
      " 'nova, como, crédito, filho, 6, notícias, pede, pela, 1, faz, vê, caso, '\n",
      " 'janeiro, busca, stj, dinheiro, principais')\n",
      "''\n",
      "'For topic 5, the top words are:'\n",
      "('anos, bolsonaro, dos, foi, já, guilherme, amado, é, como, governo, paulo, '\n",
      " 'são, brasil, redes, não, seu, vídeo, rio, há, sobre, sociais, nas, você, '\n",
      " 'tem, presidente, vai, mundo, três, veja, cinco, está, ministro, estão, '\n",
      " 'mostra, pelo, coluna, entre, país, ex, dez, análise, ir, jairbolsonaro, mil, '\n",
      " 'dois, durante, 30, janeiro, das, agora')\n",
      "''\n",
      "'For topic 6, the top words are:'\n",
      "('previdência, reforma, bolsonaro, sobre, guedes, não, moro, câmara, governo, '\n",
      " 'congresso, vai, dos, proposta, é, ccj, como, militares, maia, deve, sem, '\n",
      " 'pode, projeto, política, banco, presidente, contra, estados, comissão, está, '\n",
      " 'deputados, ser, senado, secretário, após, lei, defende, quer, onyx, '\n",
      " 'ministro, pacote, temer, será, aposentadoria, semana, pec, líderes, '\n",
      " 'anticrime, das, parlamentares, aprovar')\n",
      "''\n",
      "'For topic 7, the top words are:'\n",
      "('pode, vagas, mil, é, stf, até, brumadinho, deve, após, não, vale, receita, '\n",
      " 'ser, abre, ter, emprego, governo, tem, milhões, sobre, salário, primeiro, '\n",
      " 'salários, marco, barragem, nesta, decisão, segunda, aurélio, 5, como, '\n",
      " 'imposto, quarta, 2, 2019, renda, feira, pagar, bolsonaro, presidente, anos, '\n",
      " 'instância, bi, veja, ir, 10, rio, concurso, neste, 1')\n",
      "''\n",
      "'For topic 8, the top words are:'\n",
      "('3, dólar, queda, cai, fecha, bolsa, alta, sobe, 2, é, 1, após, sp, opera, '\n",
      " 'número, maior, governo, valor, 0, milhões, nesta, tem, feira, recua, '\n",
      " 'bovespa, pesquisa, dos, recuperação, minas, pessoas, pelo, 5, sobre, '\n",
      " 'ibovespa, final, preço, país, ministro, ser, vale, meio, mercado, médio, '\n",
      " 'quase, das, energia, dia, semana, desde, às')\n",
      "''\n",
      "'For topic 9, the top words are:'\n",
      "('não, presidente, bolsonaro, é, novo, ministério, será, sobre, está, governo, '\n",
      " 'posse, são, jair, política, jairbolsonaro, trabalho, como, dias, paulo, '\n",
      " 'ministro, eleito, ex, dia, quem, temer, ser, conexão, federal, coluna, seu, '\n",
      " 'disse, dos, hoje, todos, deputado, tem, público, vivo, nos, também, ou, rio, '\n",
      " 'mulher, equipe, já, brasil, pf, d…, saber, agora')\n",
      "''\n",
      "'For topic 10, the top words are:'\n",
      "('sobre, é, presidente, bolsonaro, governo, após, venezuela, feira, nesta, '\n",
      " 'mourão, vivo, não, presidência, bebianno, maia, terça, senado, trump, pt, '\n",
      " 'jairbolsonaro, dos, doria, foi, muito, maduro, ex, gilmar, mendes, ministro, '\n",
      " 'suzano, fala, câmara, rio, rodrigo, cargos, alcolumbre, sem, mdb, estar, '\n",
      " 'casa, joão, como, aliados, fronteira, flávio, guaidó, renan, hoje, dem, pela')\n",
      "''\n",
      "\n"
     ]
    }
   ],
   "source": [
    "from pprint import pprint\n",
    "\n",
    "print(\"Looking up top words from top topics\")\n",
    "for x in range(num_topics):\n",
    "    top_words = get_topic_top_words(LDAmodel, x, nr_top_words=50)\n",
    "    pprint(f\"For topic {x+1}, the top words are:\")\n",
    "    pprint(\"{0}\".format(\", \".join(top_words)))\n",
    "    pprint(\"\")\n",
    "print(\"\")"
   ]
  },
  {
   "cell_type": "code",
   "execution_count": 27,
   "metadata": {},
   "outputs": [],
   "source": [
    "TopicsData = np.array(list(AllData[\"lda_features\"]))\n",
    "TopicsData = np.transpose(TopicsData)"
   ]
  },
  {
   "cell_type": "code",
   "execution_count": 28,
   "metadata": {},
   "outputs": [
    {
     "data": {
      "image/png": "[encoded data removed]",
      "text/plain": [
       "<Figure size 288x288 with 1 Axes>"
      ]
     },
     "metadata": {
      "needs_background": "light"
     },
     "output_type": "display_data"
    }
   ],
   "source": [
    "CovMatrix = np.cov(TopicsData)\n",
    "plt.matshow(CovMatrix, cmap=plt.cm.gray)\n",
    "plt.show()"
   ]
  },
  {
   "cell_type": "markdown",
   "metadata": {},
   "source": [
    "## Filtra as ações"
   ]
  },
  {
   "cell_type": "code",
   "execution_count": 29,
   "metadata": {},
   "outputs": [],
   "source": [
    "Stocks = [\"ibov\", \"ITUB4\", \"PETR4\", \"Vale3\", \"BBDC4\", \"ABEV3\", \"BBAS3\", \"SANB3\", \"LREN3\"]\n",
    "\n",
    "Cols = {}\n",
    "for i in range(len(Stocks)):\n",
    "    Cols[Stocks[i]] = [i*4+i, i*4+i+1, i*4+i+2, i*4+i+3]"
   ]
  },
  {
   "cell_type": "code",
   "execution_count": 31,
   "metadata": {},
   "outputs": [],
   "source": [
    "Var = 'ibov'\n",
    "bolsa = pd.read_excel('../../Dados_Bolsa/Twt.xlsx', sheet_name=\"1h\", usecols=Cols[Var],  skiprow=[0])"
   ]
  },
  {
   "cell_type": "code",
   "execution_count": 32,
   "metadata": {},
   "outputs": [],
   "source": [
    "headers = list(bolsa.keys())\n",
    "myheaders = [Var, \"Price\", \"Volume\", \"Ticks\"]\n",
    "\n",
    "for i in range(len(headers)):\n",
    "    bolsa.rename(columns={headers[i]: myheaders[i]}, inplace=True)\n",
    "    \n",
    "bolsa = bolsa.dropna()\n",
    "bolsa.drop(bolsa.head(1).index,inplace=True)\n",
    "\n",
    "bolsa = bolsa.reset_index(drop=True)"
   ]
  },
  {
   "cell_type": "code",
   "execution_count": 33,
   "metadata": {},
   "outputs": [
    {
     "data": {
      "text/html": [
       "<div>\n",
       "<style scoped>\n",
       "    .dataframe tbody tr th:only-of-type {\n",
       "        vertical-align: middle;\n",
       "    }\n",
       "\n",
       "    .dataframe tbody tr th {\n",
       "        vertical-align: top;\n",
       "    }\n",
       "\n",
       "    .dataframe thead th {\n",
       "        text-align: right;\n",
       "    }\n",
       "</style>\n",
       "<table border=\"1\" class=\"dataframe\">\n",
       "  <thead>\n",
       "    <tr style=\"text-align: right;\">\n",
       "      <th></th>\n",
       "      <th>ibov</th>\n",
       "      <th>Price</th>\n",
       "      <th>Volume</th>\n",
       "      <th>Ticks</th>\n",
       "    </tr>\n",
       "  </thead>\n",
       "  <tbody>\n",
       "    <tr>\n",
       "      <th>0</th>\n",
       "      <td>2018-10-08 10:00:00</td>\n",
       "      <td>86283.7</td>\n",
       "      <td>0</td>\n",
       "      <td>119</td>\n",
       "    </tr>\n",
       "    <tr>\n",
       "      <th>1</th>\n",
       "      <td>2018-10-08 11:00:00</td>\n",
       "      <td>85686.7</td>\n",
       "      <td>0</td>\n",
       "      <td>120</td>\n",
       "    </tr>\n",
       "    <tr>\n",
       "      <th>2</th>\n",
       "      <td>2018-10-08 12:00:00</td>\n",
       "      <td>85408.6</td>\n",
       "      <td>0</td>\n",
       "      <td>120</td>\n",
       "    </tr>\n",
       "    <tr>\n",
       "      <th>3</th>\n",
       "      <td>2018-10-08 13:00:00</td>\n",
       "      <td>85267.7</td>\n",
       "      <td>0</td>\n",
       "      <td>120</td>\n",
       "    </tr>\n",
       "    <tr>\n",
       "      <th>4</th>\n",
       "      <td>2018-10-08 14:00:00</td>\n",
       "      <td>85686.7</td>\n",
       "      <td>0</td>\n",
       "      <td>120</td>\n",
       "    </tr>\n",
       "  </tbody>\n",
       "</table>\n",
       "</div>"
      ],
      "text/plain": [
       "                  ibov    Price Volume Ticks\n",
       "0  2018-10-08 10:00:00  86283.7      0   119\n",
       "1  2018-10-08 11:00:00  85686.7      0   120\n",
       "2  2018-10-08 12:00:00  85408.6      0   120\n",
       "3  2018-10-08 13:00:00  85267.7      0   120\n",
       "4  2018-10-08 14:00:00  85686.7      0   120"
      ]
     },
     "execution_count": 33,
     "metadata": {},
     "output_type": "execute_result"
    }
   ],
   "source": [
    "bolsa.head(5)"
   ]
  },
  {
   "cell_type": "code",
   "execution_count": 34,
   "metadata": {
    "scrolled": false
   },
   "outputs": [
    {
     "data": {
      "text/plain": [
       "1110"
      ]
     },
     "execution_count": 34,
     "metadata": {},
     "output_type": "execute_result"
    }
   ],
   "source": [
    "ibov_len  = len(bolsa[Var])\n",
    "ibov_len"
   ]
  },
  {
   "cell_type": "code",
   "execution_count": 35,
   "metadata": {},
   "outputs": [
    {
     "name": "stdout",
     "output_type": "stream",
     "text": [
      "2018-10-08 {'abertura': 86283.67, 'fechamento': 86083.91, 'variacao': 0}\n",
      "2018-10-09 {'abertura': 85864.42, 'fechamento': 86087.55, 'variacao': 1}\n",
      "2018-10-10 {'abertura': 84590.04, 'fechamento': 83679.11, 'variacao': 0}\n",
      "2018-10-11 {'abertura': 84492.8, 'fechamento': 82921.08, 'variacao': 2}\n"
     ]
    }
   ],
   "source": [
    "import datetime\n",
    "\n",
    "ibov_data_precos = {}\n",
    "DeadZoneUp = 0.3e-2\n",
    "DeadZoneDown = 0.6e-2\n",
    "# célula para identificar os preços de abertura e fechamento de cada dia\n",
    "for i in range(0, ibov_len):\n",
    "    data_completa = datetime.datetime.strptime(str(bolsa[Var][i]), '%Y-%m-%d %H:%M:%S')\n",
    "    preco = bolsa['Price'][i]\n",
    "    data = data_completa.strftime(\"%Y-%m-%d\")\n",
    "    if data not in ibov_data_precos:\n",
    "        ibov_data_precos[data] = {}\n",
    "        ibov_data_precos[data]['abertura'] = preco\n",
    "        #caso só tenhamos informação de uma hora dentro de um dia, assumimos esse preco como o de fechamento tbm\n",
    "        ibov_data_precos[data]['fechamento'] = preco \n",
    "        dia_anterior_completo =  data_completa - datetime.timedelta(days=1)\n",
    "        dia_anterior_data = dia_anterior_completo.strftime(\"%Y-%m-%d\")\n",
    "        \n",
    "        if(dia_anterior_data in ibov_data_precos):\n",
    "            dia_anterior_fechamento = ibov_data_precos[dia_anterior_data]['fechamento']\n",
    "            \n",
    "            if(preco > dia_anterior_fechamento + dia_anterior_fechamento*DeadZoneUp):\n",
    "                ibov_data_precos[data]['variacao'] = 2 #Subiu\n",
    "            elif (preco < dia_anterior_fechamento - dia_anterior_fechamento*DeadZoneDown):\n",
    "                ibov_data_precos[data]['variacao'] = 0 #Desceu\n",
    "            else:\n",
    "                ibov_data_precos[data]['variacao'] = 1\n",
    "        else:\n",
    "            #se não tivermos informações sobre o dia anterior, assumimos que a variacao foi neutra\n",
    "            ibov_data_precos[data]['variacao'] = 0 \n",
    "    else:\n",
    "        if i < (ibov_len - 1):\n",
    "            data_seguinte = datetime.datetime.strptime(str(bolsa[Var][i+1]), '%Y-%m-%d %H:%M:%S')\n",
    "            if data_seguinte.date() > data_completa.date():\n",
    "                ibov_data_precos[data]['fechamento'] = preco\n",
    "\n",
    "Datesibov = list(ibov_data_precos.keys())\n",
    "                \n",
    "for i in range(4):\n",
    "    print(Datesibov[i], ibov_data_precos[Datesibov[i]])"
   ]
  },
  {
   "cell_type": "markdown",
   "metadata": {},
   "source": [
    "## Cria os Datasets"
   ]
  },
  {
   "cell_type": "code",
   "execution_count": 36,
   "metadata": {},
   "outputs": [],
   "source": [
    "OutputData = []\n",
    "InputData = []\n",
    "for i in range(len(AllData)):\n",
    "    data_completa = datetime.datetime.strptime(str(AllData[\"Data\"].iloc[i]), '%Y-%m-%d %H:%M:%S')\n",
    "    data = data_completa.strftime(\"%Y-%m-%d\")\n",
    "    if data in list(ibov_data_precos.keys()):\n",
    "        OutputData.append(ibov_data_precos[data][\"variacao\"])\n",
    "        Data = list(AllData['lda_features'].iloc[i])\n",
    "        Data.append(AllData['Retweets'].iloc[i])\n",
    "        Data.append(AllData['Likes'].iloc[i])\n",
    "        Data.append(AllData['Pessoa_id'].iloc[i])\n",
    "        InputData.append(Data)"
   ]
  },
  {
   "cell_type": "code",
   "execution_count": 37,
   "metadata": {},
   "outputs": [
    {
     "data": {
      "text/plain": [
       "(26261, 26261, 13)"
      ]
     },
     "execution_count": 37,
     "metadata": {},
     "output_type": "execute_result"
    }
   ],
   "source": [
    "len(OutputData), len(InputData), len(InputData[0])"
   ]
  },
  {
   "cell_type": "code",
   "execution_count": 38,
   "metadata": {},
   "outputs": [
    {
     "name": "stdout",
     "output_type": "stream",
     "text": [
      "[0.024275464937090874, 0.014088485389947891, 0.011341421864926815, 0.570182740688324, 0.0081682363525033, 0.007167374715209007, 0.08136371523141861, 0.005756734404712915, 0.005241000559180975, 0.27241483330726624, 11, 24, 3]\n"
     ]
    }
   ],
   "source": [
    "print(InputData[1])"
   ]
  },
  {
   "cell_type": "code",
   "execution_count": 39,
   "metadata": {},
   "outputs": [],
   "source": [
    "from sklearn.model_selection import train_test_split\n",
    "\n",
    "train_texts, test_texts, train_classes, test_classes = train_test_split(InputData, OutputData, \n",
    "                                                                        test_size=0.2, stratify=OutputData)"
   ]
  },
  {
   "cell_type": "markdown",
   "metadata": {},
   "source": [
    "## Distribuição das Classes:"
   ]
  },
  {
   "cell_type": "code",
   "execution_count": 40,
   "metadata": {},
   "outputs": [
    {
     "name": "stdout",
     "output_type": "stream",
     "text": [
      "Treinamento:\n",
      "0.32828\n",
      "0.37888\n",
      "0.29284\n",
      "\n",
      "Teste:\n",
      "0.2950039651070579\n",
      "0.41712926249008725\n",
      "0.28786677240285485\n"
     ]
    }
   ],
   "source": [
    "trainlen = len(train_classes)\n",
    "testlen = len(test_classes)\n",
    "\n",
    "print(\"Treinamento:\")\n",
    "print(train_classes.count(0)/trainlen)\n",
    "print(train_classes.count(1)/trainlen)\n",
    "print(train_classes.count(2)/trainlen)\n",
    "print()\n",
    "print(\"Teste:\")\n",
    "print(test_classes.count(0)/testlen)\n",
    "print(test_classes.count(1)/testlen)\n",
    "print(test_classes.count(2)/testlen)"
   ]
  },
  {
   "cell_type": "markdown",
   "metadata": {},
   "source": [
    "## Aplicação de Modelos"
   ]
  },
  {
   "cell_type": "code",
   "execution_count": 41,
   "metadata": {},
   "outputs": [],
   "source": [
    "from sklearn.model_selection import cross_val_predict, cross_val_score"
   ]
  },
  {
   "cell_type": "markdown",
   "metadata": {},
   "source": [
    "### Regressão Logistica"
   ]
  },
  {
   "cell_type": "code",
   "execution_count": 42,
   "metadata": {},
   "outputs": [
    {
     "name": "stdout",
     "output_type": "stream",
     "text": [
      "[0.37133067 0.36897418 0.3803702 ]\n",
      "0.37355835083900707\n"
     ]
    }
   ],
   "source": [
    "from sklearn.linear_model import LogisticRegression\n",
    "\n",
    "Losgisticclf = LogisticRegression(random_state=0, solver='lbfgs', multi_class='multinomial')\n",
    "\n",
    "scores = cross_val_score(Losgisticclf, InputData, OutputData, cv=3, n_jobs=-1)\n",
    "\n",
    "print(scores)\n",
    "print(np.mean(scores))"
   ]
  },
  {
   "cell_type": "markdown",
   "metadata": {},
   "source": [
    "### Decision Tree"
   ]
  },
  {
   "cell_type": "code",
   "execution_count": 43,
   "metadata": {},
   "outputs": [
    {
     "name": "stdout",
     "output_type": "stream",
     "text": [
      "[0.3340948  0.34989719 0.33672303]\n",
      "0.3402383425202384\n"
     ]
    }
   ],
   "source": [
    "from sklearn import tree\n",
    "\n",
    "tree = tree.DecisionTreeClassifier()\n",
    "\n",
    "scores = cross_val_score(tree, InputData, OutputData, cv=3, n_jobs=-1)\n",
    "\n",
    "print(scores)\n",
    "print(np.mean(scores))"
   ]
  },
  {
   "cell_type": "raw",
   "metadata": {},
   "source": [
    "#Para ver a imagem da Decision Tree\n",
    "\n",
    "from sklearn.externals.six import StringIO  \n",
    "from IPython.display import Image  \n",
    "from sklearn.tree import export_graphviz\n",
    "import pydotplus\n",
    "\n",
    "tree.fit(InputData, OutputData)\n",
    "\n",
    "dot_data = StringIO()\n",
    "\n",
    "export_graphviz(tree, out_file=dot_data,  \n",
    "                filled=True, rounded=True,\n",
    "                special_characters=True)\n",
    "\n",
    "graph = pydotplus.graph_from_dot_data(dot_data.getvalue())  \n",
    "Image(graph.create_png())"
   ]
  },
  {
   "cell_type": "markdown",
   "metadata": {},
   "source": [
    "### Randon Forest"
   ]
  },
  {
   "cell_type": "code",
   "execution_count": 44,
   "metadata": {},
   "outputs": [
    {
     "name": "stdout",
     "output_type": "stream",
     "text": [
      "[0.3486008  0.33687457 0.36048903]\n",
      "0.34865480074870975\n"
     ]
    }
   ],
   "source": [
    "from sklearn.ensemble import RandomForestClassifier\n",
    "\n",
    "RandonForestclf = RandomForestClassifier(n_estimators=10, n_jobs=-1)\n",
    "\n",
    "scores = cross_val_score(RandonForestclf, InputData, OutputData, cv=3, n_jobs=-1)\n",
    "\n",
    "print(scores)\n",
    "print(np.mean(scores))"
   ]
  },
  {
   "cell_type": "code",
   "execution_count": null,
   "metadata": {},
   "outputs": [],
   "source": [
    "from sklearn.model_selection import GridSearchCV\n",
    "\n",
    "param_grid = [\n",
    "    {'n_estimators': [10, 30, 100], \n",
    "    'min_impurity_decrease': [1e-5, 1e-6, 0]}\n",
    "  ]\n",
    "\n",
    "RandonForestclf = RandomForestClassifier(n_estimators=10, min_impurity_decrease=1e-3)\n",
    "\n",
    "grid_search = GridSearchCV(RandonForestclf, param_grid, cv=5, scoring='accuracy', return_train_score=True, n_jobs=-1)\n",
    "\n",
    "grid_search.fit(InputData, OutputData)\n",
    "\n",
    "print(grid_search.best_params_, grid_search.best_score_)\n",
    "\n",
    "BestParams = grid_search.best_params_\n",
    "\n",
    "RandonForestclf = RandomForestClassifier(n_estimators=BestParams[\"n_estimators\"], \n",
    "                                         min_impurity_decrease=BestParams[\"min_impurity_decrease\"])"
   ]
  },
  {
   "cell_type": "markdown",
   "metadata": {},
   "source": [
    "## Best Model"
   ]
  },
  {
   "cell_type": "code",
   "execution_count": null,
   "metadata": {},
   "outputs": [],
   "source": [
    "TopClassifier = RandonForestclf\n",
    "\n",
    "y_pred = cross_val_predict(TopClassifier, InputData, OutputData, cv=3)"
   ]
  },
  {
   "cell_type": "code",
   "execution_count": null,
   "metadata": {},
   "outputs": [],
   "source": [
    "Output_Pred = list(y_pred)\n",
    "\n",
    "print(\"Resultado Modelo:\")\n",
    "print(Output_Pred.count(0)/len(Output_Pred))\n",
    "print(Output_Pred.count(1)/len(Output_Pred))\n",
    "print(Output_Pred.count(2)/len(Output_Pred))"
   ]
  },
  {
   "cell_type": "code",
   "execution_count": null,
   "metadata": {},
   "outputs": [],
   "source": [
    "from sklearn.metrics import confusion_matrix\n",
    "\n",
    "conf_mx = confusion_matrix(OutputData, Output_Pred)\n",
    "conf_mx"
   ]
  },
  {
   "cell_type": "code",
   "execution_count": null,
   "metadata": {},
   "outputs": [],
   "source": [
    "plt.matshow(conf_mx, cmap=plt.cm.gray)\n",
    "plt.show()"
   ]
  },
  {
   "cell_type": "code",
   "execution_count": null,
   "metadata": {},
   "outputs": [],
   "source": [
    "InputDataa = np.array(InputData)\n",
    "OutputDataa = np.array(OutputData)\n",
    "Output_Preda = np.array(Output_Pred)"
   ]
  },
  {
   "cell_type": "code",
   "execution_count": null,
   "metadata": {},
   "outputs": [],
   "source": [
    "AllResults = pd.DataFrame(InputData)\n",
    "AllResults[\"Output\"]= OutputDataa\n",
    "AllResults[\"Output_pred\"]= Output_Preda\n",
    "\n",
    "AllResults.sample(5)"
   ]
  },
  {
   "cell_type": "code",
   "execution_count": null,
   "metadata": {
    "scrolled": false
   },
   "outputs": [],
   "source": [
    "ResultCorr = np.array(AllResults.corr())\n",
    "AllResults.corr()"
   ]
  },
  {
   "cell_type": "code",
   "execution_count": null,
   "metadata": {},
   "outputs": [],
   "source": [
    "plt.matshow(ResultCorr)\n",
    "plt.show()"
   ]
  },
  {
   "cell_type": "code",
   "execution_count": null,
   "metadata": {},
   "outputs": [],
   "source": [
    "row_sums = ResultCorr.sum(axis=1, keepdims=True)\n",
    "norm_corr = ResultCorr / row_sums\n",
    "np.fill_diagonal(norm_corr, 0.005)\n",
    "\n",
    "plt.matshow(norm_corr)\n",
    "plt.show()"
   ]
  }
 ],
 "metadata": {
  "kernelspec": {
   "display_name": "Python 3",
   "language": "python",
   "name": "python3"
  },
  "language_info": {
   "codemirror_mode": {
    "name": "ipython",
    "version": 3
   },
   "file_extension": ".py",
   "mimetype": "text/x-python",
   "name": "python",
   "nbconvert_exporter": "python",
   "pygments_lexer": "ipython3",
   "version": "3.7.3"
  }
 },
 "nbformat": 4,
 "nbformat_minor": 2
}
