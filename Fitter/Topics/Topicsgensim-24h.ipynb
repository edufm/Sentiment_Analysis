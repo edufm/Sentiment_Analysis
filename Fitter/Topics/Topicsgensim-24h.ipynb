{
 "cells": [
  {
   "cell_type": "code",
   "execution_count": 55,
   "metadata": {},
   "outputs": [],
   "source": [
    "# more common imports\n",
    "import pandas as pd\n",
    "import numpy as np\n",
    "from collections import Counter\n",
    "import re\n",
    "import os\n",
    "\n",
    "# languange processing imports\n",
    "import nltk\n",
    "from gensim.corpora import Dictionary\n",
    "# preprocessing imports\n",
    "from sklearn.preprocessing import LabelEncoder\n",
    "\n",
    "# model imports\n",
    "from gensim.models.ldamulticore import LdaMulticore\n",
    "from gensim.models.word2vec import Word2Vec\n",
    "from sklearn.ensemble import RandomForestClassifier, AdaBoostClassifier\n",
    "from sklearn.linear_model import LogisticRegression\n",
    "# hyperparameter training imports\n",
    "from sklearn.model_selection import GridSearchCV\n",
    "\n",
    "# visualization imports\n",
    "from IPython.display import display\n",
    "import seaborn as sns\n",
    "import matplotlib.pyplot as plt\n",
    "import matplotlib.image as mpimg\n",
    "import io\n",
    "%matplotlib inline\n",
    "sns.set()  # defines the style of the plots to be seaborn style"
   ]
  },
  {
   "cell_type": "markdown",
   "metadata": {},
   "source": [
    "# Abre os dados"
   ]
  },
  {
   "cell_type": "code",
   "execution_count": 56,
   "metadata": {},
   "outputs": [],
   "source": [
    "#Verifica os dados no diretorio\n",
    "\n",
    "Data = os.listdir(\"../../Filter/Tweets_Filtered/\")\n",
    "for i in range(len(Data)):\n",
    "    Data[i] = Data[i].split(\".\")[0]\n",
    "    \n",
    "Pessoas = [\"realDonaldTrump\", \"jairbolsonaro\", \"hbredda\", \"gui_benchimol\", \"pedrocerize\"]\n",
    "\n",
    "NoticiasPolitica = [\"OGloboPolitica\", \"folha_poder\", \"GloboNews\", \"EstadaoPolitica\", \n",
    "                    \"RevistaEpoca\", \"valoreconomico\", \"g1politica\", \"conexaopolitica\", \"EstadaoEconomia\", \n",
    "                    \"UOLEconomia\", \"folha_mercado\", \"g1economia\", \"OGlobo_Economia\"]\n",
    "\n",
    "Noticias = [\"UOL\", \"folha\", \"g1\", \"VEJA\", \"cartacapital\", \"RevistaISTOE\"]\n",
    "\n",
    "\n",
    "Alvo = NoticiasPolitica\n",
    "\n",
    "#Monta um Dataframe com todos datasets de twites de todas as pessoas\n",
    "AllData = pd.DataFrame()\n",
    "for i in Alvo:\n",
    "    if i in Data:\n",
    "        MoreData = pd.read_csv(\"../../Filter/Tweets_Filtered/{0}\".format(i+\".csv\"), sep=\";\", decimal=\",\", encoding='utf-16')\n",
    "        AllData = pd.concat([AllData, MoreData])\n",
    "    else:\n",
    "        print(\"{0} não disponivel\".format(i))\n",
    "        \n",
    "AllData = AllData.reset_index(drop=True)"
   ]
  },
  {
   "cell_type": "code",
   "execution_count": 57,
   "metadata": {},
   "outputs": [],
   "source": [
    "#Adiciona um Id para cada pessoa\n",
    "label_encoder = LabelEncoder()\n",
    "\n",
    "label_encoder.fit(AllData.Pessoa)\n",
    "AllData['Pessoa_id'] = label_encoder.transform(AllData.Pessoa)"
   ]
  },
  {
   "cell_type": "code",
   "execution_count": 58,
   "metadata": {},
   "outputs": [
    {
     "data": {
      "text/html": [
       "<div>\n",
       "<style scoped>\n",
       "    .dataframe tbody tr th:only-of-type {\n",
       "        vertical-align: middle;\n",
       "    }\n",
       "\n",
       "    .dataframe tbody tr th {\n",
       "        vertical-align: top;\n",
       "    }\n",
       "\n",
       "    .dataframe thead th {\n",
       "        text-align: right;\n",
       "    }\n",
       "</style>\n",
       "<table border=\"1\" class=\"dataframe\">\n",
       "  <thead>\n",
       "    <tr style=\"text-align: right;\">\n",
       "      <th></th>\n",
       "      <th>Pessoa</th>\n",
       "      <th>Data</th>\n",
       "      <th>Texto</th>\n",
       "      <th>Retweets</th>\n",
       "      <th>Likes</th>\n",
       "      <th>URL</th>\n",
       "      <th>Pessoa_id</th>\n",
       "    </tr>\n",
       "  </thead>\n",
       "  <tbody>\n",
       "    <tr>\n",
       "      <th>30440</th>\n",
       "      <td>UOLEconomia</td>\n",
       "      <td>2019-02-12 15:57:36</td>\n",
       "      <td>união não precisa mais ressarcir estados por l...</td>\n",
       "      <td>0</td>\n",
       "      <td>5</td>\n",
       "      <td>1</td>\n",
       "      <td>6</td>\n",
       "    </tr>\n",
       "    <tr>\n",
       "      <th>22623</th>\n",
       "      <td>conexaopolitica</td>\n",
       "      <td>2019-04-13 18:44:25</td>\n",
       "      <td>mundo ong de direitos humanos critica condenaç...</td>\n",
       "      <td>163</td>\n",
       "      <td>1040</td>\n",
       "      <td>1</td>\n",
       "      <td>7</td>\n",
       "    </tr>\n",
       "    <tr>\n",
       "      <th>9356</th>\n",
       "      <td>GloboNews</td>\n",
       "      <td>2019-02-08 15:17:36</td>\n",
       "      <td>dez pessoas morreram e três ficaram feridas no...</td>\n",
       "      <td>35</td>\n",
       "      <td>342</td>\n",
       "      <td>1</td>\n",
       "      <td>2</td>\n",
       "    </tr>\n",
       "    <tr>\n",
       "      <th>23000</th>\n",
       "      <td>conexaopolitica</td>\n",
       "      <td>2019-03-21 15:43:21</td>\n",
       "      <td>urgente moreira franco é preso veja o momento ...</td>\n",
       "      <td>2675</td>\n",
       "      <td>10333</td>\n",
       "      <td>1</td>\n",
       "      <td>7</td>\n",
       "    </tr>\n",
       "    <tr>\n",
       "      <th>13769</th>\n",
       "      <td>RevistaEpoca</td>\n",
       "      <td>2019-02-02 23:11:52</td>\n",
       "      <td>durante esse segundo pleito renan calheiros pe...</td>\n",
       "      <td>0</td>\n",
       "      <td>3</td>\n",
       "      <td>1</td>\n",
       "      <td>5</td>\n",
       "    </tr>\n",
       "  </tbody>\n",
       "</table>\n",
       "</div>"
      ],
      "text/plain": [
       "                Pessoa                 Data  \\\n",
       "30440      UOLEconomia  2019-02-12 15:57:36   \n",
       "22623  conexaopolitica  2019-04-13 18:44:25   \n",
       "9356         GloboNews  2019-02-08 15:17:36   \n",
       "23000  conexaopolitica  2019-03-21 15:43:21   \n",
       "13769     RevistaEpoca  2019-02-02 23:11:52   \n",
       "\n",
       "                                                   Texto  Retweets  Likes  \\\n",
       "30440  união não precisa mais ressarcir estados por l...         0      5   \n",
       "22623  mundo ong de direitos humanos critica condenaç...       163   1040   \n",
       "9356   dez pessoas morreram e três ficaram feridas no...        35    342   \n",
       "23000  urgente moreira franco é preso veja o momento ...      2675  10333   \n",
       "13769  durante esse segundo pleito renan calheiros pe...         0      3   \n",
       "\n",
       "       URL  Pessoa_id  \n",
       "30440    1          6  \n",
       "22623    1          7  \n",
       "9356     1          2  \n",
       "23000    1          7  \n",
       "13769    1          5  "
      ]
     },
     "execution_count": 58,
     "metadata": {},
     "output_type": "execute_result"
    }
   ],
   "source": [
    "AllData.sample(5)"
   ]
  },
  {
   "cell_type": "code",
   "execution_count": 59,
   "metadata": {},
   "outputs": [
    {
     "name": "stdout",
     "output_type": "stream",
     "text": [
      "The average number of words in a document is: 13.991752676762806.\n",
      "The minimum number of words in a document is: 2.\n",
      "The maximum number of words in a document is: 30.\n"
     ]
    }
   ],
   "source": [
    "#Mede o comprimento medio dos tweets\n",
    "document_lengths = np.array(list(map(len, AllData.Texto.str.split(' '))))\n",
    "\n",
    "print(\"The average number of words in a document is: {}.\".format(np.mean(document_lengths)))\n",
    "print(\"The minimum number of words in a document is: {}.\".format(min(document_lengths)))\n",
    "print(\"The maximum number of words in a document is: {}.\".format(max(document_lengths)))"
   ]
  },
  {
   "cell_type": "code",
   "execution_count": 60,
   "metadata": {},
   "outputs": [],
   "source": [
    "#Remove os Tweets com compriento menor que 4 palavras\n",
    "smallerthen4 = document_lengths <= 5\n",
    "\n",
    "for i in range(len(document_lengths)):\n",
    "    if smallerthen4[i]:\n",
    "        AllData = AllData.drop(i)\n",
    "\n",
    "document_lengths = np.array(list(map(len, AllData.Texto.str.split(' '))))\n",
    "\n",
    "AllData = AllData.reset_index(drop=True)"
   ]
  },
  {
   "cell_type": "code",
   "execution_count": 61,
   "metadata": {},
   "outputs": [
    {
     "name": "stderr",
     "output_type": "stream",
     "text": [
      "[nltk_data] Downloading package punkt to\n",
      "[nltk_data]     C:\\Users\\edufe\\AppData\\Roaming\\nltk_data...\n",
      "[nltk_data]   Package punkt is already up-to-date!\n",
      "[nltk_data] Downloading package stopwords to\n",
      "[nltk_data]     C:\\Users\\edufe\\AppData\\Roaming\\nltk_data...\n",
      "[nltk_data]   Package stopwords is already up-to-date!\n",
      "[nltk_data] Downloading package wordnet to\n",
      "[nltk_data]     C:\\Users\\edufe\\AppData\\Roaming\\nltk_data...\n",
      "[nltk_data]   Package wordnet is already up-to-date!\n"
     ]
    },
    {
     "data": {
      "text/plain": [
       "True"
      ]
     },
     "execution_count": 61,
     "metadata": {},
     "output_type": "execute_result"
    }
   ],
   "source": [
    "#Baixa alguns modulos do NLKT\n",
    "\n",
    "nltk.download('punkt')\n",
    "nltk.download('stopwords')\n",
    "nltk.download('wordnet')"
   ]
  },
  {
   "cell_type": "code",
   "execution_count": 62,
   "metadata": {},
   "outputs": [],
   "source": [
    "# Transforma o documento em sentenças\n",
    "def Data_Tokenizer(df):\n",
    "    \"\"\" All the preprocessing steps for word2vec are done in this function.\n",
    "    All mutations are done on the dataframe itself. So this function returns\n",
    "    nothing.\n",
    "    \"\"\"\n",
    "    df['document_sentences'] = df.Texto.str.split('.')  # split texts into individual sentences\n",
    "    df['tokenized_sentences'] = list(map(lambda sentences:\n",
    "                                         list(map(nltk.word_tokenize, sentences)),\n",
    "                                         df.document_sentences))  # tokenize sentences\n",
    "    df['tokenized_sentences'] = list(map(lambda sentences:\n",
    "                                         list(sentences),\n",
    "                                         df.tokenized_sentences))  # remove unwanted characters\n",
    "    df['tokenized_sentences'] = list(map(lambda sentences:\n",
    "                                         list(filter(lambda lst: lst, sentences)),\n",
    "                                         df.tokenized_sentences))  # remove empty lists\n",
    "\n",
    "Data_Tokenizer(AllData)"
   ]
  },
  {
   "cell_type": "code",
   "execution_count": 63,
   "metadata": {},
   "outputs": [],
   "source": [
    "def lda_get_good_tokens(df):\n",
    "    df['tokenized_text'] = list(map(nltk.word_tokenize, df.Texto))\n",
    "    df['tokenized_text'] = list(df.tokenized_text)\n",
    "\n",
    "lda_get_good_tokens(AllData)"
   ]
  },
  {
   "cell_type": "code",
   "execution_count": 64,
   "metadata": {},
   "outputs": [
    {
     "name": "stdout",
     "output_type": "stream",
     "text": [
      "['de', 'a', 'o', 'que', 'e', 'do', 'da', 'em', 'um', 'para', 'com', 'não', 'uma', 'os', 'no', 'se', 'na', 'por', 'mais', 'as']\n"
     ]
    }
   ],
   "source": [
    "print(nltk.corpus.stopwords.words('portuguese')[0:20])"
   ]
  },
  {
   "cell_type": "code",
   "execution_count": 65,
   "metadata": {},
   "outputs": [],
   "source": [
    "def remove_stopwords(df):\n",
    "    \"\"\" Removes stopwords based on a known set of stopwords\n",
    "    available in the nltk package. In addition, we include our\n",
    "    made up word in here.\n",
    "    \"\"\"\n",
    "    # Luckily nltk already has a set of stopwords that we can remove from the texts.\n",
    "    stopwords = nltk.corpus.stopwords.words('portuguese')[0:20]\n",
    "    \n",
    "    del(stopwords[stopwords.index(\"não\")])\n",
    "    ManualStop = [\"istoégente\", \"expressoepoca\", \"globonews\", \"estudioi\", \"rt\", \"andreiasadi\",\n",
    "                  \"’\", \"‘\", \"”\", \"“\", \"r\", \",\", \".\", \"…\", \"diz\", \"à\", \"ao\"]\n",
    "    Numbers = list(range(10))\n",
    "    stopwords = stopwords + ManualStop + Numbers\n",
    "    \n",
    "    df['stopwords_removed'] = list(map(lambda doc:\n",
    "                                       [word for word in doc if word not in stopwords],\n",
    "                                       df['tokenized_text']))\n",
    "\n",
    "remove_stopwords(AllData)"
   ]
  },
  {
   "cell_type": "code",
   "execution_count": 66,
   "metadata": {},
   "outputs": [
    {
     "name": "stdout",
     "output_type": "stream",
     "text": [
      "Found 29532 words.\n",
      "Left with 12050 words after filtering\n"
     ]
    }
   ],
   "source": [
    "dictionary = Dictionary(documents=AllData.stopwords_removed.values)\n",
    "\n",
    "print(\"Found {} words.\".format(len(dictionary.values())))\n",
    "\n",
    "dictionary.filter_extremes(no_above=0.8, no_below=3)\n",
    "\n",
    "dictionary.compactify()  # Reindexes the remaining words after filtering\n",
    "print(\"Left with {} words after filtering\".format(len(dictionary.values())))"
   ]
  },
  {
   "cell_type": "code",
   "execution_count": 67,
   "metadata": {},
   "outputs": [],
   "source": [
    "def document_to_bow(df):\n",
    "    df['bow'] = list(map(lambda doc: dictionary.doc2bow(doc), df.stopwords_removed))\n",
    "    \n",
    "document_to_bow(AllData)"
   ]
  },
  {
   "cell_type": "code",
   "execution_count": 68,
   "metadata": {},
   "outputs": [],
   "source": [
    "def lda_preprocessing(df):\n",
    "    \"\"\" All the preprocessing steps for LDA are combined in this function.\n",
    "    All mutations are done on the dataframe itself. So this function returns\n",
    "    nothing.\n",
    "    \"\"\"\n",
    "    lda_get_good_tokens(df)\n",
    "    remove_stopwords(df)\n",
    "    document_to_bow(df)"
   ]
  },
  {
   "cell_type": "code",
   "execution_count": 69,
   "metadata": {
    "scrolled": true
   },
   "outputs": [
    {
     "data": {
      "text/html": [
       "<div>\n",
       "<style scoped>\n",
       "    .dataframe tbody tr th:only-of-type {\n",
       "        vertical-align: middle;\n",
       "    }\n",
       "\n",
       "    .dataframe tbody tr th {\n",
       "        vertical-align: top;\n",
       "    }\n",
       "\n",
       "    .dataframe thead th {\n",
       "        text-align: right;\n",
       "    }\n",
       "</style>\n",
       "<table border=\"1\" class=\"dataframe\">\n",
       "  <thead>\n",
       "    <tr style=\"text-align: right;\">\n",
       "      <th></th>\n",
       "      <th>Pessoa</th>\n",
       "      <th>Data</th>\n",
       "      <th>Texto</th>\n",
       "      <th>Retweets</th>\n",
       "      <th>Likes</th>\n",
       "      <th>URL</th>\n",
       "      <th>Pessoa_id</th>\n",
       "      <th>document_sentences</th>\n",
       "      <th>tokenized_sentences</th>\n",
       "      <th>tokenized_text</th>\n",
       "      <th>stopwords_removed</th>\n",
       "      <th>bow</th>\n",
       "    </tr>\n",
       "  </thead>\n",
       "  <tbody>\n",
       "    <tr>\n",
       "      <th>28697</th>\n",
       "      <td>UOLEconomia</td>\n",
       "      <td>2019-04-12 07:03:43</td>\n",
       "      <td>estique seu salário para não acabar antes do f...</td>\n",
       "      <td>0</td>\n",
       "      <td>4</td>\n",
       "      <td>1</td>\n",
       "      <td>6</td>\n",
       "      <td>[estique seu salário para não acabar antes do ...</td>\n",
       "      <td>[[estique, seu, salário, para, não, acabar, an...</td>\n",
       "      <td>[estique, seu, salário, para, não, acabar, ant...</td>\n",
       "      <td>[estique, seu, salário, não, acabar, antes, fi...</td>\n",
       "      <td>[(24, 1), (70, 1), (313, 1), (412, 1), (899, 1...</td>\n",
       "    </tr>\n",
       "    <tr>\n",
       "      <th>22676</th>\n",
       "      <td>conexaopolitica</td>\n",
       "      <td>2019-03-25 14:11:47</td>\n",
       "      <td>mundo romênia vai transferir embaixada para je...</td>\n",
       "      <td>467</td>\n",
       "      <td>2155</td>\n",
       "      <td>1</td>\n",
       "      <td>7</td>\n",
       "      <td>[mundo romênia vai transferir embaixada para j...</td>\n",
       "      <td>[[mundo, romênia, vai, transferir, embaixada, ...</td>\n",
       "      <td>[mundo, romênia, vai, transferir, embaixada, p...</td>\n",
       "      <td>[mundo, romênia, vai, transferir, embaixada, j...</td>\n",
       "      <td>[(202, 1), (1385, 1), (1996, 1), (4730, 1), (5...</td>\n",
       "    </tr>\n",
       "    <tr>\n",
       "      <th>4142</th>\n",
       "      <td>folha_poder</td>\n",
       "      <td>2019-02-26 05:10:02</td>\n",
       "      <td>cerco da receita a ministros do supremo e do s...</td>\n",
       "      <td>8</td>\n",
       "      <td>12</td>\n",
       "      <td>1</td>\n",
       "      <td>9</td>\n",
       "      <td>[cerco da receita a ministros do supremo e do ...</td>\n",
       "      <td>[[cerco, da, receita, a, ministros, do, suprem...</td>\n",
       "      <td>[cerco, da, receita, a, ministros, do, supremo...</td>\n",
       "      <td>[cerco, receita, ministros, supremo, stj, faz,...</td>\n",
       "      <td>[(28, 1), (135, 1), (213, 1), (381, 1), (613, ...</td>\n",
       "    </tr>\n",
       "    <tr>\n",
       "      <th>28931</th>\n",
       "      <td>UOLEconomia</td>\n",
       "      <td>2019-04-02 20:53:36</td>\n",
       "      <td>líder do psl cobra que bolsonaro seja garoto p...</td>\n",
       "      <td>2</td>\n",
       "      <td>7</td>\n",
       "      <td>1</td>\n",
       "      <td>6</td>\n",
       "      <td>[líder do psl cobra que bolsonaro seja garoto ...</td>\n",
       "      <td>[[líder, do, psl, cobra, que, bolsonaro, seja,...</td>\n",
       "      <td>[líder, do, psl, cobra, que, bolsonaro, seja, ...</td>\n",
       "      <td>[líder, psl, cobra, bolsonaro, seja, garoto, p...</td>\n",
       "      <td>[(61, 1), (93, 1), (156, 1), (557, 1), (638, 1...</td>\n",
       "    </tr>\n",
       "    <tr>\n",
       "      <th>28941</th>\n",
       "      <td>UOLEconomia</td>\n",
       "      <td>2019-04-02 16:41:40</td>\n",
       "      <td>equipe econômica estuda reduzir impostos sobre...</td>\n",
       "      <td>0</td>\n",
       "      <td>19</td>\n",
       "      <td>1</td>\n",
       "      <td>6</td>\n",
       "      <td>[equipe econômica estuda reduzir impostos sobr...</td>\n",
       "      <td>[[equipe, econômica, estuda, reduzir, impostos...</td>\n",
       "      <td>[equipe, econômica, estuda, reduzir, impostos,...</td>\n",
       "      <td>[equipe, econômica, estuda, reduzir, impostos,...</td>\n",
       "      <td>[(27, 1), (61, 1), (111, 1), (2379, 1), (3220,...</td>\n",
       "    </tr>\n",
       "  </tbody>\n",
       "</table>\n",
       "</div>"
      ],
      "text/plain": [
       "                Pessoa                 Data  \\\n",
       "28697      UOLEconomia  2019-04-12 07:03:43   \n",
       "22676  conexaopolitica  2019-03-25 14:11:47   \n",
       "4142       folha_poder  2019-02-26 05:10:02   \n",
       "28931      UOLEconomia  2019-04-02 20:53:36   \n",
       "28941      UOLEconomia  2019-04-02 16:41:40   \n",
       "\n",
       "                                                   Texto  Retweets  Likes  \\\n",
       "28697  estique seu salário para não acabar antes do f...         0      4   \n",
       "22676  mundo romênia vai transferir embaixada para je...       467   2155   \n",
       "4142   cerco da receita a ministros do supremo e do s...         8     12   \n",
       "28931  líder do psl cobra que bolsonaro seja garoto p...         2      7   \n",
       "28941  equipe econômica estuda reduzir impostos sobre...         0     19   \n",
       "\n",
       "       URL  Pessoa_id                                 document_sentences  \\\n",
       "28697    1          6  [estique seu salário para não acabar antes do ...   \n",
       "22676    1          7  [mundo romênia vai transferir embaixada para j...   \n",
       "4142     1          9  [cerco da receita a ministros do supremo e do ...   \n",
       "28931    1          6  [líder do psl cobra que bolsonaro seja garoto ...   \n",
       "28941    1          6  [equipe econômica estuda reduzir impostos sobr...   \n",
       "\n",
       "                                     tokenized_sentences  \\\n",
       "28697  [[estique, seu, salário, para, não, acabar, an...   \n",
       "22676  [[mundo, romênia, vai, transferir, embaixada, ...   \n",
       "4142   [[cerco, da, receita, a, ministros, do, suprem...   \n",
       "28931  [[líder, do, psl, cobra, que, bolsonaro, seja,...   \n",
       "28941  [[equipe, econômica, estuda, reduzir, impostos...   \n",
       "\n",
       "                                          tokenized_text  \\\n",
       "28697  [estique, seu, salário, para, não, acabar, ant...   \n",
       "22676  [mundo, romênia, vai, transferir, embaixada, p...   \n",
       "4142   [cerco, da, receita, a, ministros, do, supremo...   \n",
       "28931  [líder, do, psl, cobra, que, bolsonaro, seja, ...   \n",
       "28941  [equipe, econômica, estuda, reduzir, impostos,...   \n",
       "\n",
       "                                       stopwords_removed  \\\n",
       "28697  [estique, seu, salário, não, acabar, antes, fi...   \n",
       "22676  [mundo, romênia, vai, transferir, embaixada, j...   \n",
       "4142   [cerco, receita, ministros, supremo, stj, faz,...   \n",
       "28931  [líder, psl, cobra, bolsonaro, seja, garoto, p...   \n",
       "28941  [equipe, econômica, estuda, reduzir, impostos,...   \n",
       "\n",
       "                                                     bow  \n",
       "28697  [(24, 1), (70, 1), (313, 1), (412, 1), (899, 1...  \n",
       "22676  [(202, 1), (1385, 1), (1996, 1), (4730, 1), (5...  \n",
       "4142   [(28, 1), (135, 1), (213, 1), (381, 1), (613, ...  \n",
       "28931  [(61, 1), (93, 1), (156, 1), (557, 1), (638, 1...  \n",
       "28941  [(27, 1), (61, 1), (111, 1), (2379, 1), (3220,...  "
      ]
     },
     "execution_count": 69,
     "metadata": {},
     "output_type": "execute_result"
    }
   ],
   "source": [
    "AllData.sample(5)"
   ]
  },
  {
   "cell_type": "code",
   "execution_count": 88,
   "metadata": {},
   "outputs": [
    {
     "name": "stdout",
     "output_type": "stream",
     "text": [
      "2019-04-25 [[(104, 1), (1203, 1), (1258, 1), (1295, 1), (1568, 1), (1569, 1), (3532, 1), (3965, 1), (4223, 1), (4651, 1), (6160, 1), (6902, 1), (8383, 1), (9433, 1)], [(28, 1), (445, 1), (446, 1), (789, 1), (815, 1), (1022, 1), (1110, 1), (1979, 1), (3620, 1), (3796, 1), (9893, 1)]]\n",
      "2019-04-24 [[(21, 1), (22, 1), (28, 1), (42, 1), (43, 1), (44, 1), (45, 1), (46, 1)], [(22, 1), (47, 1), (48, 1), (49, 1), (50, 1), (51, 1), (52, 1), (53, 1), (54, 1)]]\n",
      "2019-04-23 [[(50, 1), (83, 1), (90, 1), (192, 1), (193, 1), (194, 1), (195, 1), (196, 1)], [(22, 1), (24, 1), (27, 1), (28, 1), (74, 1), (166, 1), (197, 1), (198, 1)]]\n"
     ]
    }
   ],
   "source": [
    "import datetime\n",
    "\n",
    "DateInterval = [datetime.datetime.strptime(\"17:00:00\", \"%H:%M:%S\").time(), \n",
    "                datetime.datetime.strptime(\"9:00:00\", \"%H:%M:%S\").time()]\n",
    "\n",
    "oneday = datetime.timedelta(days=1)\n",
    "daytweets = []\n",
    "tweets_data = {}\n",
    "\n",
    "datas = AllData['Data']\n",
    "tweets = AllData['bow']\n",
    "likes = AllData['Likes']\n",
    "retweets = AllData['Retweets']\n",
    "Started = True\n",
    "lastday = datetime.datetime.strptime(datas[0], '%Y-%m-%d %H:%M:%S').date()\n",
    "\n",
    "for j in range (0, len(datas)):\n",
    "\n",
    "    data = datetime.datetime.strptime(datas[j], '%Y-%m-%d %H:%M:%S').date()\n",
    "    time = datetime.datetime.strptime(datas[j], '%Y-%m-%d %H:%M:%S').time()\n",
    "\n",
    "    if data != lastday:\n",
    "        delta = abs(int(str(data - lastday).split(\" \")[0]))\n",
    "        if int(delta) >= 2:\n",
    "            #Acaba o periodo por força bruta\n",
    "            Started = False\n",
    "            if(str(data) not in tweets_data):\n",
    "                tweets_data[str(data)] = daytweets\n",
    "            else:\n",
    "                for k in daytweets:\n",
    "                    tweets_data[str(data+oneday)].append(k)\n",
    "            daytweets = []\n",
    "\n",
    "    #Test to 00:00\n",
    "    First = (DateInterval[0] < time) and (time < datetime.datetime.strptime(\"23:59:59\", \"%H:%M:%S\").time())\n",
    "    #Test from 00:00\n",
    "    Second = (datetime.datetime.strptime(\"00:00:01\", \"%H:%M:%S\").time() < time) and (time < DateInterval[1])\n",
    "\n",
    "    if First or Second:\n",
    "        Started = True\n",
    "        #Esta dentro do periodo\n",
    "        daytweets.append(tweets[j])\n",
    "\n",
    "    elif Started:\n",
    "        #Acaba o periodo\n",
    "        Started = False\n",
    "        if(str(data+oneday) not in tweets_data):\n",
    "            tweets_data[str(data+oneday)] = daytweets\n",
    "        else:\n",
    "            for k in daytweets:\n",
    "                tweets_data[str(data+oneday)].append(k)\n",
    "        daytweets = []\n",
    "\n",
    "    lastday = data\n",
    "\n",
    "Dates = list(tweets_data.keys())\n",
    "\n",
    "for i in range(3):\n",
    "    print(Dates[i], tweets_data[Dates[i]][0:2])"
   ]
  },
  {
   "cell_type": "markdown",
   "metadata": {},
   "source": [
    "# Análise de tópicos"
   ]
  },
  {
   "cell_type": "code",
   "execution_count": 71,
   "metadata": {},
   "outputs": [],
   "source": [
    "#Selecioan os dados que serão suados na LDA\n",
    "corpus = AllData.bow"
   ]
  },
  {
   "cell_type": "code",
   "execution_count": 72,
   "metadata": {
    "scrolled": true
   },
   "outputs": [],
   "source": [
    "num_topics = 10\n",
    "#Treina a LDA com o multicore do gensim\n",
    "LDAmodel = LdaMulticore(corpus=corpus,\n",
    "                        id2word=dictionary,\n",
    "                        num_topics=num_topics,\n",
    "                        workers=11,\n",
    "                        chunksize=10000,\n",
    "                        iterations = 5,\n",
    "                        passes=7,\n",
    "                        alpha='asymmetric')"
   ]
  },
  {
   "cell_type": "code",
   "execution_count": 73,
   "metadata": {},
   "outputs": [],
   "source": [
    "def document_to_lda_features(lda_model, document):\n",
    "    \"\"\" Transforms a bag of words document to features.\n",
    "    It returns the proportion of how much each topic was\n",
    "    present in the document.\n",
    "    \"\"\"\n",
    "    topic_importances = LDAmodel.get_document_topics(document, minimum_probability=0)\n",
    "    topic_importances = np.array(topic_importances)\n",
    "    return topic_importances[:,1]\n",
    "\n",
    "AllData['lda_features'] = list(map(lambda doc:\n",
    "                              document_to_lda_features(LDAmodel, doc),\n",
    "                              AllData.bow))"
   ]
  },
  {
   "cell_type": "code",
   "execution_count": 74,
   "metadata": {
    "scrolled": true
   },
   "outputs": [
    {
     "data": {
      "image/png": "[encoded data removed]",
      "text/plain": [
       "<Figure size 1440x2880 with 13 Axes>"
      ]
     },
     "metadata": {},
     "output_type": "display_data"
    }
   ],
   "source": [
    "#Cria histogramas com a distribuição dos Topicos\n",
    "\n",
    "topic_distribution = []\n",
    "for i in Alvo:\n",
    "    topic_distribution.append(AllData.loc[AllData.Pessoa == i, 'lda_features'].mean())\n",
    "    \n",
    "ax = 0\n",
    "\n",
    "Axes = [ax]*len(Alvo)\n",
    "fig, Axes = plt.subplots(len(Alvo),figsize=(20,40))\n",
    "\n",
    "nr_top_bars = 1\n",
    "\n",
    "for i in range(len(Axes)):\n",
    "    Axes[i].set_title(Alvo[i])\n",
    "\n",
    "for ax, distribution in zip(Axes, topic_distribution):\n",
    "    # Individual distribution barplots\n",
    "    ax.bar(range(len(distribution)), distribution, alpha=0.7)\n",
    "    rects = ax.patches\n",
    "    for i in np.argsort(distribution)[-nr_top_bars:]:\n",
    "        rects[i].set_alpha(1)\n",
    "    # General plotting adjustments\n",
    "    ax.set_xlim(-1, num_topics)\n",
    "    ax.set_ylim(0,0.5)"
   ]
  },
  {
   "cell_type": "code",
   "execution_count": 75,
   "metadata": {
    "scrolled": false
   },
   "outputs": [
    {
     "data": {
      "text/html": [
       "<div>\n",
       "<style scoped>\n",
       "    .dataframe tbody tr th:only-of-type {\n",
       "        vertical-align: middle;\n",
       "    }\n",
       "\n",
       "    .dataframe tbody tr th {\n",
       "        vertical-align: top;\n",
       "    }\n",
       "\n",
       "    .dataframe thead th {\n",
       "        text-align: right;\n",
       "    }\n",
       "</style>\n",
       "<table border=\"1\" class=\"dataframe\">\n",
       "  <thead>\n",
       "    <tr style=\"text-align: right;\">\n",
       "      <th></th>\n",
       "      <th>Pessoa</th>\n",
       "      <th>Data</th>\n",
       "      <th>Texto</th>\n",
       "      <th>Retweets</th>\n",
       "      <th>Likes</th>\n",
       "      <th>URL</th>\n",
       "      <th>Pessoa_id</th>\n",
       "      <th>document_sentences</th>\n",
       "      <th>tokenized_sentences</th>\n",
       "      <th>tokenized_text</th>\n",
       "      <th>stopwords_removed</th>\n",
       "      <th>bow</th>\n",
       "      <th>lda_features</th>\n",
       "    </tr>\n",
       "  </thead>\n",
       "  <tbody>\n",
       "    <tr>\n",
       "      <th>1094</th>\n",
       "      <td>OGloboPolitica</td>\n",
       "      <td>2019-02-20 17:44:29</td>\n",
       "      <td>davi alcolumbre tenta acelerar votação de proj...</td>\n",
       "      <td>14</td>\n",
       "      <td>41</td>\n",
       "      <td>1</td>\n",
       "      <td>3</td>\n",
       "      <td>[davi alcolumbre tenta acelerar votação de pro...</td>\n",
       "      <td>[[davi, alcolumbre, tenta, acelerar, votação, ...</td>\n",
       "      <td>[davi, alcolumbre, tenta, acelerar, votação, d...</td>\n",
       "      <td>[davi, alcolumbre, tenta, acelerar, votação, p...</td>\n",
       "      <td>[(167, 1), (262, 1), (264, 1), (476, 1), (1425...</td>\n",
       "      <td>[0.051089830696582794, 0.015512831509113312, 0...</td>\n",
       "    </tr>\n",
       "    <tr>\n",
       "      <th>3873</th>\n",
       "      <td>folha_poder</td>\n",
       "      <td>2019-03-15 15:03:02</td>\n",
       "      <td>conheça as atribuições da assembleia de sp e q...</td>\n",
       "      <td>2</td>\n",
       "      <td>1</td>\n",
       "      <td>1</td>\n",
       "      <td>9</td>\n",
       "      <td>[conheça as atribuições da assembleia de sp e ...</td>\n",
       "      <td>[[conheça, as, atribuições, da, assembleia, de...</td>\n",
       "      <td>[conheça, as, atribuições, da, assembleia, de,...</td>\n",
       "      <td>[conheça, atribuições, assembleia, sp, quais, ...</td>\n",
       "      <td>[(132, 1), (376, 1), (550, 1), (681, 1), (961,...</td>\n",
       "      <td>[0.021727103739976883, 0.01896800473332405, 0....</td>\n",
       "    </tr>\n",
       "    <tr>\n",
       "      <th>36240</th>\n",
       "      <td>g1economia</td>\n",
       "      <td>2019-03-19 12:08:24</td>\n",
       "      <td>dólar opera em queda nesta terça feira</td>\n",
       "      <td>0</td>\n",
       "      <td>8</td>\n",
       "      <td>1</td>\n",
       "      <td>10</td>\n",
       "      <td>[dólar opera em queda nesta terça feira ]</td>\n",
       "      <td>[[dólar, opera, em, queda, nesta, terça, feira]]</td>\n",
       "      <td>[dólar, opera, em, queda, nesta, terça, feira]</td>\n",
       "      <td>[dólar, opera, queda, nesta, terça, feira]</td>\n",
       "      <td>[(198, 1), (199, 1), (201, 1), (1142, 1), (780...</td>\n",
       "      <td>[0.029161302372813225, 0.022103657945990562, 0...</td>\n",
       "    </tr>\n",
       "    <tr>\n",
       "      <th>19295</th>\n",
       "      <td>g1politica</td>\n",
       "      <td>2019-04-03 00:04:13</td>\n",
       "      <td>engenheiros poderão ficar em silêncio na cpi d...</td>\n",
       "      <td>5</td>\n",
       "      <td>12</td>\n",
       "      <td>1</td>\n",
       "      <td>11</td>\n",
       "      <td>[engenheiros poderão ficar em silêncio na cpi ...</td>\n",
       "      <td>[[engenheiros, poderão, ficar, em, silêncio, n...</td>\n",
       "      <td>[engenheiros, poderão, ficar, em, silêncio, na...</td>\n",
       "      <td>[engenheiros, poderão, ficar, silêncio, cpi, b...</td>\n",
       "      <td>[(56, 1), (210, 1), (496, 1), (607, 1), (1019,...</td>\n",
       "      <td>[0.023197567090392113, 0.07021066546440125, 0....</td>\n",
       "    </tr>\n",
       "    <tr>\n",
       "      <th>20057</th>\n",
       "      <td>g1politica</td>\n",
       "      <td>2019-02-26 20:18:13</td>\n",
       "      <td>defesa de lula pede ao stf para suspender ação...</td>\n",
       "      <td>4</td>\n",
       "      <td>8</td>\n",
       "      <td>1</td>\n",
       "      <td>11</td>\n",
       "      <td>[defesa de lula pede ao stf para suspender açã...</td>\n",
       "      <td>[[defesa, de, lula, pede, ao, stf, para, suspe...</td>\n",
       "      <td>[defesa, de, lula, pede, ao, stf, para, suspen...</td>\n",
       "      <td>[defesa, lula, pede, stf, suspender, ação, pen...</td>\n",
       "      <td>[(22, 1), (27, 1), (126, 1), (133, 1), (166, 1...</td>\n",
       "      <td>[0.020613480359315872, 0.015522358939051628, 0...</td>\n",
       "    </tr>\n",
       "  </tbody>\n",
       "</table>\n",
       "</div>"
      ],
      "text/plain": [
       "               Pessoa                 Data  \\\n",
       "1094   OGloboPolitica  2019-02-20 17:44:29   \n",
       "3873      folha_poder  2019-03-15 15:03:02   \n",
       "36240      g1economia  2019-03-19 12:08:24   \n",
       "19295      g1politica  2019-04-03 00:04:13   \n",
       "20057      g1politica  2019-02-26 20:18:13   \n",
       "\n",
       "                                                   Texto  Retweets  Likes  \\\n",
       "1094   davi alcolumbre tenta acelerar votação de proj...        14     41   \n",
       "3873   conheça as atribuições da assembleia de sp e q...         2      1   \n",
       "36240            dólar opera em queda nesta terça feira          0      8   \n",
       "19295  engenheiros poderão ficar em silêncio na cpi d...         5     12   \n",
       "20057  defesa de lula pede ao stf para suspender ação...         4      8   \n",
       "\n",
       "       URL  Pessoa_id                                 document_sentences  \\\n",
       "1094     1          3  [davi alcolumbre tenta acelerar votação de pro...   \n",
       "3873     1          9  [conheça as atribuições da assembleia de sp e ...   \n",
       "36240    1         10          [dólar opera em queda nesta terça feira ]   \n",
       "19295    1         11  [engenheiros poderão ficar em silêncio na cpi ...   \n",
       "20057    1         11  [defesa de lula pede ao stf para suspender açã...   \n",
       "\n",
       "                                     tokenized_sentences  \\\n",
       "1094   [[davi, alcolumbre, tenta, acelerar, votação, ...   \n",
       "3873   [[conheça, as, atribuições, da, assembleia, de...   \n",
       "36240   [[dólar, opera, em, queda, nesta, terça, feira]]   \n",
       "19295  [[engenheiros, poderão, ficar, em, silêncio, n...   \n",
       "20057  [[defesa, de, lula, pede, ao, stf, para, suspe...   \n",
       "\n",
       "                                          tokenized_text  \\\n",
       "1094   [davi, alcolumbre, tenta, acelerar, votação, d...   \n",
       "3873   [conheça, as, atribuições, da, assembleia, de,...   \n",
       "36240     [dólar, opera, em, queda, nesta, terça, feira]   \n",
       "19295  [engenheiros, poderão, ficar, em, silêncio, na...   \n",
       "20057  [defesa, de, lula, pede, ao, stf, para, suspen...   \n",
       "\n",
       "                                       stopwords_removed  \\\n",
       "1094   [davi, alcolumbre, tenta, acelerar, votação, p...   \n",
       "3873   [conheça, atribuições, assembleia, sp, quais, ...   \n",
       "36240         [dólar, opera, queda, nesta, terça, feira]   \n",
       "19295  [engenheiros, poderão, ficar, silêncio, cpi, b...   \n",
       "20057  [defesa, lula, pede, stf, suspender, ação, pen...   \n",
       "\n",
       "                                                     bow  \\\n",
       "1094   [(167, 1), (262, 1), (264, 1), (476, 1), (1425...   \n",
       "3873   [(132, 1), (376, 1), (550, 1), (681, 1), (961,...   \n",
       "36240  [(198, 1), (199, 1), (201, 1), (1142, 1), (780...   \n",
       "19295  [(56, 1), (210, 1), (496, 1), (607, 1), (1019,...   \n",
       "20057  [(22, 1), (27, 1), (126, 1), (133, 1), (166, 1...   \n",
       "\n",
       "                                            lda_features  \n",
       "1094   [0.051089830696582794, 0.015512831509113312, 0...  \n",
       "3873   [0.021727103739976883, 0.01896800473332405, 0....  \n",
       "36240  [0.029161302372813225, 0.022103657945990562, 0...  \n",
       "19295  [0.023197567090392113, 0.07021066546440125, 0....  \n",
       "20057  [0.020613480359315872, 0.015522358939051628, 0...  "
      ]
     },
     "execution_count": 75,
     "metadata": {},
     "output_type": "execute_result"
    }
   ],
   "source": [
    "AllData.sample(5)"
   ]
  },
  {
   "cell_type": "code",
   "execution_count": 76,
   "metadata": {},
   "outputs": [],
   "source": [
    "#Cria uma função para pegar as TopWors dos topicos\n",
    "def get_topic_top_words(lda_model, topic_id, nr_top_words=5):\n",
    "    \"\"\" Returns the top words for topic_id from lda_model.\"\"\"\n",
    "    id_tuples = lda_model.get_topic_terms(topic_id, topn=nr_top_words)\n",
    "    word_ids = np.array(id_tuples)[:,0]\n",
    "    words = map(lambda id_: lda_model.id2word[id_], word_ids)\n",
    "    return words"
   ]
  },
  {
   "cell_type": "code",
   "execution_count": 77,
   "metadata": {
    "scrolled": true
   },
   "outputs": [
    {
     "name": "stdout",
     "output_type": "stream",
     "text": [
      "Looking up top words from top topics\n",
      "'For topic 1, the top words are:'\n",
      "('bolsonaro, é, governo, dos, não, ministro, presidente, sobre, brasil, mundo, '\n",
      " 'tem, como, ano, após, jairbolsonaro, novo, eua, petrobras, economia, ser, '\n",
      " 'sp, 2018, são, estadão, últimas, crise, vai, venezuela, mercado, nas, foi, '\n",
      " 'será, sem, ex, país, onyx, moro, trump, política, quer, está, ministério, '\n",
      " 'empresas, casa, educação, mas, já, milhões, rio, trimestre')\n",
      "''\n",
      "'For topic 2, the top words are:'\n",
      "('vai, contra, governo, bolsonaro, é, paulo, dos, são, sobre, tem, brasil, '\n",
      " 'das, justiça, ministro, nova, após, não, stf, china, sp, eua, temer, como, '\n",
      " 'crédito, lava, empresas, jato, mil, entre, dados, deve, fim, anuncia, até, '\n",
      " 'estadão, previdência, dodge, milhões, entenda, pagar, abre, câmara, país, '\n",
      " 'setor, pode, mantém, regras, reforma, terá, quer')\n",
      "''\n",
      "'For topic 3, the top words are:'\n",
      "('é, rio, nos, não, bolsonaro, pt, coluna, governo, presidente, sobre, anos, '\n",
      " 'política, como, pode, janeiro, haddad, dos, vivo, quer, 2018, pela, contra, '\n",
      " 'eua, foi, sem, quem, estados, são, entre, 5, ser, conta, econômica, já, tem, '\n",
      " 'vida, economia, brasileiros, há, mídia, semana, mourão, acordo, mas, brasil, '\n",
      " 'unidos, pelo, está, das, lula')\n",
      "''\n",
      "'For topic 4, the top words are:'\n",
      "('1, 3, guilherme, amado, governo, senado, dólar, brasil, 0, pode, mas, alta, '\n",
      " 'não, petrobras, novo, 4, sobe, presidente, aprova, fecha, cai, é, preço, 5, '\n",
      " 'tem, dos, faz, 2018, inflação, fica, us, entre, bi, milhões, maior, até, '\n",
      " 'ser, ibge, bolsonaro, sobre, lava, 10, recua, setor, pelo, nova, nas, '\n",
      " 'gasolina, venda, salário')\n",
      "''\n",
      "'For topic 5, the top words are:'\n",
      "('sobre, pede, é, stf, como, brumadinho, brasil, são, dos, presidente, '\n",
      " 'justiça, eleitoral, tem, avianca, vivo, pode, não, senador, hoje, vice, '\n",
      " 'decisão, já, tragédia, às, lula, ser, flávio, jornalista, trabalho, após, '\n",
      " 'mercado, vale, disputa, eleição, pela, paulo, foi, anos, queiroz, vai, '\n",
      " 'câmara, número, mortos, presidência, ele, bolsonaro, mesmo, ter, inquérito, '\n",
      " 'candidatura')\n",
      "''\n",
      "'For topic 6, the top words are:'\n",
      "('bolsonaro, é, não, câmara, governo, presidente, secretário, sobre, moro, '\n",
      " 'brasil, após, ser, vale, battisti, previdência, ex, deve, psl, orçamento, '\n",
      " 'mourão, comissão, pacote, projeto, israel, jato, foi, lava, anticrime, será, '\n",
      " 'defesa, quer, últimas, está, apoio, política, mudanças, maia, caso, temer, '\n",
      " 'veja, como, partido, fala, risco, polícia, nas, críticas, pec, ter, eleições')\n",
      "''\n",
      "'For topic 7, the top words are:'\n",
      "('previdência, reforma, não, sobre, governo, guedes, ccj, é, maia, bolsonaro, '\n",
      " 'está, congresso, proposta, militares, quer, brasil, após, política, câmara, '\n",
      " 'deve, votação, como, ser, pela, presidente, pode, sem, paulo, será, relator, '\n",
      " 'marco, seu, deputados, aurélio, vai, pelo, tem, das, semana, temer, ou, '\n",
      " 'trabalhista, votar, stf, ministro, toffoli, aprovar, rodrigo, equipe, '\n",
      " 'líderes')\n",
      "''\n",
      "'For topic 8, the top words are:'\n",
      "('sobre, lula, pf, ex, ministro, bolsonaro, presidente, boeing, mil, federal, '\n",
      " 'supremo, prisão, não, investigação, inquérito, contra, moro, redes, é, são, '\n",
      " 'stf, milhões, turismo, sociais, após, governo, justiça, 4, primeiro, '\n",
      " 'operação, gilmar, embraer, quer, caso, laranjas, mendes, manda, filho, '\n",
      " 'internacional, ministério, 737, nas, público, max, mas, aécio, psl, '\n",
      " 'depoimento, jato, tribunal')\n",
      "''\n",
      "'For topic 9, the top words are:'\n",
      "('bolsonaro, feira, nesta, temer, não, presidente, foi, governo, banco, após, '\n",
      " 'dias, jairbolsonaro, é, bebianno, planalto, terça, quinta, entre, sexta, '\n",
      " 'segunda, maia, crise, central, quarta, ministro, porta, últimas, vivo, ex, '\n",
      " 'voz, indulto, rio, suzano, já, michel, projeto, agricultura, barragem, '\n",
      " 'opera, redução, moreira, bc, prisão, brasil, escola, sobre, golpe, alta, '\n",
      " 'crime, palácio')\n",
      "''\n",
      "'For topic 10, the top words are:'\n",
      "('2019, 2, brasil, 3, anos, mil, vagas, até, dia, bolsonaro, tem, bilhões, 1, '\n",
      " 'bi, 5, após, renda, queda, é, dólar, 2018, imposto, quase, emprego, pib, '\n",
      " 'veja, ir, vale, desde, alta, ano, bom, bolsa, milhões, aposentadoria, 7, 20, '\n",
      " 'país, 2017, 9, dos, us, 6, mercado, política, neste, maior, cai, lucro, '\n",
      " 'idade')\n",
      "''\n",
      "\n"
     ]
    }
   ],
   "source": [
    "from pprint import pprint\n",
    "\n",
    "print(\"Looking up top words from top topics\")\n",
    "for x in range(num_topics):\n",
    "    top_words = get_topic_top_words(LDAmodel, x, nr_top_words=50)\n",
    "    pprint(f\"For topic {x+1}, the top words are:\")\n",
    "    pprint(\"{0}\".format(\", \".join(top_words)))\n",
    "    pprint(\"\")\n",
    "print(\"\")"
   ]
  },
  {
   "cell_type": "code",
   "execution_count": 78,
   "metadata": {},
   "outputs": [],
   "source": [
    "TopicsData = np.array(list(AllData[\"lda_features\"]))\n",
    "TopicsData = np.transpose(TopicsData)"
   ]
  },
  {
   "cell_type": "code",
   "execution_count": 79,
   "metadata": {},
   "outputs": [
    {
     "data": {
      "image/png": "[encoded data removed]",
      "text/plain": [
       "<Figure size 288x288 with 1 Axes>"
      ]
     },
     "metadata": {},
     "output_type": "display_data"
    }
   ],
   "source": [
    "CovMatrix = np.cov(TopicsData)\n",
    "plt.matshow(CovMatrix, cmap=plt.cm.gray)\n",
    "plt.show()"
   ]
  },
  {
   "cell_type": "code",
   "execution_count": 80,
   "metadata": {},
   "outputs": [
    {
     "data": {
      "text/plain": [
       "41073"
      ]
     },
     "execution_count": 80,
     "metadata": {},
     "output_type": "execute_result"
    }
   ],
   "source": [
    "len(AllData)"
   ]
  },
  {
   "cell_type": "markdown",
   "metadata": {},
   "source": [
    "## Filtra as ações"
   ]
  },
  {
   "cell_type": "code",
   "execution_count": 81,
   "metadata": {},
   "outputs": [],
   "source": [
    "Stocks = [\"ibov\", \"ITUB4\", \"PETR4\", \"Vale3\", \"BBDC4\", \"ABEV3\", \"BBAS3\", \"SANB3\", \"LREN3\"]\n",
    "\n",
    "Cols = {}\n",
    "for i in range(len(Stocks)):\n",
    "    Cols[Stocks[i]] = [i*4+i, i*4+i+1, i*4+i+2, i*4+i+3]"
   ]
  },
  {
   "cell_type": "code",
   "execution_count": 82,
   "metadata": {},
   "outputs": [],
   "source": [
    "Var = 'PETR4'\n",
    "bolsa = pd.read_excel('../../Dados_Bolsa/Twt.xlsx', sheet_name=\"1h\", usecols=Cols[Var],  skiprow=[0])"
   ]
  },
  {
   "cell_type": "code",
   "execution_count": 83,
   "metadata": {},
   "outputs": [],
   "source": [
    "headers = list(bolsa.keys())\n",
    "myheaders = [Var, \"Price\", \"Volume\", \"Ticks\"]\n",
    "\n",
    "for i in range(len(headers)):\n",
    "    bolsa.rename(columns={headers[i]: myheaders[i]}, inplace=True)\n",
    "    \n",
    "bolsa = bolsa.dropna()\n",
    "bolsa.drop(bolsa.head(1).index,inplace=True)\n",
    "\n",
    "bolsa = bolsa.reset_index(drop=True)"
   ]
  },
  {
   "cell_type": "code",
   "execution_count": 84,
   "metadata": {},
   "outputs": [
    {
     "data": {
      "text/html": [
       "<div>\n",
       "<style scoped>\n",
       "    .dataframe tbody tr th:only-of-type {\n",
       "        vertical-align: middle;\n",
       "    }\n",
       "\n",
       "    .dataframe tbody tr th {\n",
       "        vertical-align: top;\n",
       "    }\n",
       "\n",
       "    .dataframe thead th {\n",
       "        text-align: right;\n",
       "    }\n",
       "</style>\n",
       "<table border=\"1\" class=\"dataframe\">\n",
       "  <thead>\n",
       "    <tr style=\"text-align: right;\">\n",
       "      <th></th>\n",
       "      <th>PETR4</th>\n",
       "      <th>Price</th>\n",
       "      <th>Volume</th>\n",
       "      <th>Ticks</th>\n",
       "    </tr>\n",
       "  </thead>\n",
       "  <tbody>\n",
       "    <tr>\n",
       "      <th>0</th>\n",
       "      <td>2018-10-09 10:00:00</td>\n",
       "      <td>26.53</td>\n",
       "      <td>16993100</td>\n",
       "      <td>16015</td>\n",
       "    </tr>\n",
       "    <tr>\n",
       "      <th>1</th>\n",
       "      <td>2018-10-09 11:00:00</td>\n",
       "      <td>26.69</td>\n",
       "      <td>17752300</td>\n",
       "      <td>13529</td>\n",
       "    </tr>\n",
       "    <tr>\n",
       "      <th>2</th>\n",
       "      <td>2018-10-09 12:00:00</td>\n",
       "      <td>26.79</td>\n",
       "      <td>7840900</td>\n",
       "      <td>9768</td>\n",
       "    </tr>\n",
       "    <tr>\n",
       "      <th>3</th>\n",
       "      <td>2018-10-09 13:00:00</td>\n",
       "      <td>26.83</td>\n",
       "      <td>8244300</td>\n",
       "      <td>9649</td>\n",
       "    </tr>\n",
       "    <tr>\n",
       "      <th>4</th>\n",
       "      <td>2018-10-09 14:00:00</td>\n",
       "      <td>26.84</td>\n",
       "      <td>7674700</td>\n",
       "      <td>8604</td>\n",
       "    </tr>\n",
       "  </tbody>\n",
       "</table>\n",
       "</div>"
      ],
      "text/plain": [
       "                 PETR4  Price    Volume  Ticks\n",
       "0  2018-10-09 10:00:00  26.53  16993100  16015\n",
       "1  2018-10-09 11:00:00  26.69  17752300  13529\n",
       "2  2018-10-09 12:00:00  26.79   7840900   9768\n",
       "3  2018-10-09 13:00:00  26.83   8244300   9649\n",
       "4  2018-10-09 14:00:00  26.84   7674700   8604"
      ]
     },
     "execution_count": 84,
     "metadata": {},
     "output_type": "execute_result"
    }
   ],
   "source": [
    "bolsa.head(5)"
   ]
  },
  {
   "cell_type": "code",
   "execution_count": 85,
   "metadata": {
    "scrolled": false
   },
   "outputs": [
    {
     "data": {
      "text/plain": [
       "1099"
      ]
     },
     "execution_count": 85,
     "metadata": {},
     "output_type": "execute_result"
    }
   ],
   "source": [
    "ibov_len  = len(bolsa[Var])\n",
    "ibov_len"
   ]
  },
  {
   "cell_type": "code",
   "execution_count": 86,
   "metadata": {},
   "outputs": [
    {
     "name": "stdout",
     "output_type": "stream",
     "text": [
      "2018-10-09 {'abertura': 26.53, 'fechamento': 26.82, 'variacao': 0}\n",
      "2018-10-10 {'abertura': 25.87, 'fechamento': 26.05, 'variacao': 0}\n",
      "2018-10-11 {'abertura': 26.35, 'fechamento': 25.29, 'variacao': 2}\n",
      "2018-10-15 {'abertura': 25.68, 'fechamento': 25.77, 'variacao': 0}\n"
     ]
    }
   ],
   "source": [
    "import datetime\n",
    "\n",
    "ibov_data_precos = {}\n",
    "DeadZoneUp = 0.3e-2\n",
    "DeadZoneDown = 0.6e-2\n",
    "# célula para identificar os preços de abertura e fechamento de cada dia\n",
    "for i in range(0, ibov_len):\n",
    "    data_completa = datetime.datetime.strptime(str(bolsa[Var][i]), '%Y-%m-%d %H:%M:%S')\n",
    "    preco = bolsa['Price'][i]\n",
    "    data = data_completa.strftime(\"%Y-%m-%d\")\n",
    "    if data not in ibov_data_precos:\n",
    "        ibov_data_precos[data] = {}\n",
    "        ibov_data_precos[data]['abertura'] = preco\n",
    "        #caso só tenhamos informação de uma hora dentro de um dia, assumimos esse preco como o de fechamento tbm\n",
    "        ibov_data_precos[data]['fechamento'] = preco \n",
    "        dia_anterior_completo =  data_completa - datetime.timedelta(days=1)\n",
    "        dia_anterior_data = dia_anterior_completo.strftime(\"%Y-%m-%d\")\n",
    "        \n",
    "        if(dia_anterior_data in ibov_data_precos):\n",
    "            dia_anterior_fechamento = ibov_data_precos[dia_anterior_data]['fechamento']\n",
    "            \n",
    "            if(preco > dia_anterior_fechamento + dia_anterior_fechamento*DeadZoneUp):\n",
    "                ibov_data_precos[data]['variacao'] = 2 #Subiu\n",
    "            elif (preco < dia_anterior_fechamento - dia_anterior_fechamento*DeadZoneDown):\n",
    "                ibov_data_precos[data]['variacao'] = 0 #Desceu\n",
    "            else:\n",
    "                ibov_data_precos[data]['variacao'] = 1\n",
    "        else:\n",
    "            #se não tivermos informações sobre o dia anterior, assumimos que a variacao foi neutra\n",
    "            ibov_data_precos[data]['variacao'] = 0 \n",
    "    else:\n",
    "        if i < (ibov_len - 1):\n",
    "            data_seguinte = datetime.datetime.strptime(str(bolsa[Var][i+1]), '%Y-%m-%d %H:%M:%S')\n",
    "            if data_seguinte.date() > data_completa.date():\n",
    "                ibov_data_precos[data]['fechamento'] = preco\n",
    "\n",
    "Datesibov = list(ibov_data_precos.keys())\n",
    "                \n",
    "for i in range(4):\n",
    "    print(Datesibov[i], ibov_data_precos[Datesibov[i]])"
   ]
  },
  {
   "cell_type": "markdown",
   "metadata": {},
   "source": [
    "## Cria os Datasets"
   ]
  },
  {
   "cell_type": "code",
   "execution_count": 146,
   "metadata": {},
   "outputs": [],
   "source": [
    "lastdays = [0, 0, 0, 0, 0]\n",
    "lastday = 0\n",
    "InputData = []\n",
    "OutputData = []\n",
    "for data in ibov_data_precos:\n",
    "    if(data in tweets_data):\n",
    "        #Utiliza modelos para gerar os dados\n",
    "        Result = []\n",
    "        for document in tweets_data[data]:\n",
    "            ThisTopic = (LDAmodel.get_document_topics(document, minimum_probability=0))\n",
    "            Result.append([])\n",
    "            for i in ThisTopic:\n",
    "                Result[-1].append(i[1])\n",
    "        \n",
    "        Mean = []\n",
    "        ResultT = np.transpose(Result)\n",
    "        for Res in ResultT:\n",
    "            Mean.append(np.mean(Res))\n",
    "\n",
    "        Covariance = np.cov(ResultT)\n",
    "        \n",
    "        #Faz uma lista dos resultados dos ultimos 5 dias\n",
    "        lastdays.append(lastday)\n",
    "        del(lastdays[0])\n",
    "        \n",
    "        #Salva os topicos + covariancias no x\n",
    "        datex = (list(Mean) + list(Covariance.flatten()) + list(lastdays))\n",
    "        InputData.append(datex)\n",
    "        OutputData.append(ibov_data_precos[data]['variacao'])\n",
    "        \n",
    "        #Lembra coisad do ultimo dia\n",
    "        lastday = ibov_data_precos[data]['variacao']"
   ]
  },
  {
   "cell_type": "code",
   "execution_count": 147,
   "metadata": {},
   "outputs": [
    {
     "data": {
      "text/plain": [
       "(127, 127, 115)"
      ]
     },
     "execution_count": 147,
     "metadata": {},
     "output_type": "execute_result"
    }
   ],
   "source": [
    "len(OutputData), len(InputData), len(InputData[0])"
   ]
  },
  {
   "cell_type": "code",
   "execution_count": null,
   "metadata": {},
   "outputs": [],
   "source": [
    "from sklearn.model_selection import train_test_split\n",
    "\n",
    "train_texts, test_texts, train_classes, test_classes = train_test_split(InputData, OutputData, \n",
    "                                                                        test_size=0.2, stratify=OutputData)"
   ]
  },
  {
   "cell_type": "markdown",
   "metadata": {},
   "source": [
    "## Distribuição das Classes:"
   ]
  },
  {
   "cell_type": "code",
   "execution_count": 148,
   "metadata": {},
   "outputs": [
    {
     "name": "stdout",
     "output_type": "stream",
     "text": [
      "0.41732283464566927\n",
      "0.2440944881889764\n",
      "0.33858267716535434\n",
      "\n"
     ]
    }
   ],
   "source": [
    "trainlen = len(OutputData)\n",
    "\n",
    "print(OutputData.count(0)/trainlen)\n",
    "print(OutputData.count(1)/trainlen)\n",
    "print(OutputData.count(2)/trainlen)\n",
    "print()"
   ]
  },
  {
   "cell_type": "markdown",
   "metadata": {},
   "source": [
    "## Aplicação de Modelos"
   ]
  },
  {
   "cell_type": "code",
   "execution_count": 149,
   "metadata": {},
   "outputs": [],
   "source": [
    "from sklearn.model_selection import cross_val_predict, cross_val_score"
   ]
  },
  {
   "cell_type": "markdown",
   "metadata": {},
   "source": [
    "### Regressão Logistica"
   ]
  },
  {
   "cell_type": "code",
   "execution_count": 150,
   "metadata": {},
   "outputs": [
    {
     "name": "stdout",
     "output_type": "stream",
     "text": [
      "[0.31818182 0.47619048 0.31707317]\n",
      "0.3704818217013339\n"
     ]
    }
   ],
   "source": [
    "from sklearn.linear_model import LogisticRegression\n",
    "\n",
    "Losgisticclf = LogisticRegression(random_state=0, solver='lbfgs', multi_class='multinomial')\n",
    "\n",
    "scores = cross_val_score(Losgisticclf, InputData, OutputData, cv=3, n_jobs=-1)\n",
    "\n",
    "print(scores)\n",
    "print(np.mean(scores))"
   ]
  },
  {
   "cell_type": "markdown",
   "metadata": {},
   "source": [
    "### Decision Tree"
   ]
  },
  {
   "cell_type": "code",
   "execution_count": 151,
   "metadata": {},
   "outputs": [
    {
     "name": "stdout",
     "output_type": "stream",
     "text": [
      "[0.38636364 0.4047619  0.36585366]\n",
      "0.38565973322070884\n"
     ]
    }
   ],
   "source": [
    "from sklearn import tree\n",
    "\n",
    "tree = tree.DecisionTreeClassifier()\n",
    "\n",
    "scores = cross_val_score(tree, InputData, OutputData, cv=3, n_jobs=-1)\n",
    "\n",
    "print(scores)\n",
    "print(np.mean(scores))"
   ]
  },
  {
   "cell_type": "raw",
   "metadata": {},
   "source": [
    "#Para ver a imagem da Decision Tree\n",
    "\n",
    "from sklearn.externals.six import StringIO  \n",
    "from IPython.display import Image  \n",
    "from sklearn.tree import export_graphviz\n",
    "import pydotplus\n",
    "\n",
    "tree.fit(InputData, OutputData)\n",
    "\n",
    "dot_data = StringIO()\n",
    "\n",
    "export_graphviz(tree, out_file=dot_data,  \n",
    "                filled=True, rounded=True,\n",
    "                special_characters=True)\n",
    "\n",
    "graph = pydotplus.graph_from_dot_data(dot_data.getvalue())  \n",
    "Image(graph.create_png())"
   ]
  },
  {
   "cell_type": "markdown",
   "metadata": {},
   "source": [
    "### Randon Forest"
   ]
  },
  {
   "cell_type": "code",
   "execution_count": 152,
   "metadata": {},
   "outputs": [
    {
     "name": "stdout",
     "output_type": "stream",
     "text": [
      "[0.40909091 0.33333333 0.43902439]\n",
      "0.3938162108893816\n"
     ]
    }
   ],
   "source": [
    "from sklearn.ensemble import RandomForestClassifier\n",
    "\n",
    "RandonForestclf = RandomForestClassifier(n_estimators=10, n_jobs=-1)\n",
    "\n",
    "scores = cross_val_score(RandonForestclf, InputData, OutputData, cv=3, n_jobs=-1)\n",
    "\n",
    "print(scores)\n",
    "print(np.mean(scores))"
   ]
  },
  {
   "cell_type": "code",
   "execution_count": 153,
   "metadata": {},
   "outputs": [
    {
     "name": "stdout",
     "output_type": "stream",
     "text": [
      "{'min_impurity_decrease': 1e-06, 'n_estimators': 100} 0.4409448818897638\n"
     ]
    },
    {
     "name": "stderr",
     "output_type": "stream",
     "text": [
      "C:\\Users\\edufe\\Anaconda3\\lib\\site-packages\\sklearn\\model_selection\\_search.py:841: DeprecationWarning: The default of the `iid` parameter will change from True to False in version 0.22 and will be removed in 0.24. This will change numeric results when test-set sizes are unequal.\n",
      "  DeprecationWarning)\n"
     ]
    }
   ],
   "source": [
    "from sklearn.model_selection import GridSearchCV\n",
    "\n",
    "param_grid = [\n",
    "    {'n_estimators': [10, 30, 100], \n",
    "    'min_impurity_decrease': [1e-5, 1e-6, 0]}\n",
    "  ]\n",
    "\n",
    "RandonForestclf = RandomForestClassifier(n_estimators=10, min_impurity_decrease=1e-3)\n",
    "\n",
    "grid_search = GridSearchCV(RandonForestclf, param_grid, cv=5, scoring='accuracy', return_train_score=True, n_jobs=-1)\n",
    "\n",
    "grid_search.fit(InputData, OutputData)\n",
    "\n",
    "print(grid_search.best_params_, grid_search.best_score_)\n",
    "\n",
    "BestParams = grid_search.best_params_\n",
    "\n",
    "RandonForestclf = RandomForestClassifier(n_estimators=BestParams[\"n_estimators\"], \n",
    "                                         min_impurity_decrease=BestParams[\"min_impurity_decrease\"])"
   ]
  },
  {
   "cell_type": "markdown",
   "metadata": {},
   "source": [
    "## Best Model"
   ]
  },
  {
   "cell_type": "code",
   "execution_count": 154,
   "metadata": {},
   "outputs": [],
   "source": [
    "TopClassifier = RandonForestclf\n",
    "\n",
    "y_pred = cross_val_predict(TopClassifier, InputData, OutputData, cv=3)"
   ]
  },
  {
   "cell_type": "code",
   "execution_count": 155,
   "metadata": {},
   "outputs": [
    {
     "name": "stdout",
     "output_type": "stream",
     "text": [
      "Resultado Modelo:\n",
      "0.6062992125984252\n",
      "0.14960629921259844\n",
      "0.2440944881889764\n"
     ]
    }
   ],
   "source": [
    "Output_Pred = list(y_pred)\n",
    "\n",
    "print(\"Resultado Modelo:\")\n",
    "print(Output_Pred.count(0)/len(Output_Pred))\n",
    "print(Output_Pred.count(1)/len(Output_Pred))\n",
    "print(Output_Pred.count(2)/len(Output_Pred))"
   ]
  },
  {
   "cell_type": "code",
   "execution_count": 156,
   "metadata": {},
   "outputs": [
    {
     "data": {
      "text/plain": [
       "array([[33,  8, 12],\n",
       "       [19,  5,  7],\n",
       "       [25,  6, 12]], dtype=int64)"
      ]
     },
     "execution_count": 156,
     "metadata": {},
     "output_type": "execute_result"
    }
   ],
   "source": [
    "from sklearn.metrics import confusion_matrix\n",
    "\n",
    "conf_mx = confusion_matrix(OutputData, Output_Pred)\n",
    "conf_mx"
   ]
  },
  {
   "cell_type": "code",
   "execution_count": 157,
   "metadata": {},
   "outputs": [
    {
     "data": {
      "image/png": "[encoded data removed]",
      "text/plain": [
       "<Figure size 288x288 with 1 Axes>"
      ]
     },
     "metadata": {},
     "output_type": "display_data"
    }
   ],
   "source": [
    "plt.matshow(conf_mx, cmap=plt.cm.gray)\n",
    "plt.show()"
   ]
  },
  {
   "cell_type": "code",
   "execution_count": 158,
   "metadata": {},
   "outputs": [],
   "source": [
    "InputDataa = np.array(InputData)\n",
    "OutputDataa = np.array(OutputData)\n",
    "Output_Preda = np.array(Output_Pred)"
   ]
  },
  {
   "cell_type": "code",
   "execution_count": 159,
   "metadata": {},
   "outputs": [
    {
     "data": {
      "text/html": [
       "<div>\n",
       "<style scoped>\n",
       "    .dataframe tbody tr th:only-of-type {\n",
       "        vertical-align: middle;\n",
       "    }\n",
       "\n",
       "    .dataframe tbody tr th {\n",
       "        vertical-align: top;\n",
       "    }\n",
       "\n",
       "    .dataframe thead th {\n",
       "        text-align: right;\n",
       "    }\n",
       "</style>\n",
       "<table border=\"1\" class=\"dataframe\">\n",
       "  <thead>\n",
       "    <tr style=\"text-align: right;\">\n",
       "      <th></th>\n",
       "      <th>0</th>\n",
       "      <th>1</th>\n",
       "      <th>2</th>\n",
       "      <th>3</th>\n",
       "      <th>4</th>\n",
       "      <th>5</th>\n",
       "      <th>6</th>\n",
       "      <th>7</th>\n",
       "      <th>8</th>\n",
       "      <th>9</th>\n",
       "      <th>...</th>\n",
       "      <th>107</th>\n",
       "      <th>108</th>\n",
       "      <th>109</th>\n",
       "      <th>110</th>\n",
       "      <th>111</th>\n",
       "      <th>112</th>\n",
       "      <th>113</th>\n",
       "      <th>114</th>\n",
       "      <th>Output</th>\n",
       "      <th>Output_pred</th>\n",
       "    </tr>\n",
       "  </thead>\n",
       "  <tbody>\n",
       "    <tr>\n",
       "      <th>94</th>\n",
       "      <td>0.225717</td>\n",
       "      <td>0.095857</td>\n",
       "      <td>0.106910</td>\n",
       "      <td>0.119848</td>\n",
       "      <td>0.132217</td>\n",
       "      <td>0.059520</td>\n",
       "      <td>0.054052</td>\n",
       "      <td>0.047392</td>\n",
       "      <td>0.060808</td>\n",
       "      <td>0.097681</td>\n",
       "      <td>...</td>\n",
       "      <td>-0.000536</td>\n",
       "      <td>-0.000002</td>\n",
       "      <td>0.036200</td>\n",
       "      <td>0</td>\n",
       "      <td>2</td>\n",
       "      <td>2</td>\n",
       "      <td>2</td>\n",
       "      <td>1</td>\n",
       "      <td>0</td>\n",
       "      <td>2</td>\n",
       "    </tr>\n",
       "    <tr>\n",
       "      <th>76</th>\n",
       "      <td>0.133251</td>\n",
       "      <td>0.138302</td>\n",
       "      <td>0.075331</td>\n",
       "      <td>0.077080</td>\n",
       "      <td>0.134249</td>\n",
       "      <td>0.106243</td>\n",
       "      <td>0.107739</td>\n",
       "      <td>0.078150</td>\n",
       "      <td>0.072949</td>\n",
       "      <td>0.076707</td>\n",
       "      <td>...</td>\n",
       "      <td>-0.004192</td>\n",
       "      <td>-0.002269</td>\n",
       "      <td>0.028655</td>\n",
       "      <td>2</td>\n",
       "      <td>2</td>\n",
       "      <td>1</td>\n",
       "      <td>0</td>\n",
       "      <td>1</td>\n",
       "      <td>0</td>\n",
       "      <td>2</td>\n",
       "    </tr>\n",
       "    <tr>\n",
       "      <th>103</th>\n",
       "      <td>0.173417</td>\n",
       "      <td>0.123566</td>\n",
       "      <td>0.089836</td>\n",
       "      <td>0.088696</td>\n",
       "      <td>0.082706</td>\n",
       "      <td>0.066376</td>\n",
       "      <td>0.139024</td>\n",
       "      <td>0.081047</td>\n",
       "      <td>0.061569</td>\n",
       "      <td>0.093763</td>\n",
       "      <td>...</td>\n",
       "      <td>-0.001856</td>\n",
       "      <td>-0.003910</td>\n",
       "      <td>0.043475</td>\n",
       "      <td>1</td>\n",
       "      <td>2</td>\n",
       "      <td>1</td>\n",
       "      <td>1</td>\n",
       "      <td>0</td>\n",
       "      <td>1</td>\n",
       "      <td>1</td>\n",
       "    </tr>\n",
       "    <tr>\n",
       "      <th>48</th>\n",
       "      <td>0.140796</td>\n",
       "      <td>0.205600</td>\n",
       "      <td>0.110572</td>\n",
       "      <td>0.103736</td>\n",
       "      <td>0.050928</td>\n",
       "      <td>0.076749</td>\n",
       "      <td>0.049678</td>\n",
       "      <td>0.107939</td>\n",
       "      <td>0.064315</td>\n",
       "      <td>0.089688</td>\n",
       "      <td>...</td>\n",
       "      <td>-0.004741</td>\n",
       "      <td>-0.004256</td>\n",
       "      <td>0.042205</td>\n",
       "      <td>1</td>\n",
       "      <td>0</td>\n",
       "      <td>0</td>\n",
       "      <td>2</td>\n",
       "      <td>0</td>\n",
       "      <td>1</td>\n",
       "      <td>0</td>\n",
       "    </tr>\n",
       "    <tr>\n",
       "      <th>78</th>\n",
       "      <td>0.157492</td>\n",
       "      <td>0.163113</td>\n",
       "      <td>0.117388</td>\n",
       "      <td>0.068874</td>\n",
       "      <td>0.120264</td>\n",
       "      <td>0.052442</td>\n",
       "      <td>0.099254</td>\n",
       "      <td>0.085744</td>\n",
       "      <td>0.070093</td>\n",
       "      <td>0.065337</td>\n",
       "      <td>...</td>\n",
       "      <td>-0.003842</td>\n",
       "      <td>-0.001874</td>\n",
       "      <td>0.023985</td>\n",
       "      <td>1</td>\n",
       "      <td>0</td>\n",
       "      <td>1</td>\n",
       "      <td>0</td>\n",
       "      <td>2</td>\n",
       "      <td>0</td>\n",
       "      <td>1</td>\n",
       "    </tr>\n",
       "  </tbody>\n",
       "</table>\n",
       "<p>5 rows × 117 columns</p>\n",
       "</div>"
      ],
      "text/plain": [
       "            0         1         2         3         4         5         6  \\\n",
       "94   0.225717  0.095857  0.106910  0.119848  0.132217  0.059520  0.054052   \n",
       "76   0.133251  0.138302  0.075331  0.077080  0.134249  0.106243  0.107739   \n",
       "103  0.173417  0.123566  0.089836  0.088696  0.082706  0.066376  0.139024   \n",
       "48   0.140796  0.205600  0.110572  0.103736  0.050928  0.076749  0.049678   \n",
       "78   0.157492  0.163113  0.117388  0.068874  0.120264  0.052442  0.099254   \n",
       "\n",
       "            7         8         9  ...       107       108       109  110  \\\n",
       "94   0.047392  0.060808  0.097681  ... -0.000536 -0.000002  0.036200    0   \n",
       "76   0.078150  0.072949  0.076707  ... -0.004192 -0.002269  0.028655    2   \n",
       "103  0.081047  0.061569  0.093763  ... -0.001856 -0.003910  0.043475    1   \n",
       "48   0.107939  0.064315  0.089688  ... -0.004741 -0.004256  0.042205    1   \n",
       "78   0.085744  0.070093  0.065337  ... -0.003842 -0.001874  0.023985    1   \n",
       "\n",
       "     111  112  113  114  Output  Output_pred  \n",
       "94     2    2    2    1       0            2  \n",
       "76     2    1    0    1       0            2  \n",
       "103    2    1    1    0       1            1  \n",
       "48     0    0    2    0       1            0  \n",
       "78     0    1    0    2       0            1  \n",
       "\n",
       "[5 rows x 117 columns]"
      ]
     },
     "execution_count": 159,
     "metadata": {},
     "output_type": "execute_result"
    }
   ],
   "source": [
    "AllResults = pd.DataFrame(InputData)\n",
    "AllResults[\"Output\"]= OutputDataa\n",
    "AllResults[\"Output_pred\"]= Output_Preda\n",
    "\n",
    "AllResults.sample(5)"
   ]
  },
  {
   "cell_type": "code",
   "execution_count": 161,
   "metadata": {
    "scrolled": false
   },
   "outputs": [],
   "source": [
    "ResultCorr = np.array(AllResults.corr())"
   ]
  },
  {
   "cell_type": "code",
   "execution_count": 162,
   "metadata": {},
   "outputs": [
    {
     "data": {
      "image/png": "[encoded data removed]",
      "text/plain": [
       "<Figure size 288x288 with 1 Axes>"
      ]
     },
     "metadata": {},
     "output_type": "display_data"
    }
   ],
   "source": [
    "plt.matshow(ResultCorr)\n",
    "plt.show()"
   ]
  },
  {
   "cell_type": "code",
   "execution_count": 163,
   "metadata": {},
   "outputs": [
    {
     "data": {
      "image/png": "[encoded data removed]",
      "text/plain": [
       "<Figure size 288x288 with 1 Axes>"
      ]
     },
     "metadata": {},
     "output_type": "display_data"
    }
   ],
   "source": [
    "row_sums = ResultCorr.sum(axis=1, keepdims=True)\n",
    "norm_corr = ResultCorr / row_sums\n",
    "np.fill_diagonal(norm_corr, 0.005)\n",
    "\n",
    "plt.matshow(norm_corr)\n",
    "plt.show()"
   ]
  }
 ],
 "metadata": {
  "kernelspec": {
   "display_name": "Python 3",
   "language": "python",
   "name": "python3"
  },
  "language_info": {
   "codemirror_mode": {
    "name": "ipython",
    "version": 3
   },
   "file_extension": ".py",
   "mimetype": "text/x-python",
   "name": "python",
   "nbconvert_exporter": "python",
   "pygments_lexer": "ipython3",
   "version": "3.7.3"
  }
 },
 "nbformat": 4,
 "nbformat_minor": 2
}
