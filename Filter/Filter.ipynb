{
 "cells": [
  {
   "cell_type": "markdown",
   "metadata": {},
   "source": [
    "## Summario\n",
    "\n",
    "[Data Gather](#Gather)\n",
    "\n",
    "[Check](#Check)"
   ]
  },
  {
   "cell_type": "code",
   "execution_count": 2,
   "metadata": {},
   "outputs": [],
   "source": [
    "import pandas as pd\n",
    "import numpy as np\n",
    "import os\n",
    "import re\n",
    "import string"
   ]
  },
  {
   "cell_type": "markdown",
   "metadata": {},
   "source": [
    "## Data Gather\n",
    "<a id='Gather'></a>"
   ]
  },
  {
   "cell_type": "code",
   "execution_count": 3,
   "metadata": {
    "scrolled": true
   },
   "outputs": [],
   "source": [
    "#Verifica os dados no diretorio\n",
    "\n",
    "Data = os.listdir(\"../Finder/Output\")\n",
    "for i in range(len(Data)):\n",
    "    Data[i] = Data[i].split(\".\")[0]\n",
    "    \n",
    "#Verifica os dados no diretorio já filtrados\n",
    "\n",
    "DataF = os.listdir(\"Tweets_Filtered/\")\n",
    "for i in range(len(DataF)):\n",
    "    DataF[i] = DataF[i].split(\".\")[0]"
   ]
  },
  {
   "cell_type": "code",
   "execution_count": 3,
   "metadata": {},
   "outputs": [
    {
     "name": "stdout",
     "output_type": "stream",
     "text": [
      "Para Filtrar: ['conexaopolitica', 'EstadaoEconomia', 'folha_mercado', 'g1economia', 'OGlobo_Economia', 'UOLEconomia']\n"
     ]
    }
   ],
   "source": [
    "DatatoF = []\n",
    "for i in Data:\n",
    "    if i not in DataF:\n",
    "        DatatoF.append(i)\n",
    "        \n",
    "print(\"Para Filtrar: {0}\".format(DatatoF))"
   ]
  },
  {
   "cell_type": "code",
   "execution_count": 4,
   "metadata": {},
   "outputs": [],
   "source": [
    "#Define datas especificas para cada um se aplicavel\n",
    "Dates = {\n",
    "        #\"Jair_Bolsonaro\":[\"2017-10-29\", \"2019-04-16\"] \n",
    "        }"
   ]
  },
  {
   "cell_type": "code",
   "execution_count": 5,
   "metadata": {},
   "outputs": [],
   "source": [
    "def Remove_punct(text):\n",
    "    #Remove a pontuação\n",
    "    newstring = text.translate(str.maketrans({key: \" \" for key in string.punctuation + ' \\t\\n\\r\\f\\v'}))\n",
    "    #Remove espaços duplos\n",
    "    newstring = re.sub(' +', ' ', newstring)\n",
    "    #Retorna o string sem maiusculas\n",
    "    return newstring.lower()"
   ]
  },
  {
   "cell_type": "code",
   "execution_count": 6,
   "metadata": {},
   "outputs": [
    {
     "name": "stdout",
     "output_type": "stream",
     "text": [
      "Starting conexaopolitica\n"
     ]
    },
    {
     "name": "stderr",
     "output_type": "stream",
     "text": [
      "C:\\Users\\edufe\\Anaconda3\\lib\\site-packages\\ipykernel_launcher.py:26: SettingWithCopyWarning: \n",
      "A value is trying to be set on a copy of a slice from a DataFrame\n",
      "\n",
      "See the caveats in the documentation: http://pandas.pydata.org/pandas-docs/stable/indexing.html#indexing-view-versus-copy\n",
      "C:\\Users\\edufe\\Anaconda3\\lib\\site-packages\\ipykernel_launcher.py:31: SettingWithCopyWarning: \n",
      "A value is trying to be set on a copy of a slice from a DataFrame\n",
      "\n",
      "See the caveats in the documentation: http://pandas.pydata.org/pandas-docs/stable/indexing.html#indexing-view-versus-copy\n"
     ]
    },
    {
     "name": "stdout",
     "output_type": "stream",
     "text": [
      "Done conexaopolitica\n",
      "---\n",
      "Starting EstadaoEconomia\n",
      "Done EstadaoEconomia\n",
      "---\n",
      "Starting folha_mercado\n",
      "Done folha_mercado\n",
      "---\n",
      "Starting g1economia\n",
      "Done g1economia\n",
      "---\n",
      "Starting OGlobo_Economia\n",
      "Done OGlobo_Economia\n",
      "---\n",
      "Starting UOLEconomia\n",
      "Done UOLEconomia\n",
      "---\n"
     ]
    }
   ],
   "source": [
    "for i in range(len(DatatoF)):\n",
    "    print(\"Starting {0}\".format(DatatoF[i]))\n",
    "    #Lê o dataframe\n",
    "    df = pd.read_csv(\"Tweets/{0}\".format(DatatoF[i]+\".csv\"), encoding='utf-16', sep=\",\", decimal=\".\")\n",
    "    #Verifica a coluna de criação como data\n",
    "    df[\"Data\"] = pd.to_datetime(df[\"Data\"], infer_datetime_format=True)\n",
    "    \n",
    "    #Cria Coluna de URLs\n",
    "    df[\"URL\"] = 0\n",
    "    \n",
    "    #Corta o dataframe baseado nas datas alvo se aplicavel\n",
    "    if Data[i] in Dates:\n",
    "        start_date = Dates[DatatoF[i]][0]\n",
    "        end_date = Dates[DatatoF[i]][1]\n",
    "        mask = ((df['Data'] > pd.to_datetime(start_date, utc=True)) & \n",
    "                (df['Data'] <= pd.to_datetime(end_date, utc=True)))\n",
    "        df = df.loc[mask]\n",
    "        \n",
    "    #Retira os hiperlinks dos finais dos tweets\n",
    "    Textos = df[\"Texto\"]\n",
    "    URLs = df[\"URL\"]\n",
    "    \n",
    "    for j in range(len(Textos)):\n",
    "        text = Textos[j]\n",
    "        if \"http\" in text:\n",
    "            URLs[j] = 1 \n",
    "            start = text.index(\"http\")\n",
    "            newtext = text[0: start]\n",
    "            if len(newtext) == 0:\n",
    "                newtext = \"deleteme\"\n",
    "            Textos[j] = newtext \n",
    "            \n",
    "    df[\"Texto\"] = Textos\n",
    "    df[\"URL\"] = URLs\n",
    "    \n",
    "    textmask = (df['Texto'] != \"deleteme\")\n",
    "    df = df.loc[textmask]\n",
    "    \n",
    "    #Remove a pontuação e maiusculas\n",
    "    df[\"Texto\"] = df.apply(lambda row : Remove_punct(row['Texto']), axis = 1)\n",
    "\n",
    "    #Exporta os dados filtrados\n",
    "    df.to_csv(\"Tweets_Filtered/{0}\".format(DatatoF[i]+\".csv\"), sep=\";\", encoding='utf-16', index=False)\n",
    "    print(\"Done {0}\".format(DatatoF[i]))\n",
    "    print(\"---\")"
   ]
  },
  {
   "cell_type": "markdown",
   "metadata": {},
   "source": [
    "## Manual Check\n",
    "<a id='Check'></a>"
   ]
  },
  {
   "cell_type": "code",
   "execution_count": 7,
   "metadata": {},
   "outputs": [
    {
     "data": {
      "text/html": [
       "<div>\n",
       "<style scoped>\n",
       "    .dataframe tbody tr th:only-of-type {\n",
       "        vertical-align: middle;\n",
       "    }\n",
       "\n",
       "    .dataframe tbody tr th {\n",
       "        vertical-align: top;\n",
       "    }\n",
       "\n",
       "    .dataframe thead th {\n",
       "        text-align: right;\n",
       "    }\n",
       "</style>\n",
       "<table border=\"1\" class=\"dataframe\">\n",
       "  <thead>\n",
       "    <tr style=\"text-align: right;\">\n",
       "      <th></th>\n",
       "      <th>Pessoa</th>\n",
       "      <th>Data</th>\n",
       "      <th>Texto</th>\n",
       "      <th>Retweets</th>\n",
       "      <th>Likes</th>\n",
       "      <th>URL</th>\n",
       "    </tr>\n",
       "  </thead>\n",
       "  <tbody>\n",
       "    <tr>\n",
       "      <th>0</th>\n",
       "      <td>UOLEconomia</td>\n",
       "      <td>2019-04-30 19:34:09</td>\n",
       "      <td>levantamento aponta que número de novas empres...</td>\n",
       "      <td>0</td>\n",
       "      <td>4</td>\n",
       "      <td>1</td>\n",
       "    </tr>\n",
       "    <tr>\n",
       "      <th>1</th>\n",
       "      <td>UOLEconomia</td>\n",
       "      <td>2019-04-30 19:29:19</td>\n",
       "      <td>prazo para apresentação de emendas à previdênc...</td>\n",
       "      <td>1</td>\n",
       "      <td>5</td>\n",
       "      <td>1</td>\n",
       "    </tr>\n",
       "    <tr>\n",
       "      <th>2</th>\n",
       "      <td>UOLEconomia</td>\n",
       "      <td>2019-04-30 18:53:38</td>\n",
       "      <td>funcionários da petrobras no uruguai iniciam g...</td>\n",
       "      <td>1</td>\n",
       "      <td>11</td>\n",
       "      <td>1</td>\n",
       "    </tr>\n",
       "    <tr>\n",
       "      <th>3</th>\n",
       "      <td>UOLEconomia</td>\n",
       "      <td>2019-04-30 18:14:34</td>\n",
       "      <td>latam airlines anuncia três novos voos interna...</td>\n",
       "      <td>0</td>\n",
       "      <td>5</td>\n",
       "      <td>1</td>\n",
       "    </tr>\n",
       "    <tr>\n",
       "      <th>4</th>\n",
       "      <td>UOLEconomia</td>\n",
       "      <td>2019-04-30 18:09:16</td>\n",
       "      <td>para ibge mercado de trabalho permanece sem fô...</td>\n",
       "      <td>3</td>\n",
       "      <td>5</td>\n",
       "      <td>1</td>\n",
       "    </tr>\n",
       "  </tbody>\n",
       "</table>\n",
       "</div>"
      ],
      "text/plain": [
       "        Pessoa                Data  \\\n",
       "0  UOLEconomia 2019-04-30 19:34:09   \n",
       "1  UOLEconomia 2019-04-30 19:29:19   \n",
       "2  UOLEconomia 2019-04-30 18:53:38   \n",
       "3  UOLEconomia 2019-04-30 18:14:34   \n",
       "4  UOLEconomia 2019-04-30 18:09:16   \n",
       "\n",
       "                                               Texto  Retweets  Likes  URL  \n",
       "0  levantamento aponta que número de novas empres...         0      4    1  \n",
       "1  prazo para apresentação de emendas à previdênc...         1      5    1  \n",
       "2  funcionários da petrobras no uruguai iniciam g...         1     11    1  \n",
       "3  latam airlines anuncia três novos voos interna...         0      5    1  \n",
       "4  para ibge mercado de trabalho permanece sem fô...         3      5    1  "
      ]
     },
     "execution_count": 7,
     "metadata": {},
     "output_type": "execute_result"
    }
   ],
   "source": [
    "df.head(5)"
   ]
  }
 ],
 "metadata": {
  "kernelspec": {
   "display_name": "Python 3",
   "language": "python",
   "name": "python3"
  },
  "language_info": {
   "codemirror_mode": {
    "name": "ipython",
    "version": 3
   },
   "file_extension": ".py",
   "mimetype": "text/x-python",
   "name": "python",
   "nbconvert_exporter": "python",
   "pygments_lexer": "ipython3",
   "version": "3.7.3"
  }
 },
 "nbformat": 4,
 "nbformat_minor": 2
}
